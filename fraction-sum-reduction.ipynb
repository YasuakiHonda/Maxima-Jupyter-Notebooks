{
 "cells": [
  {
   "cell_type": "code",
   "execution_count": 1,
   "metadata": {},
   "outputs": [
    {
     "data": {
      "text/latex": [
       "\\[\\tag{${\\it \\%o}_{1}$}\\left[ \\mbox{ /root/quicklisp/dists/quicklisp/archives/padics-master.gz } , \\mbox{ /root/quicklisp/local-projects/YasuakiHonda-padics-cd9aefa/ } \\right] \\]"
      ],
      "text/plain": [
       "(%o1) [/root/quicklisp/dists/quicklisp/archives/padics-master.gz, \n",
       "                   /root/quicklisp/local-projects/YasuakiHonda-padics-cd9aefa/]"
      ],
      "text/x-maxima": [
       "[\"/root/quicklisp/dists/quicklisp/archives/padics-master.gz\",\n",
       " \"/root/quicklisp/local-projects/YasuakiHonda-padics-cd9aefa/\"]"
      ]
     },
     "execution_count": 1,
     "metadata": {},
     "output_type": "execute_result"
    }
   ],
   "source": [
    "install_github(\"YasuakiHonda\",\"padics\",\"master\");"
   ]
  },
  {
   "cell_type": "code",
   "execution_count": 2,
   "metadata": {},
   "outputs": [
    {
     "data": {
      "text/latex": [
       "\\[\\tag{${\\it \\%o}_{2}$}\\#<LOAD-SOURCE-OP >\\]"
      ],
      "text/plain": [
       "(%o2)                         #<LOAD-SOURCE-OP >"
      ],
      "text/x-maxima": [
       "\\#\\<LOAD\\-SOURCE\\-OP\\ \\>"
      ]
     },
     "execution_count": 2,
     "metadata": {},
     "output_type": "execute_result"
    }
   ],
   "source": [
    "asdf_load_source(\"padics\");"
   ]
  },
  {
   "cell_type": "code",
   "execution_count": 3,
   "metadata": {},
   "outputs": [
    {
     "data": {
      "text/latex": [
       "\\[\\tag{${\\it \\%o}_{3}$}\\frac{11}{21}\\]"
      ],
      "text/plain": [
       "                                      11\n",
       "(%o3)                                 --\n",
       "                                      21"
      ],
      "text/x-maxima": [
       "11/21"
      ]
     },
     "execution_count": 3,
     "metadata": {},
     "output_type": "execute_result"
    }
   ],
   "source": [
    "4/15+9/35;"
   ]
  },
  {
   "cell_type": "code",
   "execution_count": 43,
   "metadata": {},
   "outputs": [
    {
     "data": {
      "text/latex": [
       "\\[\\tag{${\\it \\%o}_{43}$}\\left[ -1 , -1 \\right] \\]"
      ],
      "text/plain": [
       "(%o43)                            [- 1, - 1]"
      ],
      "text/x-maxima": [
       "[-1,-1]"
      ]
     },
     "execution_count": 43,
     "metadata": {},
     "output_type": "execute_result"
    }
   ],
   "source": [
    "[padic_order(4/15,5),padic_order(9/35,5)];"
   ]
  },
  {
   "cell_type": "code",
   "execution_count": 45,
   "metadata": {},
   "outputs": [
    {
     "data": {
      "text/latex": [
       "\\[\\tag{${\\it \\%o}_{45}$}\\left[ \\left[ \\left[ -1 \\right]  , 3 , 3 , 1 , 3 , 1 , 3 \\right]  , \\left[ \\left[ -1 \\right]  , 2 , 2 , 1 , 4 , 2 , 3 \\right]  \\right] \\]"
      ],
      "text/plain": [
       "(%o45)      [[[- 1], 3, 3, 1, 3, 1, 3], [[- 1], 2, 2, 1, 4, 2, 3]]"
      ],
      "text/x-maxima": [
       "[[[-1],3,3,1,3,1,3],[[-1],2,2,1,4,2,3]]"
      ]
     },
     "execution_count": 45,
     "metadata": {},
     "output_type": "execute_result"
    }
   ],
   "source": [
    "[hensel(4/15,5,6),hensel(9/35,5,6)];"
   ]
  },
  {
   "cell_type": "code",
   "execution_count": 56,
   "metadata": {},
   "outputs": [
    {
     "data": {
      "text/latex": [
       "\\[\\tag{${\\it \\%o}_{54}$}\\left[ \\left[ \\left[ -1 \\right]  , 3 \\right]  , \\left[ \\left[ -1 \\right]  , 2 \\right]  \\right] \\]"
      ],
      "text/plain": [
       "(%o54)                     [[[- 1], 3], [[- 1], 2]]"
      ],
      "text/x-maxima": [
       "[[[-1],3],[[-1],2]]"
      ]
     },
     "execution_count": 56,
     "metadata": {},
     "output_type": "execute_result"
    }
   ],
   "source": [
    "[hensel(4/15,5,1),hensel(9/35,5,1)];"
   ]
  },
  {
   "cell_type": "code",
   "execution_count": 120,
   "metadata": {},
   "outputs": [
    {
     "data": {
      "text/latex": [
       "\\[\\tag{${\\it \\%o}_{115}$}\\left[ 1144 , 187 \\right] \\]"
      ],
      "text/plain": [
       "(%o115)                           [1144, 187]"
      ],
      "text/x-maxima": [
       "[1144,187]"
      ]
     },
     "execution_count": 120,
     "metadata": {},
     "output_type": "execute_result"
    }
   ],
   "source": [
    "[11*13*8,11*17];"
   ]
  },
  {
   "cell_type": "code",
   "execution_count": 80,
   "metadata": {},
   "outputs": [
    {
     "data": {
      "text/latex": [
       "\\[\\tag{${\\it \\%o}_{80}$}\\left[ \\left[ -1 \\right]  , 3 , 0 , 2 , 5 , 10 , 0 , 7 , 2 \\right] \\]"
      ],
      "text/plain": [
       "(%o80)                 [[- 1], 3, 0, 2, 5, 10, 0, 7, 2]"
      ],
      "text/x-maxima": [
       "[[-1],3,0,2,5,10,0,7,2]"
      ]
     },
     "execution_count": 80,
     "metadata": {},
     "output_type": "execute_result"
    }
   ],
   "source": [
    "hensel(191/1144,11,8);"
   ]
  },
  {
   "cell_type": "code",
   "execution_count": 78,
   "metadata": {},
   "outputs": [
    {
     "data": {
      "text/latex": [
       "\\[\\tag{${\\it \\%o}_{78}$}\\frac{13223}{53680}\\]"
      ],
      "text/plain": [
       "                                     13223\n",
       "(%o78)                               -----\n",
       "                                     53680"
      ],
      "text/x-maxima": [
       "13223/53680"
      ]
     },
     "execution_count": 78,
     "metadata": {},
     "output_type": "execute_result"
    }
   ],
   "source": [
    "hensel_to_farey([[-1],8,1,2,3,5,1,2,3,5],11);"
   ]
  },
  {
   "cell_type": "code",
   "execution_count": 79,
   "metadata": {},
   "outputs": [
    {
     "data": {
      "text/latex": [
       "\\[\\tag{${\\it \\%o}_{79}$}\\frac{26219}{63440}\\]"
      ],
      "text/plain": [
       "                                     26219\n",
       "(%o79)                               -----\n",
       "                                     63440"
      ],
      "text/x-maxima": [
       "26219/63440"
      ]
     },
     "execution_count": 79,
     "metadata": {},
     "output_type": "execute_result"
    }
   ],
   "source": [
    "191/1144+13223/53680;"
   ]
  },
  {
   "cell_type": "code",
   "execution_count": 74,
   "metadata": {},
   "outputs": [
    {
     "data": {
      "text/latex": [
       "\\[\\tag{${\\it \\%o}_{74}$}\\frac{1459}{1176}\\]"
      ],
      "text/plain": [
       "                                     1459\n",
       "(%o74)                               ----\n",
       "                                     1176"
      ],
      "text/x-maxima": [
       "1459/1176"
      ]
     },
     "execution_count": 74,
     "metadata": {},
     "output_type": "execute_result"
    }
   ],
   "source": [
    "hensel_to_farey([[-2],1,3,4,1,3,1,3,1],7);"
   ]
  },
  {
   "cell_type": "code",
   "execution_count": 75,
   "metadata": {},
   "outputs": [
    {
     "data": {
      "text/latex": [
       "\\[\\tag{${\\it \\%o}_{75}$}\\frac{757}{2352}\\]"
      ],
      "text/plain": [
       "                                     757\n",
       "(%o75)                               ----\n",
       "                                     2352"
      ],
      "text/x-maxima": [
       "757/2352"
      ]
     },
     "execution_count": 75,
     "metadata": {},
     "output_type": "execute_result"
    }
   ],
   "source": [
    "hensel_to_farey([[-2],6,3,4,1,4,1,4,1],7);"
   ]
  },
  {
   "cell_type": "code",
   "execution_count": 76,
   "metadata": {},
   "outputs": [
    {
     "data": {
      "text/latex": [
       "\\[\\tag{${\\it \\%o}_{76}$}\\frac{25}{16}\\]"
      ],
      "text/plain": [
       "                                      25\n",
       "(%o76)                                --\n",
       "                                      16"
      ],
      "text/x-maxima": [
       "25/16"
      ]
     },
     "execution_count": 76,
     "metadata": {},
     "output_type": "execute_result"
    }
   ],
   "source": [
    "1459/1176+757/2352;"
   ]
  },
  {
   "cell_type": "code",
   "execution_count": 47,
   "metadata": {},
   "outputs": [
    {
     "data": {
      "text/latex": [
       "\\[\\tag{${\\it \\%o}_{47}$}\\mbox{ /usr/local/share/maxima/5.44.0/share/simplification/functs.mac }\\]"
      ],
      "text/plain": [
       "(%o47)  /usr/local/share/maxima/5.44.0/share/simplification/functs.mac"
      ],
      "text/x-maxima": [
       "\"/usr/local/share/maxima/5.44.0/share/simplification/functs.mac\""
      ]
     },
     "execution_count": 47,
     "metadata": {},
     "output_type": "execute_result"
    }
   ],
   "source": [
    "load(\"functs\");"
   ]
  },
  {
   "cell_type": "code",
   "execution_count": 63,
   "metadata": {},
   "outputs": [
    {
     "data": {
      "text/latex": [
       "\\[\\tag{${\\it \\%o}_{63}$}2352\\]"
      ],
      "text/plain": [
       "(%o63)                               2352"
      ],
      "text/x-maxima": [
       "2352"
      ]
     },
     "execution_count": 63,
     "metadata": {},
     "output_type": "execute_result"
    }
   ],
   "source": [
    "lcm(1176,2352);"
   ]
  },
  {
   "cell_type": "code",
   "execution_count": null,
   "metadata": {},
   "outputs": [],
   "source": []
  }
 ],
 "metadata": {
  "kernelspec": {
   "display_name": "Maxima",
   "language": "maxima",
   "name": "maxima"
  },
  "language_info": {
   "codemirror_mode": "maxima",
   "file_extension": ".mac",
   "mimetype": "text/x-maxima",
   "name": "maxima",
   "pygments_lexer": "maxima",
   "version": "5.42.1"
  }
 },
 "nbformat": 4,
 "nbformat_minor": 4
}
