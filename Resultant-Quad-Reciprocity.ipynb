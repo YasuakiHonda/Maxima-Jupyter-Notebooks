{
 "cells": [
  {
   "cell_type": "markdown",
   "metadata": {},
   "source": [
    "# Resultant and Quadratic Reciprocity\n",
    "\n",
    "https://mattbaker.blog/2020/06/02/quadratic-reciprocity-via-lucas-polynomials/"
   ]
  },
  {
   "cell_type": "code",
   "execution_count": 1,
   "metadata": {},
   "outputs": [
    {
     "data": {
      "text/latex": [
       "\\[\\tag{${\\it \\%o}_{1}$}\\left[ P_{1}=\\prod_{i=1}^{m}{\\left(x-a_{i}\\right)} , P_{2}=\\prod_{j=1}^{n}{\\left(x-b_{j}\\right)} \\right] \\]"
      ],
      "text/plain": [
       "                          m                    n\n",
       "                        /===\\                /===\\\n",
       "                         ! !                  ! !\n",
       "(%o1)             [P1 =  ! !  (x - a ), P2 =  ! !  (x - b )]\n",
       "                         ! !        i         ! !        j\n",
       "                        i = 1                j = 1"
      ],
      "text/x-maxima": [
       "[P1 = 'product(x-a[i],i,1,m),P2 = 'product(x-b[j],j,1,n)]"
      ]
     },
     "execution_count": 1,
     "metadata": {},
     "output_type": "execute_result"
    }
   ],
   "source": [
    "P:[P1=product(x-a[i],i,1,m),P2=product(x-b[j],j,1,n)];"
   ]
  },
  {
   "cell_type": "code",
   "execution_count": 2,
   "metadata": {},
   "outputs": [
    {
     "data": {
      "text/latex": [
       "\\[\\tag{${\\it \\%o}_{2}$}\\prod_{j=1}^{n}{\\prod_{i=1}^{m}{\\left(a_{i}-b_{j}\\right)}}\\]"
      ],
      "text/plain": [
       "                               n     m\n",
       "                             /===\\ /===\\\n",
       "                              ! !   ! !\n",
       "(%o2)                         ! !   ! !  (a  - b )\n",
       "                              ! !   ! !    i    j\n",
       "                             j = 1 i = 1"
      ],
      "text/x-maxima": [
       "'product('product(a[i]-b[j],i,1,m),j,1,n)"
      ]
     },
     "execution_count": 2,
     "metadata": {},
     "output_type": "execute_result"
    }
   ],
   "source": [
    "product(product(a[i]-b[j],i,1,m),j,1,n);"
   ]
  },
  {
   "cell_type": "code",
   "execution_count": 3,
   "metadata": {},
   "outputs": [
    {
     "data": {
      "text/latex": [
       "\\[\\tag{${\\it \\%o}_{3}$}\\left(a_{1}-b_{1}\\right)\\,\\left(a_{2}-b_{1}\\right)\\,\\left(a_{1}-b_{2}\\right)\\,\\left(a_{2}-b_{2}\\right)\\,\\left(a_{3}-b_{1}\\right)\\,\\left(a_{3}-b_{2}\\right)\\,\\left(a_{1}-b_{3}\\right)\\,\\left(a_{2}-b_{3}\\right)\\,\\left(a_{3}-b_{3}\\right)\\,\\left(a_{1}-b_{4}\\right)\\,\\left(a_{2}-b_{4}\\right)\\,\\left(a_{3}-b_{4}\\right)\\]"
      ],
      "text/plain": [
       "(%o3) (a  - b ) (a  - b ) (a  - b ) (a  - b ) (a  - b ) (a  - b ) (a  - b )\n",
       "        1    1    2    1    1    2    2    2    3    1    3    2    1    3\n",
       "                              (a  - b ) (a  - b ) (a  - b ) (a  - b ) (a  - b )\n",
       "                                2    3    3    3    1    4    2    4    3    4"
      ],
      "text/x-maxima": [
       "(a[1]-b[1])*(a[2]-b[1])*(a[1]-b[2])*(a[2]-b[2])*(a[3]-b[1])*(a[3]-b[2])\n",
       "           *(a[1]-b[3])*(a[2]-b[3])*(a[3]-b[3])*(a[1]-b[4])*(a[2]-b[4])\n",
       "           *(a[3]-b[4])"
      ]
     },
     "execution_count": 3,
     "metadata": {},
     "output_type": "execute_result"
    }
   ],
   "source": [
    "%,m=3,n=4,nouns;"
   ]
  },
  {
   "cell_type": "code",
   "execution_count": 4,
   "metadata": {},
   "outputs": [
    {
     "data": {
      "text/latex": [
       "\\[\\tag{${\\it \\%o}_{4}$}\\left(a_{1}-b_{1}\\right)\\,\\left(a_{2}-b_{1}\\right)\\,\\left(a_{1}-b_{2}\\right)\\,\\left(a_{2}-b_{2}\\right)\\,\\left(a_{3}-b_{1}\\right)\\,\\left(a_{3}-b_{2}\\right)\\,\\left(a_{1}-b_{3}\\right)\\,\\left(a_{2}-b_{3}\\right)\\,\\left(a_{3}-b_{3}\\right)\\,\\left(a_{1}-b_{4}\\right)\\,\\left(a_{2}-b_{4}\\right)\\,\\left(a_{3}-b_{4}\\right)\\]"
      ],
      "text/plain": [
       "(%o4) (a  - b ) (a  - b ) (a  - b ) (a  - b ) (a  - b ) (a  - b ) (a  - b )\n",
       "        1    1    2    1    1    2    2    2    3    1    3    2    1    3\n",
       "                              (a  - b ) (a  - b ) (a  - b ) (a  - b ) (a  - b )\n",
       "                                2    3    3    3    1    4    2    4    3    4"
      ],
      "text/x-maxima": [
       "(a[1]-b[1])*(a[2]-b[1])*(a[1]-b[2])*(a[2]-b[2])*(a[3]-b[1])*(a[3]-b[2])\n",
       "           *(a[1]-b[3])*(a[2]-b[3])*(a[3]-b[3])*(a[1]-b[4])*(a[2]-b[4])\n",
       "           *(a[3]-b[4])"
      ]
     },
     "execution_count": 4,
     "metadata": {},
     "output_type": "execute_result"
    }
   ],
   "source": [
    "resultant(product((x-a[i]),i,1,3),product((x-b[i]),i,1,4),x);"
   ]
  },
  {
   "cell_type": "code",
   "execution_count": 5,
   "metadata": {},
   "outputs": [
    {
     "data": {
      "text/latex": [
       "\\[\\tag{${\\it \\%o}_{5}$}c+a\\,b-a^3\\]"
      ],
      "text/plain": [
       "                                            3\n",
       "(%o5)                            c + a b - a"
      ],
      "text/x-maxima": [
       "c+a*b-a^3"
      ]
     },
     "execution_count": 5,
     "metadata": {},
     "output_type": "execute_result"
    }
   ],
   "source": [
    "res13:resultant(x+a,x^3-b*x+c,x),expand;"
   ]
  },
  {
   "cell_type": "code",
   "execution_count": 6,
   "metadata": {},
   "outputs": [
    {
     "data": {
      "text/latex": [
       "\\[\\tag{${\\it \\%o}_{6}$}2\\]"
      ],
      "text/plain": [
       "(%o6)                                  2"
      ],
      "text/x-maxima": [
       "2"
      ]
     },
     "execution_count": 6,
     "metadata": {},
     "output_type": "execute_result"
    }
   ],
   "source": [
    "res13, [a=2,b=3,c=4];"
   ]
  },
  {
   "cell_type": "code",
   "execution_count": 7,
   "metadata": {},
   "outputs": [
    {
     "data": {
      "text/latex": [
       "\\[\\tag{${\\it \\%o}_{7}$}24\\]"
      ],
      "text/plain": [
       "(%o7)                                 24"
      ],
      "text/x-maxima": [
       "24"
      ]
     },
     "execution_count": 7,
     "metadata": {},
     "output_type": "execute_result"
    }
   ],
   "source": [
    "res13, [a=2,b=3,c=26];"
   ]
  },
  {
   "cell_type": "code",
   "execution_count": 8,
   "metadata": {},
   "outputs": [
    {
     "data": {
      "text/latex": [
       "\\[\\tag{${\\it \\%o}_{8}$}\\left[ 2 , 2 \\right] \\]"
      ],
      "text/plain": [
       "(%o8)                               [2, 2]"
      ],
      "text/x-maxima": [
       "[2,2]"
      ]
     },
     "execution_count": 8,
     "metadata": {},
     "output_type": "execute_result"
    }
   ],
   "source": [
    "[mod(2,11),mod(24,11)];"
   ]
  },
  {
   "cell_type": "code",
   "execution_count": 9,
   "metadata": {},
   "outputs": [
    {
     "data": {
      "text/latex": [
       "\\[\\tag{${\\it \\%o}_{9}$}\\prod_{j=1}^{n}{\\left(x-b_{j}\\right)}\\]"
      ],
      "text/plain": [
       "                                  n\n",
       "                                /===\\\n",
       "                                 ! !\n",
       "(%o9)                            ! !  (x - b )\n",
       "                                 ! !        j\n",
       "                                j = 1"
      ],
      "text/x-maxima": [
       "'product(x-b[j],j,1,n)"
      ]
     },
     "execution_count": 9,
     "metadata": {},
     "output_type": "execute_result"
    }
   ],
   "source": [
    "P2,P;"
   ]
  },
  {
   "cell_type": "code",
   "execution_count": 10,
   "metadata": {},
   "outputs": [
    {
     "data": {
      "text/latex": [
       "\\[\\tag{${\\it \\%o}_{10}$}\\prod_{i=1}^{m}{\\prod_{j=1}^{n}{\\left(a_{i}-b_{j}\\right)}}\\]"
      ],
      "text/plain": [
       "                               m     n\n",
       "                             /===\\ /===\\\n",
       "                              ! !   ! !\n",
       "(%o10)                        ! !   ! !  (a  - b )\n",
       "                              ! !   ! !    i    j\n",
       "                             i = 1 j = 1"
      ],
      "text/x-maxima": [
       "'product('product(a[i]-b[j],j,1,n),i,1,m)"
      ]
     },
     "execution_count": 10,
     "metadata": {},
     "output_type": "execute_result"
    }
   ],
   "source": [
    "product(ev(P2,P,x=a[i],eval),i,1,m);"
   ]
  },
  {
   "cell_type": "code",
   "execution_count": 11,
   "metadata": {},
   "outputs": [
    {
     "data": {
      "text/latex": [
       "\\[\\tag{${\\it \\%o}_{11}$}-c-a\\,b+a^3\\]"
      ],
      "text/plain": [
       "                                              3\n",
       "(%o11)                         (- c) - a b + a"
      ],
      "text/x-maxima": [
       "(-c)-a*b+a^3"
      ]
     },
     "execution_count": 11,
     "metadata": {},
     "output_type": "execute_result"
    }
   ],
   "source": [
    "resultant(x^3-b*x+c,x+a,x),expand;"
   ]
  },
  {
   "cell_type": "code",
   "execution_count": 12,
   "metadata": {},
   "outputs": [
    {
     "data": {
      "text/latex": [
       "\\[\\tag{${\\it \\%o}_{12}$}{\\it resultant}\\left(f\\left(x\\right) , g\\left(x\\right) , x\\right)=\\left(-1\\right)^{{\\it hipow}\\left(f\\left(x\\right) , x\\right)\\,{\\it hipow}\\left(g\\left(x\\right) , x\\right)}\\,{\\it resultant}\\left(g\\left(x\\right) , f\\left(x\\right) , x\\right)\\]"
      ],
      "text/plain": [
       "                                       hipow(f(x), x) hipow(g(x), x)\n",
       "(%o12) resultant(f(x), g(x), x) = (- 1)\n",
       "                                                       resultant(g(x), f(x), x)"
      ],
      "text/x-maxima": [
       "'resultant(f(x),g(x),x) = (-1)^('hipow(f(x),x)*'hipow(g(x),x))\n",
       "                        *'resultant(g(x),f(x),x)"
      ]
     },
     "execution_count": 12,
     "metadata": {},
     "output_type": "execute_result"
    }
   ],
   "source": [
    "'resultant(f(x),g(x),x)=(-1)^('hipow(f(x),x)*'hipow(g(x),x))*'resultant(g(x),f(x),x);"
   ]
  },
  {
   "cell_type": "code",
   "execution_count": 13,
   "metadata": {},
   "outputs": [
    {
     "data": {
      "text/latex": [
       "\\[\\tag{${\\it \\%o}_{13}$}{\\it resultant}\\left(F_{p}(x) , F_{q}(x)\\right)={\\it jacobi}\\left(p , q\\right)\\]"
      ],
      "text/plain": [
       "(%o13)              resultant(F (x), F (x)) = jacobi(p, q)\n",
       "                               p      q"
      ],
      "text/x-maxima": [
       "'resultant(F[p](x),F[q](x)) = jacobi(p,q)"
      ]
     },
     "execution_count": 13,
     "metadata": {},
     "output_type": "execute_result"
    }
   ],
   "source": [
    "'resultant(F[p](x),F[q](x))=jacobi(p,q);"
   ]
  },
  {
   "cell_type": "code",
   "execution_count": 14,
   "metadata": {},
   "outputs": [
    {
     "data": {
      "text/latex": [
       "\\[\\tag{${\\it \\%o}_{14}$}{\\it hipow}\\left(F_{n}(x) , x\\right)=\\frac{n-1}{2}\\]"
      ],
      "text/plain": [
       "                                              n - 1\n",
       "(%o14)                      hipow(F (x), x) = -----\n",
       "                                   n            2"
      ],
      "text/x-maxima": [
       "'hipow(F[n](x),x) = (n-1)/2"
      ]
     },
     "execution_count": 14,
     "metadata": {},
     "output_type": "execute_result"
    }
   ],
   "source": [
    "'hipow(F[n](x),x)=(n-1)/2;"
   ]
  },
  {
   "cell_type": "code",
   "execution_count": null,
   "metadata": {},
   "outputs": [],
   "source": []
  }
 ],
 "metadata": {
  "kernelspec": {
   "display_name": "Maxima",
   "language": "maxima",
   "name": "maxima"
  },
  "language_info": {
   "codemirror_mode": "maxima",
   "file_extension": ".mac",
   "mimetype": "text/x-maxima",
   "name": "maxima",
   "pygments_lexer": "maxima",
   "version": "5.42.1"
  }
 },
 "nbformat": 4,
 "nbformat_minor": 4
}
