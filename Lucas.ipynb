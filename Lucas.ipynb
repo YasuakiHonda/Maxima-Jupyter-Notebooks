{
 "cells": [
  {
   "cell_type": "markdown",
   "metadata": {},
   "source": [
    "# Explicit coefficients of Lucas Polynomials\n",
    "Yasuaki dot Honda at gmail dot com\n",
    "\n",
    "Lucas Polynomials are defined using a recurrence relation and initial values. Then, the explicit coefficients of the Lucas Polynomials are given a pri ori and we prove polynomials with such coefficients satisfy the original recurrence relation."
   ]
  },
  {
   "cell_type": "code",
   "execution_count": 1,
   "metadata": {},
   "outputs": [
    {
     "data": {
      "text/latex": [
       "\\[\\tag{${\\it \\%o}_{1}$}{\\it LP}_{0}(x):=2\\]"
      ],
      "text/plain": [
       "(%o1)                             LP (x) := 2\n",
       "                                    0"
      ],
      "text/x-maxima": [
       "LP[0](x):=2"
      ]
     },
     "execution_count": 1,
     "metadata": {},
     "output_type": "execute_result"
    }
   ],
   "source": [
    "LP[0](x):=2;"
   ]
  },
  {
   "cell_type": "code",
   "execution_count": 2,
   "metadata": {},
   "outputs": [
    {
     "data": {
      "text/latex": [
       "\\[\\tag{${\\it \\%o}_{2}$}{\\it LP}_{1}(x):=x\\]"
      ],
      "text/plain": [
       "(%o2)                             LP (x) := x\n",
       "                                    1"
      ],
      "text/x-maxima": [
       "LP[1](x):=x"
      ]
     },
     "execution_count": 2,
     "metadata": {},
     "output_type": "execute_result"
    }
   ],
   "source": [
    "LP[1](x):=x;"
   ]
  },
  {
   "cell_type": "code",
   "execution_count": 3,
   "metadata": {},
   "outputs": [
    {
     "data": {
      "text/latex": [
       "\\[\\tag{${\\it \\%o}_{3}$}{\\it LP}_{n}(x):=x\\,{\\it LP}_{n-1}(x)+{\\it LP}_{n-2}(x)\\]"
      ],
      "text/plain": [
       "(%o3)                 LP (x) := x LP     (x) + LP     (x)\n",
       "                        n           n - 1        n - 2"
      ],
      "text/x-maxima": [
       "LP[n](x):=x*LP[n-1](x)+LP[n-2](x)"
      ]
     },
     "execution_count": 3,
     "metadata": {},
     "output_type": "execute_result"
    }
   ],
   "source": [
    "LP[n](x):=x*LP[n-1](x)+LP[n-2](x);"
   ]
  },
  {
   "cell_type": "code",
   "execution_count": 4,
   "metadata": {},
   "outputs": [
    {
     "data": {
      "text/latex": [
       "\\({\\it LP}_{1}(x)=x\\)"
      ],
      "text/plain": [
       "inline-value"
      ]
     },
     "metadata": {},
     "output_type": "display_data"
    },
    {
     "data": {
      "text/latex": [
       "\\({\\it LP}_{2}(x)=x^2+2\\)"
      ],
      "text/plain": [
       "inline-value"
      ]
     },
     "metadata": {},
     "output_type": "display_data"
    },
    {
     "data": {
      "text/latex": [
       "\\({\\it LP}_{3}(x)=x^3+3\\,x\\)"
      ],
      "text/plain": [
       "inline-value"
      ]
     },
     "metadata": {},
     "output_type": "display_data"
    },
    {
     "data": {
      "text/latex": [
       "\\({\\it LP}_{4}(x)=x^4+4\\,x^2+2\\)"
      ],
      "text/plain": [
       "inline-value"
      ]
     },
     "metadata": {},
     "output_type": "display_data"
    },
    {
     "data": {
      "text/latex": [
       "\\({\\it LP}_{5}(x)=x^5+5\\,x^3+5\\,x\\)"
      ],
      "text/plain": [
       "inline-value"
      ]
     },
     "metadata": {},
     "output_type": "display_data"
    },
    {
     "data": {
      "text/latex": [
       "\\({\\it LP}_{6}(x)=x^6+6\\,x^4+9\\,x^2+2\\)"
      ],
      "text/plain": [
       "inline-value"
      ]
     },
     "metadata": {},
     "output_type": "display_data"
    },
    {
     "data": {
      "text/latex": [
       "\\({\\it LP}_{7}(x)=x^7+7\\,x^5+14\\,x^3+7\\,x\\)"
      ],
      "text/plain": [
       "inline-value"
      ]
     },
     "metadata": {},
     "output_type": "display_data"
    },
    {
     "data": {
      "text/latex": [
       "\\({\\it LP}_{8}(x)=x^8+8\\,x^6+20\\,x^4+16\\,x^2+2\\)"
      ],
      "text/plain": [
       "inline-value"
      ]
     },
     "metadata": {},
     "output_type": "display_data"
    },
    {
     "data": {
      "text/latex": [
       "\\({\\it LP}_{9}(x)=x^9+9\\,x^7+27\\,x^5+30\\,x^3+9\\,x\\)"
      ],
      "text/plain": [
       "inline-value"
      ]
     },
     "metadata": {},
     "output_type": "display_data"
    },
    {
     "data": {
      "text/latex": [
       "\\({\\it LP}_{10}(x)=x^{10}+10\\,x^8+35\\,x^6+50\\,x^4+25\\,x^2+2\\)"
      ],
      "text/plain": [
       "inline-value"
      ]
     },
     "metadata": {},
     "output_type": "display_data"
    },
    {
     "data": {
      "text/latex": [
       "\\({\\it LP}_{11}(x)=x^{11}+11\\,x^9+44\\,x^7+77\\,x^5+55\\,x^3+11\\,x\\)"
      ],
      "text/plain": [
       "inline-value"
      ]
     },
     "metadata": {},
     "output_type": "display_data"
    },
    {
     "data": {
      "text/latex": [
       "\\({\\it LP}_{12}(x)=x^{12}+12\\,x^{10}+54\\,x^8+112\\,x^6+105\\,x^4+36\\,x^2+2\\)"
      ],
      "text/plain": [
       "inline-value"
      ]
     },
     "metadata": {},
     "output_type": "display_data"
    },
    {
     "data": {
      "text/latex": [
       "\\[\\tag{${\\it \\%o}_{4}$}\\mathbf{done}\\]"
      ],
      "text/plain": [
       "(%o4)                                done"
      ],
      "text/x-maxima": [
       "done"
      ]
     },
     "execution_count": 4,
     "metadata": {},
     "output_type": "execute_result"
    }
   ],
   "source": [
    "for n:1 thru 12 do print(expand('LP[n](x)=LP[n](x)));"
   ]
  },
  {
   "cell_type": "code",
   "execution_count": 145,
   "metadata": {},
   "outputs": [
    {
     "data": {
      "text/latex": [
       "\\[\\tag{${\\it \\%o}_{142}$}{\\it GLP}_{n}(x):={\\it intosum}\\left({\\it sum}\\left(\\frac{n}{n-k}\\,{{n-k}\\choose{k}}\\,x^{n-2\\,k} , k , 0 , \\left \\lfloor \\frac{n}{2} \\right \\rfloor\\right)\\right)\\]"
      ],
      "text/plain": [
       "(%o142) GLP[n](x):=intosum(sum((n/(n-k))*binomial(n-k,k)*x^(n-2*k),k,0,\n",
       "                               floor(n/2)))"
      ],
      "text/x-maxima": [
       "GLP[n](x):=intosum(sum((n/(n-k))*binomial(n-k,k)*x^(n-2*k),k,0,floor(n/2)))"
      ]
     },
     "execution_count": 145,
     "metadata": {},
     "output_type": "execute_result"
    }
   ],
   "source": [
    "GLP[n](x):=intosum(sum(n/(n-k)*binomial(n-k,k)*x^(n-2*k),k,0,floor(n/2)));"
   ]
  },
  {
   "cell_type": "code",
   "execution_count": 146,
   "metadata": {},
   "outputs": [
    {
     "data": {
      "text/latex": [
       "\\[\\tag{${\\it \\%o}_{143}$}{\\it GLP}_{n}(x)=n\\,\\sum_{k=0}^{\\left \\lfloor \\frac{n}{2} \\right \\rfloor}{\\frac{{{n-k}\\choose{k}}\\,x^{n-2\\,k}}{n-k}}\\]"
      ],
      "text/plain": [
       "(%o143) 'GLP[n](x) = n*'sum((binomial(n-k,k)*x^(n-2*k))/(n-k),k,0,floor(n/2))"
      ],
      "text/x-maxima": [
       "'GLP[n](x) = n*'sum((binomial(n-k,k)*x^(n-2*k))/(n-k),k,0,floor(n/2))"
      ]
     },
     "execution_count": 146,
     "metadata": {},
     "output_type": "execute_result"
    }
   ],
   "source": [
    "'GLP[n](x)=GLP[n](x);"
   ]
  },
  {
   "cell_type": "code",
   "execution_count": 148,
   "metadata": {},
   "outputs": [
    {
     "data": {
      "text/latex": [
       "\\(x\\)"
      ],
      "text/plain": [
       "inline-value"
      ]
     },
     "metadata": {},
     "output_type": "display_data"
    },
    {
     "data": {
      "text/latex": [
       "\\(x^2+2\\)"
      ],
      "text/plain": [
       "inline-value"
      ]
     },
     "metadata": {},
     "output_type": "display_data"
    },
    {
     "data": {
      "text/latex": [
       "\\(x^3+3\\,x\\)"
      ],
      "text/plain": [
       "inline-value"
      ]
     },
     "metadata": {},
     "output_type": "display_data"
    },
    {
     "data": {
      "text/latex": [
       "\\(x^4+4\\,x^2+2\\)"
      ],
      "text/plain": [
       "inline-value"
      ]
     },
     "metadata": {},
     "output_type": "display_data"
    },
    {
     "data": {
      "text/latex": [
       "\\(x^5+5\\,x^3+5\\,x\\)"
      ],
      "text/plain": [
       "inline-value"
      ]
     },
     "metadata": {},
     "output_type": "display_data"
    },
    {
     "data": {
      "text/latex": [
       "\\(x^6+6\\,x^4+9\\,x^2+2\\)"
      ],
      "text/plain": [
       "inline-value"
      ]
     },
     "metadata": {},
     "output_type": "display_data"
    },
    {
     "data": {
      "text/latex": [
       "\\(x^7+7\\,x^5+14\\,x^3+7\\,x\\)"
      ],
      "text/plain": [
       "inline-value"
      ]
     },
     "metadata": {},
     "output_type": "display_data"
    },
    {
     "data": {
      "text/latex": [
       "\\(x^8+8\\,x^6+20\\,x^4+16\\,x^2+2\\)"
      ],
      "text/plain": [
       "inline-value"
      ]
     },
     "metadata": {},
     "output_type": "display_data"
    },
    {
     "data": {
      "text/latex": [
       "\\(x^9+9\\,x^7+27\\,x^5+30\\,x^3+9\\,x\\)"
      ],
      "text/plain": [
       "inline-value"
      ]
     },
     "metadata": {},
     "output_type": "display_data"
    },
    {
     "data": {
      "text/latex": [
       "\\(x^{10}+10\\,x^8+35\\,x^6+50\\,x^4+25\\,x^2+2\\)"
      ],
      "text/plain": [
       "inline-value"
      ]
     },
     "metadata": {},
     "output_type": "display_data"
    },
    {
     "data": {
      "text/latex": [
       "\\(x^{11}+11\\,x^9+44\\,x^7+77\\,x^5+55\\,x^3+11\\,x\\)"
      ],
      "text/plain": [
       "inline-value"
      ]
     },
     "metadata": {},
     "output_type": "display_data"
    },
    {
     "data": {
      "text/latex": [
       "\\(x^{12}+12\\,x^{10}+54\\,x^8+112\\,x^6+105\\,x^4+36\\,x^2+2\\)"
      ],
      "text/plain": [
       "inline-value"
      ]
     },
     "metadata": {},
     "output_type": "display_data"
    },
    {
     "data": {
      "text/latex": [
       "\\[\\tag{${\\it \\%o}_{145}$}\\mathbf{done}\\]"
      ],
      "text/plain": [
       "(%o145) done"
      ],
      "text/x-maxima": [
       "done"
      ]
     },
     "execution_count": 148,
     "metadata": {},
     "output_type": "execute_result"
    }
   ],
   "source": [
    "for i:1 thru 12 do print(ev(GLP[i](x),nouns,expand));"
   ]
  },
  {
   "cell_type": "code",
   "execution_count": 72,
   "metadata": {},
   "outputs": [
    {
     "data": {
      "text/latex": [
       "\\[\\tag{${\\it \\%o}_{71}$}\\frac{n\\,{{n-k}\\choose{k}}}{n-k}\\]"
      ],
      "text/plain": [
       "                             n binomial(n - k, k)\n",
       "(%o71)                       --------------------\n",
       "                                    n - k"
      ],
      "text/x-maxima": [
       "(n*binomial(n-k,k))/(n-k)"
      ]
     },
     "execution_count": 72,
     "metadata": {},
     "output_type": "execute_result"
    }
   ],
   "source": [
    "C:n/(n-k)*binomial(n-k,k);"
   ]
  },
  {
   "cell_type": "code",
   "execution_count": 75,
   "metadata": {},
   "outputs": [
    {
     "data": {
      "text/latex": [
       "\\[\\tag{${\\it \\%o}_{74}$}\\frac{\\left(n-1\\right)\\,{{n-k-1}\\choose{k}}}{n-k-1}+\\frac{\\left(n-2\\right)\\,{{n-k-1}\\choose{k-1}}}{n-k-1}\\]"
      ],
      "text/plain": [
       "       (n - 1) binomial(n - k - 1, k)   (n - 2) binomial(n - k - 1, k - 1)\n",
       "(%o74) ------------------------------ + ----------------------------------\n",
       "                 n - k - 1                          n - k - 1"
      ],
      "text/x-maxima": [
       "((n-1)*binomial(n-k-1,k))/(n-k-1)+((n-2)*binomial(n-k-1,k-1))/(n-k-1)"
      ]
     },
     "execution_count": 75,
     "metadata": {},
     "output_type": "execute_result"
    }
   ],
   "source": [
    "subst(n-1,n,C)+subst(k-1,k,subst(n-2,n,C));"
   ]
  },
  {
   "cell_type": "code",
   "execution_count": 79,
   "metadata": {},
   "outputs": [
    {
     "data": {
      "text/latex": [
       "\\[\\tag{${\\it \\%o}_{78}$}\\frac{n\\,{{n-k}\\choose{k}}}{n-k}-\\frac{\\left(n-1\\right)\\,{{n-k-1}\\choose{k}}}{n-k-1}-\\frac{\\left(n-2\\right)\\,{{n-k-1}\\choose{k-1}}}{n-k-1}\\]"
      ],
      "text/plain": [
       "       n binomial(n - k, k)   (n - 1) binomial(n - k - 1, k)\n",
       "(%o78) -------------------- - ------------------------------\n",
       "              n - k                     n - k - 1\n",
       "                                             (n - 2) binomial(n - k - 1, k - 1)\n",
       "                                           - ----------------------------------\n",
       "                                                         n - k - 1"
      ],
      "text/x-maxima": [
       "(n*binomial(n-k,k))/(n-k)-((n-1)*binomial(n-k-1,k))/(n-k-1)\n",
       "                         -((n-2)*binomial(n-k-1,k-1))/(n-k-1)"
      ]
     },
     "execution_count": 79,
     "metadata": {},
     "output_type": "execute_result"
    }
   ],
   "source": [
    "rec:C-(subst(n-1,n,C)+subst(k-1,k,subst(n-2,n,C)));"
   ]
  },
  {
   "cell_type": "code",
   "execution_count": 80,
   "metadata": {},
   "outputs": [
    {
     "data": {
      "text/latex": [
       "\\[\\tag{${\\it \\%o}_{79}$}0\\]"
      ],
      "text/plain": [
       "(%o79)                                 0"
      ],
      "text/x-maxima": [
       "0"
      ]
     },
     "execution_count": 80,
     "metadata": {},
     "output_type": "execute_result"
    }
   ],
   "source": [
    "makefact(rec),factorial_expand:true,factor;"
   ]
  }
 ],
 "metadata": {
  "kernelspec": {
   "display_name": "Maxima",
   "language": "maxima",
   "name": "maxima"
  },
  "language_info": {
   "codemirror_mode": "maxima",
   "file_extension": ".mac",
   "mimetype": "text/x-maxima",
   "name": "maxima",
   "pygments_lexer": "maxima",
   "version": "5.42.1"
  }
 },
 "nbformat": 4,
 "nbformat_minor": 4
}
