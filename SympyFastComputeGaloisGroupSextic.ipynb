{
 "cells": [
  {
   "cell_type": "code",
   "execution_count": 4,
   "metadata": {},
   "outputs": [
    {
     "data": {
      "text/latex": [
       "$\\displaystyle V^{36} - 594 V^{33} + 3817020 V^{30} - 4621658580 V^{27} + 53681839403343 V^{24} - 18211982367565206 V^{21} - 1085180212869204296 V^{18} - 13609803983992558812954 V^{15} + 5973446350431128834254230 V^{12} + 2824865240114362003982956566 V^{9} + 701117836387140669697686022320 V^{6} + 94736479365305826374150945272152 V^{3} + 6572664974802667404965003570727847$"
      ],
      "text/plain": [
       "V**36 - 594*V**33 + 3817020*V**30 - 4621658580*V**27 + 53681839403343*V**24 - 18211982367565206*V**21 - 1085180212869204296*V**18 - 13609803983992558812954*V**15 + 5973446350431128834254230*V**12 + 2824865240114362003982956566*V**9 + 701117836387140669697686022320*V**6 + 94736479365305826374150945272152*V**3 + 6572664974802667404965003570727847"
      ]
     },
     "metadata": {},
     "output_type": "display_data"
    },
    {
     "data": {
      "text/latex": [
       "$\\displaystyle PermutationGroup\\left(\\left( 0\\; 3\\; 4\\; 1\\; 5\\; 2\\right), \\left( 0\\; 3\\; 5\\; 1\\; 4\\; 2\\right), \\left( 0\\; 5\\; 4\\right)\\right)$"
      ],
      "text/plain": [
       "PermutationGroup([\n",
       "    (0 3 4 1 5 2),\n",
       "    (0 3 5 1 4 2),\n",
       "    (0 5 4)])"
      ]
     },
     "metadata": {},
     "output_type": "display_data"
    },
    {
     "data": {
      "text/plain": [
       "36"
      ]
     },
     "metadata": {},
     "output_type": "display_data"
    },
    {
     "name": "stdout",
     "output_type": "stream",
     "text": [
      "CPU times: user 2min 21s, sys: 308 ms, total: 2min 22s\n",
      "Wall time: 2min 23s\n"
     ]
    }
   ],
   "source": [
    "%%time\n",
    "from sympy import *\n",
    "from sympy.abc import a, b, c, d, e, f, x, y, z, V, k\n",
    "from sympy.combinatorics import *\n",
    "\n",
    "SOLVARLIST=[a,b,c,d,e,f]\n",
    "\n",
    "# order sorted list of transitive subgroups of S5\n",
    "# generated using GAP with the following commands\n",
    "# gap> genIsTransitive := function (n) return (function(g) return IsTransitive(g,[1..n]); end); end;\n",
    "# gap> Filtered(AllSubgroups(SymmetricGroup(5)),genIsTransitive(5));\n",
    "# and a copule of syntax adjustments from GAP to Sympy\n",
    "TransitiveGroups5=[\n",
    "    PermutationGroup([ Permutation(0,2,4,1,3) ]), \n",
    "    PermutationGroup([ Permutation(0,3,4,2,1) ]), \n",
    "    PermutationGroup([ Permutation(0,1,3,4,2) ]), \n",
    "    PermutationGroup([ Permutation(0,3,4,1,2) ]), \n",
    "    PermutationGroup([ Permutation(0,3,1,2,4) ]), \n",
    "    PermutationGroup([ Permutation(0,1,4,2,3) ]), \n",
    "    PermutationGroup([ Permutation(0,2)(1,4), Permutation(0,3,2,1,4) ]), \n",
    "    PermutationGroup([ Permutation(0,2)(1,3), Permutation(0,1,4,3,2) ]), \n",
    "    PermutationGroup([ Permutation(1,3)(2,4), Permutation(0,4,3,1,2) ]), \n",
    "    PermutationGroup([ Permutation(0,3)(1,4), Permutation(0,3,4,2,1) ]), \n",
    "    PermutationGroup([ Permutation(0,3)(2,4), Permutation(0,4,2,3,1) ]), \n",
    "    PermutationGroup([ Permutation(0,3)(1,2), Permutation(0,4,3,2,1) ]), \n",
    "    PermutationGroup([ Permutation(0,1)(2,3), Permutation(0,4,2,1) ]), \n",
    "    PermutationGroup([ Permutation(1,2)(3,4), Permutation(0,3,2,1) ]), \n",
    "    PermutationGroup([ Permutation(0,4)(2,3), Permutation(1,4,3,2) ]), \n",
    "    PermutationGroup([ Permutation(0,4)(1,2), Permutation(0,4,3,1) ]), \n",
    "    PermutationGroup([ Permutation(0,1)(3,4), Permutation(0,4,3,2) ]), \n",
    "    PermutationGroup([ Permutation(0,2)(3,4), Permutation(0,1,3,2) ]), \n",
    "    PermutationGroup([ Permutation(0,3)(1,2), Permutation(1,4,3) ]), \n",
    "    PermutationGroup([ Permutation(3,4), Permutation(0,1,3,2) ])]\n",
    "\n",
    "# order sorted list of transitive subgroups of S4\n",
    "# gap> Filtered(AllSubgroups(SymmetricGroup(4)),genIsTransitive(4));\n",
    "TransitiveGroups4=[\n",
    "    PermutationGroup([ Permutation(0,3)(1,2), Permutation(0,2)(1,3) ]), \n",
    "    PermutationGroup([ Permutation(0,2,1,3), Permutation(0,1)(2,3) ]), \n",
    "    PermutationGroup([ Permutation(0,3,2,1), Permutation(0,2)(1,3) ]), \n",
    "    PermutationGroup([ Permutation(0,1,3,2), Permutation(0,3)(1,2) ]), \n",
    "    PermutationGroup([ Permutation(0,3)(1,2), Permutation(0,2)(1,3), Permutation(2,3) ]), \n",
    "    PermutationGroup([ Permutation(0,1)(2,3), Permutation(0,2)(1,3), Permutation(0,3) ]), \n",
    "    PermutationGroup([ Permutation(0,1)(2,3), Permutation(0,3)(1,2), Permutation(1,3) ]), \n",
    "    PermutationGroup([ Permutation(0,3)(1,2), Permutation(0,2)(1,3), Permutation(1,3,2) ]), \n",
    "    PermutationGroup([ Permutation(0,3)(1,2), Permutation(0,2)(1,3), Permutation(1,3,2), Permutation(2,3)])]\n",
    "\n",
    "TransitiveGroups6=[ \n",
    "    PermutationGroup([ Permutation(0,3,4)(1,5,2), Permutation(0,5)(1,3)(2,4) ]), \n",
    "    PermutationGroup([ Permutation(0,5,2)(1,3,4), Permutation(0,3)(1,5)(2,4) ]), \n",
    "    \n",
    "    PermutationGroup([ Permutation(0,3,5)(1,4,2), Permutation(0,4)(1,3)(2,5) ]), \n",
    "    PermutationGroup([ Permutation(0,4,2)(1,3,5), Permutation(0,3)(1,4)(2,5) ]), \n",
    "    \n",
    "    PermutationGroup([ Permutation(0,3,4)(1,2,5), Permutation(0,1)(2,4)(3,5) ]), \n",
    "    PermutationGroup([ Permutation(0,2,5)(1,3,4), Permutation(0,1)(2,4)(3,5) ]), \n",
    "    \n",
    "    PermutationGroup([ Permutation(0,5,4)(1,2,3), Permutation(0,3)(1,4)(2,5) ]), \n",
    "    PermutationGroup([ Permutation(0,2,3)(1,5,4), Permutation(0,4)(1,3)(2,5) ]), \n",
    "    \n",
    "    PermutationGroup([ Permutation(0,3,5)(1,2,4), Permutation(0,4)(1,5)(2,3) ]), \n",
    "    PermutationGroup([ Permutation(0,2,4)(1,3,5), Permutation(0,5)(1,4)(2,3) ]), \n",
    "    \n",
    "    PermutationGroup([ Permutation(0,4,5)(1,2,3), Permutation(0,3)(1,5)(2,4) ]), \n",
    "    PermutationGroup([ Permutation(0,2,3)(1,4,5), Permutation(0,5)(1,3)(2,4) ]), \n",
    "    \n",
    "    PermutationGroup([ Permutation(0,1,2)(3,4,5), Permutation(0,4)(1,3)(2,5) ]), \n",
    "    PermutationGroup([ Permutation(0,2,1)(3,4,5), Permutation(0,3)(1,4)(2,5) ]), \n",
    "    \n",
    "    PermutationGroup([ Permutation(0,1,3)(2,4,5), Permutation(0,4)(1,2)(3,5) ]), \n",
    "    PermutationGroup([ Permutation(0,3,1)(2,4,5), Permutation(0,2)(1,4)(3,5) ]), \n",
    "    \n",
    "    PermutationGroup([ Permutation(0,4,1)(2,5,3), Permutation(0,5)(1,3)(2,4) ]), \n",
    "    PermutationGroup([ Permutation(0,1,4)(2,5,3), Permutation(0,3)(1,5)(2,4) ]), \n",
    "    \n",
    "    PermutationGroup([ Permutation(0,1,5)(2,3,4), Permutation(0,4)(1,3)(2,5) ]), \n",
    "    PermutationGroup([ Permutation(0,5,1)(2,3,4), Permutation(0,3)(1,4)(2,5) ]), \n",
    "    PermutationGroup([ Permutation(0,5,2,1,4,3) ]), \n",
    "    \n",
    "    PermutationGroup([ Permutation(0,2,4,1,3,5) ]), \n",
    "    PermutationGroup([ Permutation(0,4,3,1,5,2) ]), \n",
    "    PermutationGroup([ Permutation(0,3,5,1,2,4) ]), \n",
    "    PermutationGroup([ Permutation(0,5,2,1,3,4) ]), \n",
    "    \n",
    "    PermutationGroup([ Permutation(0,2,3,1,4,5) ]), \n",
    "    PermutationGroup([ Permutation(0,3,4,1,5,2) ]), \n",
    "    PermutationGroup([ Permutation(0,4,5,1,2,3) ]), \n",
    "    PermutationGroup([ Permutation(0,4,2,1,3,5) ]), \n",
    "    \n",
    "    PermutationGroup([ Permutation(0,2,3,1,5,4) ]), \n",
    "    PermutationGroup([ Permutation(0,3,5,1,4,2) ]), \n",
    "    PermutationGroup([ Permutation(0,5,4,1,2,3) ]), \n",
    "    PermutationGroup([ Permutation(0,5,1,3,2,4) ]), \n",
    "    \n",
    "    PermutationGroup([ Permutation(0,3,1,4,2,5) ]), \n",
    "    PermutationGroup([ Permutation(0,4,1,5,2,3) ]), \n",
    "    PermutationGroup([ Permutation(0,5,2,3,1,4) ]), \n",
    "    PermutationGroup([ Permutation(0,4,2,5,1,3) ]), \n",
    "    \n",
    "    PermutationGroup([ Permutation(0,3,2,4,1,5) ]), \n",
    "    PermutationGroup([ Permutation(0,1,2,3,4,5) ]), \n",
    "    PermutationGroup([ Permutation(0,1,2,3,5,4) ]), \n",
    "    PermutationGroup([ Permutation(0,1,2,4,5,3) ]), \n",
    "    \n",
    "    PermutationGroup([ Permutation(0,1,2,4,3,5) ]), \n",
    "    PermutationGroup([ Permutation(0,3,4,5,2,1) ]), \n",
    "    PermutationGroup([ Permutation(0,4,3,5,2,1) ]), \n",
    "    PermutationGroup([ Permutation(0,1,3,4,5,2) ]), \n",
    "    \n",
    "    PermutationGroup([ Permutation(0,2,4,5,3,1) ]), \n",
    "    PermutationGroup([ Permutation(0,5,1,2,3,4) ]), \n",
    "    PermutationGroup([ Permutation(0,2,1,4,3,5) ]), \n",
    "    PermutationGroup([ Permutation(0,2,3,5,1,4) ]), \n",
    "    \n",
    "    PermutationGroup([ Permutation(0,1,3,2,4,5) ]), \n",
    "    PermutationGroup([ Permutation(0,1,3,5,2,4) ]), \n",
    "    PermutationGroup([ Permutation(0,4,1,2,3,5) ]), \n",
    "    PermutationGroup([ Permutation(0,4,3,5,1,2) ]), \n",
    "    \n",
    "    PermutationGroup([ Permutation(0,2,3,4,1,5) ]), \n",
    "    PermutationGroup([ Permutation(0,1,3,2,5,4) ]), \n",
    "    PermutationGroup([ Permutation(0,1,3,4,2,5) ]), \n",
    "    PermutationGroup([ Permutation(0,2,3,5,4,1) ]), \n",
    "    \n",
    "    PermutationGroup([ Permutation(0,1,4,3,5,2) ]), \n",
    "    PermutationGroup([ Permutation(0,3,2,5,4,1) ]), \n",
    "    PermutationGroup([ Permutation(0,5,1,2,4,3) ]), \n",
    "    PermutationGroup([ Permutation(0,2,1,3,4,5) ]), \n",
    "    \n",
    "    PermutationGroup([ Permutation(0,2,4,5,1,3) ]), \n",
    "    PermutationGroup([ Permutation(0,1,4,2,3,5) ]), \n",
    "    PermutationGroup([ Permutation(0,1,4,2,5,3) ]), \n",
    "    PermutationGroup([ Permutation(0,3,1,2,4,5) ]), \n",
    "    \n",
    "    PermutationGroup([ Permutation(0,3,4,5,1,2) ]), \n",
    "    PermutationGroup([ Permutation(0,2,4,3,1,5) ]), \n",
    "    PermutationGroup([ Permutation(0,5,2,3,4,1) ]), \n",
    "    PermutationGroup([ Permutation(0,2,3,4,5,1) ]), \n",
    "    \n",
    "    PermutationGroup([ Permutation(0,2,4,3,5,1) ]), \n",
    "    PermutationGroup([ Permutation(0,3,2,4,5,1) ]), \n",
    "    PermutationGroup([ Permutation(0,1,5,2,3,4) ]), \n",
    "    PermutationGroup([ Permutation(0,4,1,2,5,3) ]), \n",
    "    \n",
    "    PermutationGroup([ Permutation(0,2,1,3,5,4) ]), \n",
    "    PermutationGroup([ Permutation(0,3,1,4,5,2) ]), \n",
    "    PermutationGroup([ Permutation(0,3,4,2,5,1) ]), \n",
    "    PermutationGroup([ Permutation(0,1,5,3,2,4) ]), \n",
    "    \n",
    "    PermutationGroup([ Permutation(0,4,5,2,1,3) ]), \n",
    "    PermutationGroup([ Permutation(0,3,5,4,1,2) ]), \n",
    "    PermutationGroup([ Permutation(0,2,5,3,1,4) ]), \n",
    "    \n",
    "    PermutationGroup([ Permutation(0,2,4)(1,3,5), Permutation(0,2,5)(1,3,4) ]), \n",
    "    PermutationGroup([ Permutation(0,2,3)(1,4,5), Permutation(0,4,3)(1,2,5) ]), \n",
    "    \n",
    "    PermutationGroup([ Permutation(0,3,2)(1,4,5), Permutation(0,4,2)(1,3,5) ]), \n",
    "    PermutationGroup([ Permutation(0,4,1)(2,3,5), Permutation(0,4,2)(1,3,5) ]), \n",
    "    \n",
    "    PermutationGroup([ Permutation(0,2,4)(1,3,5), Permutation(0,1,3)(2,4,5) ]), \n",
    "    PermutationGroup([ Permutation(0,2,5)(1,3,4), Permutation(0,2,3)(1,5,4) ]), \n",
    "    \n",
    "    PermutationGroup([ Permutation(0,1,4)(2,3,5), Permutation(0,3,5)(1,4,2) ]), \n",
    "    PermutationGroup([ Permutation(0,3,4)(1,2,5), Permutation(0,1,4)(2,5,3) ]), \n",
    "    \n",
    "    PermutationGroup([ Permutation(0,3,5)(1,2,4), Permutation(0,3,2)(1,5,4) ]), \n",
    "    PermutationGroup([ Permutation(0,1,3)(2,4,5), Permutation(0,4,3)(1,5,2) ]), \n",
    "    \n",
    "    PermutationGroup([ Permutation(0,3,4)(1,5,2), Permutation(0,2,4)(1,5,3) ]), \n",
    "    PermutationGroup([ Permutation(0,2,4)(1,3,5), Permutation(0,5,4)(1,3,2) ]), \n",
    "    \n",
    "    PermutationGroup([ Permutation(0,3,5)(1,2,4), Permutation(0,3,1)(2,4,5) ]), \n",
    "    PermutationGroup([ Permutation(0,5,2)(1,3,4), Permutation(0,5,3)(1,2,4) ]), \n",
    "    \n",
    "    PermutationGroup([ Permutation(0,2,5)(1,3,4), Permutation(0,4,1)(2,5,3) ]), \n",
    "    PermutationGroup([ Permutation(0,3)(1,5), Permutation(0,5,2,1,3,4), Permutation(0,2,3)(1,4,5) ]), \n",
    "    \n",
    "    PermutationGroup([ Permutation(0,5)(1,3), Permutation(0,3,4,1,5,2), Permutation(0,4,5)(1,2,3) ]), \n",
    "    PermutationGroup([ Permutation(0,2)(1,5), Permutation(0,5,3,1,2,4), Permutation(0,3,2)(1,4,5) ]), \n",
    "    \n",
    "    PermutationGroup([ Permutation(0,5)(1,2), Permutation(0,2,4,1,5,3), Permutation(0,4,5)(1,3,2) ]), \n",
    "    PermutationGroup([ Permutation(2,4)(3,5), Permutation(0,5,2,1,4,3), Permutation(0,2,4)(1,3,5) ]), \n",
    "    \n",
    "    PermutationGroup([ Permutation(2,4)(3,5), Permutation(0,4,3,1,5,2), Permutation(0,3,5)(1,2,4) ]), \n",
    "    PermutationGroup([ Permutation(0,2)(1,5), Permutation(0,5,4,1,2,3), Permutation(0,4,2)(1,3,5) ]), \n",
    "    \n",
    "    PermutationGroup([ Permutation(0,5)(1,2), Permutation(0,2,3,1,5,4), Permutation(0,3,5)(1,4,2) ]), \n",
    "    PermutationGroup([ Permutation(0,2)(1,3), Permutation(0,4,2,1,5,3), Permutation(0,2,5)(1,3,4) ]), \n",
    "    \n",
    "    PermutationGroup([ Permutation(0,3)(1,2), Permutation(0,5,3,1,4,2), Permutation(0,3,4)(1,2,5) ]), \n",
    "    PermutationGroup([ Permutation(0,5)(1,3), Permutation(0,3,2,1,5,4), Permutation(0,2,5)(1,4,3) ]), \n",
    "    \n",
    "    PermutationGroup([ Permutation(0,3)(1,5), Permutation(0,5,4,1,3,2), Permutation(0,4,3)(1,2,5) ]), \n",
    "    PermutationGroup([ Permutation(0,2)(3,5), Permutation(0,4,2,3,1,5), Permutation(0,2,1)(3,5,4) ]), \n",
    "    \n",
    "    PermutationGroup([ Permutation(1,2)(4,5), Permutation(0,5,2,3,1,4), Permutation(0,2,1)(3,4,5) ]), \n",
    "    PermutationGroup([ Permutation(0,5)(1,3), Permutation(0,1,4,3,5,2), Permutation(0,4,5)(1,3,2) ]), \n",
    "    \n",
    "    PermutationGroup([ Permutation(0,4)(1,3), Permutation(0,1,5,3,4,2), Permutation(0,5,4)(1,3,2) ]), \n",
    "    PermutationGroup([ Permutation(0,1)(4,5), Permutation(0,4,2,5,1,3), Permutation(0,2,1)(3,4,5) ]), \n",
    "    \n",
    "    PermutationGroup([ Permutation(0,2)(4,5), Permutation(0,4,1,5,2,3), Permutation(0,1,2)(3,4,5) ]), \n",
    "    PermutationGroup([ Permutation(0,3)(2,5), Permutation(0,1,3,5,4,2), Permutation(0,3,4)(1,5,2) ]), \n",
    "    \n",
    "    PermutationGroup([ Permutation(0,3)(1,5), Permutation(0,2,3,5,4,1), Permutation(0,3,4)(1,2,5) ]), \n",
    "    PermutationGroup([ Permutation(0,1)(4,5), Permutation(0,3,1,4,2,5), Permutation(0,1,2)(3,4,5) ]), \n",
    "    \n",
    "    PermutationGroup([ Permutation(1,2)(3,5), Permutation(0,5,1,4,2,3), Permutation(0,1,2)(3,5,4) ]), \n",
    "    PermutationGroup([ Permutation(0,5)(1,4), Permutation(0,2,5,4,3,1), Permutation(0,5,3)(1,2,4) ]), \n",
    "    \n",
    "    PermutationGroup([ Permutation(1,2)(3,5), Permutation(0,1,5,4,3,2), Permutation(0,5,3)(1,4,2) ]), \n",
    "    PermutationGroup([ Permutation(0,1)(2,4), Permutation(0,4,3,2,1,5), Permutation(0,3,1)(2,5,4) ]), \n",
    "    \n",
    "    PermutationGroup([ Permutation(0,4)(1,2), Permutation(0,1,5,2,4,3), Permutation(0,5,4)(1,2,3) ]), \n",
    "    PermutationGroup([ Permutation(0,3)(2,4), Permutation(0,5,3,2,1,4), Permutation(0,3,1)(2,4,5) ]), \n",
    "    \n",
    "    PermutationGroup([ Permutation(0,4)(2,3), Permutation(0,1,4,2,5,3), Permutation(0,4,5)(1,2,3) ]), \n",
    "    PermutationGroup([ Permutation(0,3)(2,5), Permutation(0,4,3,5,1,2), Permutation(0,3,1)(2,4,5) ]), \n",
    "    \n",
    "    PermutationGroup([ Permutation(0,4)(1,5), Permutation(0,1,2,5,4,3), Permutation(0,2,4)(1,5,3) ]), \n",
    "    PermutationGroup([ Permutation(1,3)(2,4), Permutation(0,4,1,5,3,2), Permutation(0,1,3)(2,4,5) ]), \n",
    "    \n",
    "    PermutationGroup([ Permutation(0,4)(3,5), Permutation(0,3,2,5,4,1), Permutation(0,2,4)(1,3,5) ]), \n",
    "    PermutationGroup([ Permutation(1,3)(2,5), Permutation(0,2,1,4,3,5), Permutation(0,1,3)(2,4,5) ]), \n",
    "    \n",
    "    PermutationGroup([ Permutation(1,3)(2,5), Permutation(0,3,5,4,2,1), Permutation(0,5,2)(1,3,4) ]), \n",
    "    PermutationGroup([ Permutation(0,1)(2,4), Permutation(0,5,1,4,3,2), Permutation(0,1,3)(2,5,4) ]), \n",
    "    \n",
    "    PermutationGroup([ Permutation(1,3)(2,5), Permutation(0,1,5,4,2,3), Permutation(0,5,2)(1,4,3) ]), \n",
    "    PermutationGroup([ Permutation(0,4)(2,5), Permutation(0,5,1,2,4,3), Permutation(0,1,4)(2,3,5) ]), \n",
    "    \n",
    "    PermutationGroup([ Permutation(1,4)(3,5), Permutation(0,4,3,2,5,1), Permutation(0,3,5)(1,4,2) ]), \n",
    "    PermutationGroup([ Permutation(1,4)(3,5), Permutation(0,5,4,2,1,3), Permutation(0,4,1)(2,3,5) ]), \n",
    "    \n",
    "    PermutationGroup([ Permutation(1,4)(3,5), Permutation(0,1,3,2,5,4), Permutation(0,3,5)(1,2,4) ]), \n",
    "    PermutationGroup([ Permutation(0,4)(2,5), Permutation(0,2,1,5,4,3), Permutation(0,1,4)(2,5,3) ]), \n",
    "    \n",
    "    PermutationGroup([ Permutation(0,3)(1,5), Permutation(0,4,3,5,2,1), Permutation(0,3,2)(1,4,5) ]), \n",
    "    PermutationGroup([ Permutation(0,4)(3,5), Permutation(0,3,1,5,4,2), Permutation(0,1,4)(2,3,5) ]), \n",
    "    \n",
    "    PermutationGroup([ Permutation(1,4)(2,3), Permutation(0,4,2,5,3,1), Permutation(0,2,3)(1,4,5) ]), \n",
    "    PermutationGroup([ Permutation(1,4)(2,5), Permutation(0,5,4,3,1,2), Permutation(0,4,1)(2,5,3) ]), \n",
    "    \n",
    "    PermutationGroup([ Permutation(1,4)(2,5), Permutation(0,2,4,3,1,5), Permutation(0,4,1)(2,3,5) ]), \n",
    "    PermutationGroup([ Permutation(1,4)(2,5), Permutation(0,1,5,3,2,4), Permutation(0,5,2)(1,3,4) ]), \n",
    "    \n",
    "    PermutationGroup([ Permutation(0,5)(1,3), Permutation(0,1,2,3,5,4), Permutation(0,2,5)(1,3,4) ]), \n",
    "    PermutationGroup([ Permutation(1,5)(3,4), Permutation(0,4,1,2,5,3), Permutation(0,1,5)(2,3,4) ]), \n",
    "    \n",
    "    PermutationGroup([ Permutation(0,4)(2,5), Permutation(0,5,3,2,4,1), Permutation(0,3,4)(1,5,2) ]), \n",
    "    PermutationGroup([ Permutation(0,1)(2,4), Permutation(0,3,1,2,5,4), Permutation(0,1,5)(2,4,3) ]), \n",
    "    \n",
    "    PermutationGroup([ Permutation(0,3)(2,5), Permutation(0,5,4,2,3,1), Permutation(0,4,3)(1,5,2) ]), \n",
    "    PermutationGroup([ Permutation(1,5)(2,3), Permutation(0,3,5,4,1,2), Permutation(0,5,1)(2,3,4) ]), \n",
    "    \n",
    "    PermutationGroup([ Permutation(0,1)(2,4), Permutation(0,3,1,4,5,2), Permutation(0,1,5)(2,3,4) ]), \n",
    "    PermutationGroup([ Permutation(0,2)(1,4), Permutation(0,5,2,4,3,1), Permutation(0,2,3)(1,5,4) ]), \n",
    "    \n",
    "    PermutationGroup([ Permutation(0,3)(1,4), Permutation(0,5,3,4,2,1), Permutation(0,3,2)(1,5,4) ]), \n",
    "    PermutationGroup([ Permutation(0,5)(2,3), Permutation(0,2,1,3,5,4), Permutation(0,1,5)(2,3,4) ]), \n",
    "    \n",
    "    PermutationGroup([ Permutation(0,5)(3,4), Permutation(0,2,5,3,1,4), Permutation(0,5,1)(2,3,4) ]), \n",
    "    PermutationGroup([ Permutation(0,4)(3,5), Permutation(0,1,4,3,2,5), Permutation(0,4,2)(1,3,5) ]), \n",
    "    \n",
    "    PermutationGroup([ Permutation(0,2)(3,5), Permutation(0,5,4,3,2,1), Permutation(0,4,2)(1,5,3) ]), \n",
    "    PermutationGroup([ Permutation(0,3)(1,4)(2,5), Permutation(0,2,1) ]), \n",
    "    \n",
    "    PermutationGroup([ Permutation(0,4)(1,3)(2,5), Permutation(0,1,2) ]), \n",
    "    PermutationGroup([ Permutation(0,3)(1,4)(2,5), Permutation(0,5,1) ]), \n",
    "    PermutationGroup([ Permutation(0,4)(1,3)(2,5), Permutation(0,1,5) ]), \n",
    "    \n",
    "    PermutationGroup([ Permutation(0,3)(1,5)(2,4), Permutation(2,5,3) ]), \n",
    "    PermutationGroup([ Permutation(0,5)(1,3)(2,4), Permutation(2,5,3) ]), \n",
    "    PermutationGroup([ Permutation(0,2)(1,4)(3,5), Permutation(0,3,1) ]), \n",
    "    \n",
    "    PermutationGroup([ Permutation(0,4)(1,2)(3,5), Permutation(0,1,3) ]), \n",
    "    PermutationGroup([ Permutation(0,3)(1,4)(2,5), Permutation(0,5,4) ]), \n",
    "    PermutationGroup([ Permutation(0,3)(1,5)(2,4), Permutation(1,2,3) ]), \n",
    "    \n",
    "    PermutationGroup([ Permutation(0,4)(1,3)(2,5), Permutation(1,4,2) ]), \n",
    "    PermutationGroup([ Permutation(0,4)(1,5)(2,3), Permutation(1,2,4) ]), \n",
    "    PermutationGroup([ Permutation(0,5)(1,3)(2,4), Permutation(1,5,2) ]), \n",
    "    \n",
    "    PermutationGroup([ Permutation(0,1)(2,4)(3,5), Permutation(0,3,4) ]), \n",
    "    PermutationGroup([ Permutation(0,3)(1,5)(2,4), Permutation(0,5,2) ]), \n",
    "    PermutationGroup([ Permutation(0,1)(2,4)(3,5), Permutation(1,3,4) ]), \n",
    "    \n",
    "    PermutationGroup([ Permutation(0,3)(1,4)(2,5), Permutation(0,4,2) ]), \n",
    "    PermutationGroup([ Permutation(0,5)(1,4)(2,3), Permutation(0,2,4) ]), \n",
    "    PermutationGroup([ Permutation(0,4)(1,3)(2,5), Permutation(1,5,4) ]), \n",
    "    \n",
    "    PermutationGroup([ Permutation(0,5)(1,3)(2,4), Permutation(0,2,3) ]), \n",
    "    PermutationGroup([ Permutation(0,2,4,1,3,5), Permutation(4,5) ]), \n",
    "    PermutationGroup([ Permutation(0,4,1,3,5,2), Permutation(1,2) ]), \n",
    "    \n",
    "    PermutationGroup([ Permutation(0,3,5,2,1,4), Permutation(0,2) ]), \n",
    "    PermutationGroup([ Permutation(0,3,5,1,4,2), Permutation(3,4) ]), \n",
    "    PermutationGroup([ Permutation(0,1,3,5,2,4), Permutation(0,5) ]), \n",
    "    \n",
    "    PermutationGroup([ Permutation(0,3,5,2,4,1), Permutation(1,5) ]), \n",
    "    PermutationGroup([ Permutation(0,2,5,1,4,3), Permutation(2,4) ]), \n",
    "    PermutationGroup([ Permutation(0,2,5,4,1,3), Permutation(3,5) ]), \n",
    "    \n",
    "    PermutationGroup([ Permutation(0,1,5,2,4,3), Permutation(1,4) ]), \n",
    "    PermutationGroup([ Permutation(0,3,1,5,2,4), Permutation(2,3) ]), \n",
    "    PermutationGroup([ Permutation(0,5,2,4,1,3), Permutation(2,3) ]), \n",
    "    \n",
    "    PermutationGroup([ Permutation(0,3,2,5,1,4), Permutation(1,3) ]), \n",
    "    PermutationGroup([ Permutation(0,4,1,3,2,5), Permutation(0,3) ]), \n",
    "    PermutationGroup([ Permutation(0,3,5,4,1,2), Permutation(2,5) ]), \n",
    "    \n",
    "    PermutationGroup([ Permutation(0,2,1,3,5,4), Permutation(2,5) ]), \n",
    "    PermutationGroup([ Permutation(2,4)(3,5), Permutation(0,2,5)(1,3,4), Permutation(0,2,4)(1,3,5) ]), \n",
    "    \n",
    "    PermutationGroup([ Permutation(0,3)(1,4), Permutation(0,4,2)(1,3,5), Permutation(0,3,2)(1,4,5) ]), \n",
    "    PermutationGroup([ Permutation(0,2)(1,4), Permutation(0,4,3)(1,2,5), Permutation(0,2,3)(1,4,5) ]), \n",
    "    \n",
    "    PermutationGroup([ Permutation(0,2)(3,5), Permutation(0,5,4)(1,3,2), Permutation(0,2,4)(1,3,5) ]), \n",
    "    PermutationGroup([ Permutation(0,5)(1,3), Permutation(0,4,1)(2,5,3), Permutation(0,2,5)(1,3,4) ]), \n",
    "    \n",
    "    PermutationGroup([ Permutation(1,4)(2,5), Permutation(0,4,2)(1,3,5), Permutation(0,4,1)(2,3,5) ]), \n",
    "    PermutationGroup([ Permutation(0,3)(2,5), Permutation(0,2,4)(1,5,3), Permutation(0,3,4)(1,5,2) ]), \n",
    "    \n",
    "    PermutationGroup([ Permutation(0,3)(1,5), Permutation(0,1,4)(2,5,3), Permutation(0,3,4)(1,2,5) ]), \n",
    "    PermutationGroup([ Permutation(0,4)(3,5), Permutation(0,1,3)(2,4,5), Permutation(0,2,4)(1,3,5) ]), \n",
    "    \n",
    "    PermutationGroup([ Permutation(1,3)(2,5), Permutation(0,5,3)(1,2,4), Permutation(0,5,2)(1,3,4) ]), \n",
    "    PermutationGroup([ Permutation(1,2)(3,5), Permutation(0,3,2)(1,5,4), Permutation(0,3,5)(1,2,4) ]), \n",
    "    \n",
    "    PermutationGroup([ Permutation(1,3)(2,5), Permutation(0,2,3)(1,5,4), Permutation(0,2,5)(1,3,4) ]), \n",
    "    PermutationGroup([ Permutation(0,4)(2,5), Permutation(0,3,5)(1,4,2), Permutation(0,1,4)(2,3,5) ]), \n",
    "    \n",
    "    PermutationGroup([ Permutation(0,1)(2,4), Permutation(0,4,3)(1,5,2), Permutation(0,1,3)(2,4,5) ]), \n",
    "    PermutationGroup([ Permutation(1,4)(3,5), Permutation(0,3,1)(2,4,5), Permutation(0,3,5)(1,2,4) ]), \n",
    "    \n",
    "    PermutationGroup([ Permutation(0,3,1,2), Permutation(0,2,5)(1,3,4) ]), \n",
    "    PermutationGroup([ Permutation(0,3,1,5), Permutation(0,4,3)(1,2,5) ]), \n",
    "    PermutationGroup([ Permutation(0,2,1,5), Permutation(0,4,2)(1,3,5) ]), \n",
    "    \n",
    "    PermutationGroup([ Permutation(0,5,3,4), Permutation(0,4,2)(1,3,5) ]), \n",
    "    PermutationGroup([ Permutation(1,4,2,3), Permutation(0,1,3)(2,4,5) ]), \n",
    "    PermutationGroup([ Permutation(0,1,4,2), Permutation(0,2,3)(1,5,4) ]), \n",
    "    \n",
    "    PermutationGroup([ Permutation(0,4,5,2), Permutation(0,1,4)(2,5,3) ]), \n",
    "    PermutationGroup([ Permutation(0,1,4,3), Permutation(0,3,2)(1,5,4) ]), \n",
    "    PermutationGroup([ Permutation(0,4,5,1), Permutation(0,2,4)(1,5,3) ]), \n",
    "    \n",
    "    PermutationGroup([ Permutation(0,4,3,1), Permutation(0,5,4)(1,3,2) ]), \n",
    "    PermutationGroup([ Permutation(0,1,4,5), Permutation(0,5,3)(1,2,4) ]), \n",
    "    PermutationGroup([ Permutation(1,4,5,2), Permutation(0,4,1)(2,5,3) ]), \n",
    "    \n",
    "    PermutationGroup([ Permutation(1,5,3,4), Permutation(0,3,5)(1,4,2) ]), \n",
    "    PermutationGroup([ Permutation(0,3,2,5), Permutation(0,4,3)(1,5,2) ]), \n",
    "    PermutationGroup([ Permutation(0,4,2,3), Permutation(0,3,1)(2,4,5) ]), \n",
    "    \n",
    "    PermutationGroup([ Permutation(0,3,1,4,2,5), Permutation(0,4,2,5,1,3), Permutation(0,2,1) ]), \n",
    "    PermutationGroup([ Permutation(0,3,4,1,5,2), Permutation(0,3,5,1,4,2), Permutation(0,5,4) ]), \n",
    "    \n",
    "    PermutationGroup([ Permutation(0,5,2,1,3,4), Permutation(0,4,2,1,3,5), Permutation(1,5,4) ]), \n",
    "    PermutationGroup([ Permutation(0,3,1,4,5,2), Permutation(0,2,5,3,1,4), Permutation(0,5,1) ]), \n",
    "    \n",
    "    PermutationGroup([ Permutation(0,5,1,2,4,3), Permutation(0,5,1,3,4,2), Permutation(2,5,3) ]), \n",
    "    PermutationGroup([ Permutation(0,2,1,4,3,5), Permutation(0,4,3,5,1,2), Permutation(0,3,1) ]), \n",
    "    \n",
    "    PermutationGroup([ Permutation(0,1,3,2,5,4), Permutation(0,2,3,1,5,4), Permutation(1,4,2) ]), \n",
    "    PermutationGroup([ Permutation(0,3,2,5,4,1), Permutation(0,5,4,1,2,3), Permutation(0,4,2) ]), \n",
    "    \n",
    "    PermutationGroup([ Permutation(0,1,3,2,4,5), Permutation(0,5,3,2,4,1), Permutation(1,5,2) ]), \n",
    "    PermutationGroup([ Permutation(0,3,2,4,5,1), Permutation(0,1,5,3,2,4), Permutation(0,5,2) ]), \n",
    "    \n",
    "    PermutationGroup([ Permutation(0,5,2,4)(1,3), Permutation(0,2,1) ]), \n",
    "    PermutationGroup([ Permutation(0,2,4,3)(1,5), Permutation(0,5,4) ]), \n",
    "    PermutationGroup([ Permutation(0,5)(1,2,4,3), Permutation(1,5,4) ]), \n",
    "    \n",
    "    PermutationGroup([ Permutation(0,2)(1,3,5,4), Permutation(0,5,1) ]), \n",
    "    PermutationGroup([ Permutation(0,2,1,5)(3,4), Permutation(2,5,3) ]), \n",
    "    PermutationGroup([ Permutation(0,5,3,4)(1,2), Permutation(0,3,1) ]), \n",
    "    \n",
    "    PermutationGroup([ Permutation(0,4,5,1)(2,3), Permutation(1,4,2) ]), \n",
    "    PermutationGroup([ Permutation(0,1,4,5)(2,3), Permutation(0,4,2) ]), \n",
    "    PermutationGroup([ Permutation(0,1)(2,3,5,4), Permutation(1,5,2) ]), \n",
    "    \n",
    "    PermutationGroup([ Permutation(0,1)(2,3,5,4), Permutation(0,5,2) ]), \n",
    "    PermutationGroup([ Permutation(0,3,1,2), Permutation(0,2,4,1,3,5), Permutation(4,5) ]), \n",
    "    \n",
    "    PermutationGroup([ Permutation(0,5,3,4), Permutation(0,4,1,3,5,2), Permutation(1,2) ]), \n",
    "    PermutationGroup([ Permutation(1,5,3,4), Permutation(0,3,5,2,1,4), Permutation(0,2) ]), \n",
    "    \n",
    "    PermutationGroup([ Permutation(0,2,1,5), Permutation(0,3,5,1,4,2), Permutation(3,4) ]), \n",
    "    PermutationGroup([ Permutation(1,4,2,3), Permutation(0,1,3,5,2,4), Permutation(0,5) ]), \n",
    "    \n",
    "    PermutationGroup([ Permutation(0,4,2,3), Permutation(0,3,5,2,4,1), Permutation(1,5) ]), \n",
    "    PermutationGroup([ Permutation(0,3,1,5), Permutation(0,2,5,1,4,3), Permutation(2,4) ]), \n",
    "    \n",
    "    PermutationGroup([ Permutation(0,1,4,2), Permutation(0,2,5,4,1,3), Permutation(3,5) ]), \n",
    "    PermutationGroup([ Permutation(0,3,2,5), Permutation(0,1,5,2,4,3), Permutation(1,4) ]), \n",
    "    \n",
    "    PermutationGroup([ Permutation(0,4,5,1), Permutation(0,3,1,5,2,4), Permutation(2,3) ]), \n",
    "    PermutationGroup([ Permutation(0,1,4,5), Permutation(0,5,2,4,1,3), Permutation(2,3) ]), \n",
    "    \n",
    "    PermutationGroup([ Permutation(1,4,5,2), Permutation(0,4,1,3,2,5), Permutation(0,3) ]), \n",
    "    PermutationGroup([ Permutation(0,4,5,2), Permutation(0,3,2,5,1,4), Permutation(1,3) ]), \n",
    "    \n",
    "    PermutationGroup([ Permutation(0,4,3,1), Permutation(0,2,1,3,5,4), Permutation(2,5) ]), \n",
    "    PermutationGroup([ Permutation(0,1,4,3), Permutation(0,3,5,4,1,2), Permutation(2,5) ]), \n",
    "    \n",
    "    PermutationGroup([ Permutation(0,2,1,5,4), Permutation(0,3,5)(1,2,4) ]), \n",
    "    PermutationGroup([ Permutation(0,5,4,1,2), Permutation(0,2,4)(1,3,5) ]), \n",
    "    \n",
    "    PermutationGroup([ Permutation(0,5,4,3,1), Permutation(0,3,5)(1,2,4) ]), \n",
    "    PermutationGroup([ Permutation(0,1,5,4,3), Permutation(0,2,4)(1,3,5) ]), \n",
    "    \n",
    "    PermutationGroup([ Permutation(0,5,4,3,2), Permutation(0,1,3)(2,4,5) ]), \n",
    "    PermutationGroup([ Permutation(1,5,4,3,2), Permutation(0,2,5)(1,3,4) ]), \n",
    "    PermutationGroup([ Permutation(0,4,2,5,1,3), Permutation(0,1) ]), \n",
    "    \n",
    "    PermutationGroup([ Permutation(0,3,5,1,4,2), Permutation(4,5) ]), \n",
    "    PermutationGroup([ Permutation(0,4,2,1,3,5), Permutation(4,5) ]), \n",
    "    PermutationGroup([ Permutation(0,4,3,5,1,2), Permutation(0,1) ]), \n",
    "    \n",
    "    PermutationGroup([ Permutation(0,2,5,3,1,4), Permutation(0,5) ]), \n",
    "    PermutationGroup([ Permutation(0,5,3,2,4,1), Permutation(1,5) ]), \n",
    "    PermutationGroup([ Permutation(0,1,5,3,2,4), Permutation(0,5) ]), \n",
    "    \n",
    "    PermutationGroup([ Permutation(0,5,1,3,4,2), Permutation(2,3) ]), \n",
    "    PermutationGroup([ Permutation(0,2,3,1,5,4), Permutation(1,2) ]), \n",
    "    PermutationGroup([ Permutation(0,5,4,1,2,3), Permutation(0,2) ]), \n",
    "    \n",
    "    PermutationGroup([ Permutation(0,4)(1,2)(3,5), Permutation(0,2,3,4) ]), \n",
    "    PermutationGroup([ Permutation(0,2)(1,4)(3,5), Permutation(1,2,3,4) ]), \n",
    "    PermutationGroup([ Permutation(0,5)(1,3)(2,4), Permutation(0,2,3,1) ]),\n",
    "    \n",
    "    PermutationGroup([ Permutation(0,3)(1,5)(2,4), Permutation(0,1,2,3) ]), \n",
    "    PermutationGroup([ Permutation(0,4)(1,2)(3,5), Permutation(2,4,5,3) ]), \n",
    "    PermutationGroup([ Permutation(0,1)(2,4)(3,5), Permutation(1,3,4,2) ]),\n",
    "    \n",
    "    PermutationGroup([ Permutation(1,2)(3,4), Permutation(0,1,2,4)(3,5) ]), \n",
    "    PermutationGroup([ Permutation(4,5), Permutation(0,1,2,3,4) ]) ]\n",
    "\n",
    "\n",
    "\n",
    "\n",
    "def phi(args): return Sum(Array([1,-1,2,-5,6,0])[k]*Array(args)[k],(k,0,len(args)-1)).doit()\n",
    "\n",
    "def c_round(x):\n",
    "    #print(\"c_round\")\n",
    "    #y=round(x)\n",
    "    #return y\n",
    "    imx=im(x)\n",
    "    rex=re(x)\n",
    "    if abs(imx)<1.0e-100:\n",
    "        imx=0.0\n",
    "    if abs(rex)<1.0e-100:\n",
    "        rex=0.0\n",
    "    y=(round(imx*1000)*I+round(rex*1000))/1000\n",
    "    return(y)\n",
    "\n",
    "def GaloisGroupMinumalPolynomial(p):\n",
    "    varList=SOLVARLIST[:p.degree()]\n",
    "    numsollist=list(zip(varList,p.nroots(n=3000)))\n",
    "    if p.degree()==4:\n",
    "        transitivesubg=TransitiveGroups4\n",
    "    elif p.degree()==5:\n",
    "        transitivesubg=TransitiveGroups5\n",
    "    elif p.degree()==6:\n",
    "        transitivesubg=TransitiveGroups6\n",
    "    else:\n",
    "        return(\"Degree of p must be 4 or 5\",\"\")\n",
    "    \n",
    "    for gal in transitivesubg:\n",
    "        res=1\n",
    "        for g in gal._elements:\n",
    "            res=expand(res*(V-phi(g(varList)).subs(numsollist)))\n",
    "        all_coeff_list=list(map(c_round,Poly(res).all_coeffs()))\n",
    "        if all(list(map(lambda x:x.is_Integer and not x.has(I),all_coeff_list))):\n",
    "            return((Poly(all_coeff_list,gens=V)),gal)\n",
    "    return(False,False)\n",
    "\n",
    "def displayG(mp,gg):\n",
    "    display(mp.expr, gg, gg.order())\n",
    "\n",
    "#displayG(*GaloisGroupMinumalPolynomial(poly(x**4 - x**2 - 1)))\n",
    "displayG(*GaloisGroupMinumalPolynomial(poly(x**6 - x**3 - 3)))"
   ]
  },
  {
   "cell_type": "code",
   "execution_count": 5,
   "metadata": {},
   "outputs": [
    {
     "data": {
      "text/latex": [
       "$\\displaystyle V^{6} + 3 V^{5} + 86 V^{4} + 1791 V^{3} + 4050 V^{2} - 18426 V + 31879$"
      ],
      "text/plain": [
       "V**6 + 3*V**5 + 86*V**4 + 1791*V**3 + 4050*V**2 - 18426*V + 31879"
      ]
     },
     "metadata": {},
     "output_type": "display_data"
    },
    {
     "data": {
      "text/latex": [
       "$\\displaystyle PermutationGroup\\left(\\left( 0\\; 4\\; 3\\; 1\\; 5\\; 2\\right)\\right)$"
      ],
      "text/plain": [
       "PermutationGroup([\n",
       "    (0 4 3 1 5 2)])"
      ]
     },
     "metadata": {},
     "output_type": "display_data"
    },
    {
     "data": {
      "text/plain": [
       "6"
      ]
     },
     "metadata": {},
     "output_type": "display_data"
    },
    {
     "name": "stdout",
     "output_type": "stream",
     "text": [
      "CPU times: user 4.13 s, sys: 6.48 ms, total: 4.14 s\n",
      "Wall time: 4.14 s\n"
     ]
    }
   ],
   "source": [
    "%%time\n",
    "#http://repository.hyogo-u.ac.jp/dspace/bitstream/10132/1612/1/ZD30301003.pdf\n",
    "displayG(*GaloisGroupMinumalPolynomial(poly(x**6 + x**5 + x**4 + x**3 + x**2 + x + 1)))"
   ]
  },
  {
   "cell_type": "code",
   "execution_count": 6,
   "metadata": {},
   "outputs": [
    {
     "data": {
      "text/latex": [
       "$\\displaystyle V^{12} + 1068 V^{10} - 2016 V^{9} + 421050 V^{8} - 1435392 V^{7} + 76716458 V^{6} - 349316352 V^{5} + 6452391069 V^{4} - 37895909184 V^{3} + 248484145986 V^{2} - 1284288911136 V + 2345461156089$"
      ],
      "text/plain": [
       "V**12 + 1068*V**10 - 2016*V**9 + 421050*V**8 - 1435392*V**7 + 76716458*V**6 - 349316352*V**5 + 6452391069*V**4 - 37895909184*V**3 + 248484145986*V**2 - 1284288911136*V + 2345461156089"
      ]
     },
     "metadata": {},
     "output_type": "display_data"
    },
    {
     "data": {
      "text/latex": [
       "$\\displaystyle PermutationGroup\\left(\\left( 0\\; 2\\; 4\\right)\\left( 1\\; 3\\; 5\\right), \\left( 0\\; 2\\; 5\\right)\\left( 1\\; 3\\; 4\\right)\\right)$"
      ],
      "text/plain": [
       "PermutationGroup([\n",
       "    (0 2 4)(1 3 5),\n",
       "    (0 2 5)(1 3 4)])"
      ]
     },
     "metadata": {},
     "output_type": "display_data"
    },
    {
     "data": {
      "text/plain": [
       "12"
      ]
     },
     "metadata": {},
     "output_type": "display_data"
    },
    {
     "name": "stdout",
     "output_type": "stream",
     "text": [
      "CPU times: user 14.1 s, sys: 27.8 ms, total: 14.1 s\n",
      "Wall time: 14.2 s\n"
     ]
    }
   ],
   "source": [
    "%%time\n",
    "#https://repository.kulib.kyoto-u.ac.jp/dspace/bitstream/2433/60135/1/0941-9.pdf\n",
    "displayG(*GaloisGroupMinumalPolynomial(poly(x**6 + 6*x**4 + 3* x**2 - 1)))"
   ]
  },
  {
   "cell_type": "code",
   "execution_count": 4,
   "metadata": {},
   "outputs": [
    {
     "data": {
      "text/latex": [
       "$\\displaystyle x^{6} + 2 x^{5} + 4 x^{4} + x^{3} + 12 x^{2} + 11 x + 2$"
      ],
      "text/plain": [
       "x**6 + 2*x**5 + 4*x**4 + x**3 + 12*x**2 + 11*x + 2"
      ]
     },
     "metadata": {},
     "output_type": "display_data"
    },
    {
     "data": {
      "text/latex": [
       "$\\displaystyle V^{60} + 60 V^{59} + 3604 V^{58} + 136434 V^{57} + 5003500 V^{56} + 144258354 V^{55} + 4027336621 V^{54} + 95757021492 V^{53} + 2194869831168 V^{52} + 44527139590056 V^{51} + 866854883444421 V^{50} + 15251354176447032 V^{49} + 251304073112491332 V^{48} + 3685672594674451152 V^{47} + 46754143454204502504 V^{46} + 469092062018466913830 V^{45} + 2415879537580875434163 V^{44} - 29288734450485844832256 V^{43} - 1231065523363150894956326 V^{42} - 24383987561008928385257046 V^{41} - 384182224615529292533014538 V^{40} - 5112299444221718418347931096 V^{39} - 60316851914911528947862775495 V^{38} - 607866089892540698158469267826 V^{37} - 5013553472510525751293420067282 V^{36} - 26185572526748719704215157280098 V^{35} + 18370806301146247785779702271825 V^{34} + 2396547643147758339704204158943082 V^{33} + 28636283765492153393193886883575983 V^{32} + 134503965412343561619699416641540428 V^{31} + 856652353433825620768670983576886357 V^{30} + 7434775925877192566409405298152535074 V^{29} + 735950233731286310725815111555547160027 V^{28} + 11742858388684111870636485871283515731840 V^{27} + 242153018501474200809490162910003446660983 V^{26} + 3065369806731713003644611969445258308171318 V^{25} + 48690771693391864320075825744680759013998297 V^{24} + 715435485839683922615216870299715366107080828 V^{23} + 10154663446853142734848396043533134685662902036 V^{22} + 146859602299108330340075591759179002705542997228 V^{21} + 1695439295902525389873815845253067049932807375623 V^{20} + 20841426784697117457007102550278714376292949611120 V^{19} + 210274920345584000552801360207517271748533129383847 V^{18} + 2299150443182100419079836986483159849251530338342632 V^{17} + 24185659836796634204248443717944322213438037994250208 V^{16} + 252140471430139280893103693459955694147080675477164934 V^{15} + 2935313431417053221808382429179708308049538411931794930 V^{14} + 28578607636449482850649631834509419789005020175672701164 V^{13} + 341470908779795748030418817260739629545936084614624689576 V^{12} + 3077709057148783286450247074869859163095155884398315485554 V^{11} + 34245418929910437521028270588019527633139517242406788136488 V^{10} + 276073436459948522541273428609555657006763331448922038118750 V^{9} + 2649566624868011867254970565477455557329995484889306308217657 V^{8} + 17734527475474386636717996815018836699683170513566973431067922 V^{7} + 137169917186384414525033462595651862047607735371424592514887729 V^{6} + 698361914793592365219198872688229578368178682848560697246416778 V^{5} + 4218949656794502215760507940862868106063106651145643706497651716 V^{4} + 14275205107234629118082780499696614486464612048477787596237714038 V^{3} + 66610168312328333889342784665682445579378557787859154654560493433 V^{2} + 108960474402320433547431260903234541842565917546073969845429445702 V + 510391296694472780040960099934475366359629950374870118848906911853$"
      ],
      "text/plain": [
       "V**60 + 60*V**59 + 3604*V**58 + 136434*V**57 + 5003500*V**56 + 144258354*V**55 + 4027336621*V**54 + 95757021492*V**53 + 2194869831168*V**52 + 44527139590056*V**51 + 866854883444421*V**50 + 15251354176447032*V**49 + 251304073112491332*V**48 + 3685672594674451152*V**47 + 46754143454204502504*V**46 + 469092062018466913830*V**45 + 2415879537580875434163*V**44 - 29288734450485844832256*V**43 - 1231065523363150894956326*V**42 - 24383987561008928385257046*V**41 - 384182224615529292533014538*V**40 - 5112299444221718418347931096*V**39 - 60316851914911528947862775495*V**38 - 607866089892540698158469267826*V**37 - 5013553472510525751293420067282*V**36 - 26185572526748719704215157280098*V**35 + 18370806301146247785779702271825*V**34 + 2396547643147758339704204158943082*V**33 + 28636283765492153393193886883575983*V**32 + 134503965412343561619699416641540428*V**31 + 856652353433825620768670983576886357*V**30 + 7434775925877192566409405298152535074*V**29 + 735950233731286310725815111555547160027*V**28 + 11742858388684111870636485871283515731840*V**27 + 242153018501474200809490162910003446660983*V**26 + 3065369806731713003644611969445258308171318*V**25 + 48690771693391864320075825744680759013998297*V**24 + 715435485839683922615216870299715366107080828*V**23 + 10154663446853142734848396043533134685662902036*V**22 + 146859602299108330340075591759179002705542997228*V**21 + 1695439295902525389873815845253067049932807375623*V**20 + 20841426784697117457007102550278714376292949611120*V**19 + 210274920345584000552801360207517271748533129383847*V**18 + 2299150443182100419079836986483159849251530338342632*V**17 + 24185659836796634204248443717944322213438037994250208*V**16 + 252140471430139280893103693459955694147080675477164934*V**15 + 2935313431417053221808382429179708308049538411931794930*V**14 + 28578607636449482850649631834509419789005020175672701164*V**13 + 341470908779795748030418817260739629545936084614624689576*V**12 + 3077709057148783286450247074869859163095155884398315485554*V**11 + 34245418929910437521028270588019527633139517242406788136488*V**10 + 276073436459948522541273428609555657006763331448922038118750*V**9 + 2649566624868011867254970565477455557329995484889306308217657*V**8 + 17734527475474386636717996815018836699683170513566973431067922*V**7 + 137169917186384414525033462595651862047607735371424592514887729*V**6 + 698361914793592365219198872688229578368178682848560697246416778*V**5 + 4218949656794502215760507940862868106063106651145643706497651716*V**4 + 14275205107234629118082780499696614486464612048477787596237714038*V**3 + 66610168312328333889342784665682445579378557787859154654560493433*V**2 + 108960474402320433547431260903234541842565917546073969845429445702*V + 510391296694472780040960099934475366359629950374870118848906911853"
      ]
     },
     "metadata": {},
     "output_type": "display_data"
    },
    {
     "data": {
      "text/latex": [
       "$\\displaystyle PermutationGroup\\left(\\left( 0\\; 2\\; 1\\; 5\\; 4\\right), \\left( 0\\; 3\\; 5\\right)\\left( 1\\; 2\\; 4\\right)\\right)$"
      ],
      "text/plain": [
       "PermutationGroup([\n",
       "    (0 2 1 5 4),\n",
       "    (0 3 5)(1 2 4)])"
      ]
     },
     "metadata": {},
     "output_type": "display_data"
    },
    {
     "data": {
      "text/plain": [
       "60"
      ]
     },
     "metadata": {},
     "output_type": "display_data"
    },
    {
     "name": "stdout",
     "output_type": "stream",
     "text": [
      "CPU times: user 4min 29s, sys: 361 ms, total: 4min 30s\n",
      "Wall time: 4min 30s\n"
     ]
    }
   ],
   "source": [
    "%%time\n",
    "#https://repository.kulib.kyoto-u.ac.jp/dspace/bitstream/2433/60135/1/0941-9.pdf\n",
    "def f(x,b,c,d):\n",
    "    return x**6 + 2*c*x**5 + (-d*b+c**2+2*c+2)*x**4 +((-2*d+1)*b+2*c**2+2*c-4*d+2)*x**3 + ((-d+3)*b+c**2+4*c+5)*x**2 + (3*b+2*c+6)*x+b+1\n",
    "display(f(x,1,1,1))\n",
    "displayG(*GaloisGroupMinumalPolynomial(poly(f(x,1,1,1))))"
   ]
  },
  {
   "cell_type": "code",
   "execution_count": 5,
   "metadata": {},
   "outputs": [
    {
     "data": {
      "text/latex": [
       "$\\displaystyle V^{6} + 893 V^{4} + 17955 V^{3} + 785992 V^{2} + 4221021 V + 268573189$"
      ],
      "text/plain": [
       "V**6 + 893*V**4 + 17955*V**3 + 785992*V**2 + 4221021*V + 268573189"
      ]
     },
     "metadata": {},
     "output_type": "display_data"
    },
    {
     "data": {
      "text/latex": [
       "$\\displaystyle PermutationGroup\\left(\\left( 0\\; 5\\; 2\\; 1\\; 4\\; 3\\right)\\right)$"
      ],
      "text/plain": [
       "PermutationGroup([\n",
       "    (0 5 2 1 4 3)])"
      ]
     },
     "metadata": {},
     "output_type": "display_data"
    },
    {
     "data": {
      "text/plain": [
       "6"
      ]
     },
     "metadata": {},
     "output_type": "display_data"
    },
    {
     "name": "stdout",
     "output_type": "stream",
     "text": [
      "CPU times: user 3.95 s, sys: 12.7 ms, total: 3.96 s\n",
      "Wall time: 4.06 s\n"
     ]
    }
   ],
   "source": [
    "%%time\n",
    "#https://www.researchgate.net/publication/263977277_ON_SEXTIC_TRINOMIALS_WITH_GALOIS_GROUP_C-6_S-3_OR_C-3_x_S-3\n",
    "displayG(*GaloisGroupMinumalPolynomial(poly(x**6 + 133*x + 209)))"
   ]
  },
  {
   "cell_type": "code",
   "execution_count": 6,
   "metadata": {},
   "outputs": [
    {
     "data": {
      "text/latex": [
       "$\\displaystyle x^{6} + 996632 x - 1085617$"
      ],
      "text/plain": [
       "x**6 + 996632*x - 1085617"
      ]
     },
     "metadata": {},
     "output_type": "display_data"
    },
    {
     "data": {
      "text/latex": [
       "$\\displaystyle V^{24} + 25012 V^{22} + 7665216 V^{21} + 1281561970 V^{20} + 74771746296 V^{19} + 34728842696808 V^{18} + 4439601178622376 V^{17} + 330788187615215603 V^{16} + 14132554474652379792 V^{15} + 5355381018948320726392 V^{14} + 1026836597185692474703704 V^{13} + 61178260754536069112758010 V^{12} + 2983330147336823919903788208 V^{11} + 2147385653027218823244737784124 V^{10} + 95201577205353623162142753968472 V^{9} + 22482512784715996108324213193991913 V^{8} - 795230000443536575109439920969073128 V^{7} + 221966735038006818781935250660216071408 V^{6} + 2695010821059798927802752447668834923920 V^{5} + 1889048437071163301064023112044614287790448 V^{4} - 63397603101763603004850226719479525490802368 V^{3} + 7157160627411336011982593497878213936413768448 V^{2} + 448410986878978873936833493801175659756613707776 V + 28271380452207383828555201790978022267503437529088$"
      ],
      "text/plain": [
       "V**24 + 25012*V**22 + 7665216*V**21 + 1281561970*V**20 + 74771746296*V**19 + 34728842696808*V**18 + 4439601178622376*V**17 + 330788187615215603*V**16 + 14132554474652379792*V**15 + 5355381018948320726392*V**14 + 1026836597185692474703704*V**13 + 61178260754536069112758010*V**12 + 2983330147336823919903788208*V**11 + 2147385653027218823244737784124*V**10 + 95201577205353623162142753968472*V**9 + 22482512784715996108324213193991913*V**8 - 795230000443536575109439920969073128*V**7 + 221966735038006818781935250660216071408*V**6 + 2695010821059798927802752447668834923920*V**5 + 1889048437071163301064023112044614287790448*V**4 - 63397603101763603004850226719479525490802368*V**3 + 7157160627411336011982593497878213936413768448*V**2 + 448410986878978873936833493801175659756613707776*V + 28271380452207383828555201790978022267503437529088"
      ]
     },
     "metadata": {},
     "output_type": "display_data"
    },
    {
     "data": {
      "text/latex": [
       "$\\displaystyle PermutationGroup\\left(\\left( 0\\; 2\\; 4\\; 1\\; 3\\; 5\\right), \\left( 4\\; 5\\right)\\right)$"
      ],
      "text/plain": [
       "PermutationGroup([\n",
       "    (0 2 4 1 3 5),\n",
       "    (4 5)])"
      ]
     },
     "metadata": {},
     "output_type": "display_data"
    },
    {
     "data": {
      "text/plain": [
       "24"
      ]
     },
     "metadata": {},
     "output_type": "display_data"
    },
    {
     "name": "stdout",
     "output_type": "stream",
     "text": [
      "CPU times: user 1min 10s, sys: 99.7 ms, total: 1min 10s\n",
      "Wall time: 1min 10s\n"
     ]
    }
   ],
   "source": [
    "%%time\n",
    "#https://open.library.ubc.ca/media/download/pdf/24/1.0074288/1\n",
    "from sympy.abc import u,v\n",
    "def f(x,u,v):\n",
    "    return x**6 + 4*u*(u**2+3)*(3*u**2+1)*(3*u**2+25)**2*v**5*x + (u**2-5)*(3*u**2+1)*(u**4+10*u**2+5)*(3*u**2+25)**2*v**6\n",
    "display(f(x,2,1))\n",
    "displayG(*GaloisGroupMinumalPolynomial(poly(f(x,2,1))))"
   ]
  },
  {
   "cell_type": "code",
   "execution_count": 7,
   "metadata": {},
   "outputs": [
    {
     "name": "stdout",
     "output_type": "stream",
     "text": [
      "CPU times: user 29min 31s, sys: 4.6 s, total: 29min 36s\n",
      "Wall time: 29min 39s\n"
     ]
    }
   ],
   "source": [
    "%%time\n",
    "#https://facstaff.elon.edu/cawtrey/afjr-sextic.pdf\n",
    "mp,gg=GaloisGroupMinumalPolynomial(poly(x**6+2*x+2))"
   ]
  },
  {
   "cell_type": "code",
   "execution_count": 8,
   "metadata": {},
   "outputs": [
    {
     "data": {
      "text/latex": [
       "$\\displaystyle PermutationGroup\\left(\\left( 4\\; 5\\right), \\left( 0\\; 1\\; 2\\; 3\\; 4\\right)\\left( 5\\right)\\right)$"
      ],
      "text/plain": [
       "PermutationGroup([\n",
       "    (4 5),\n",
       "    (5)(0 1 2 3 4)])"
      ]
     },
     "metadata": {},
     "output_type": "display_data"
    },
    {
     "data": {
      "text/plain": [
       "720"
      ]
     },
     "metadata": {},
     "output_type": "display_data"
    }
   ],
   "source": [
    "display(gg,gg.order())"
   ]
  },
  {
   "cell_type": "code",
   "execution_count": 9,
   "metadata": {},
   "outputs": [
    {
     "data": {
      "text/latex": [
       "$\\displaystyle V^{36} - 18 V^{35} + 551 V^{34} - 7582 V^{33} + 180521 V^{32} - 2252536 V^{31} + 30844414 V^{30} - 351454678 V^{29} + 4097464519 V^{28} - 53091103460 V^{27} + 134791822427 V^{26} - 6798449231492 V^{25} + 97452469631528 V^{24} - 2092099616346356 V^{23} + 22245620567862239 V^{22} - 372837367108301516 V^{21} + 6549321525660868424 V^{20} - 70762664532203828696 V^{19} + 533227295566978583199 V^{18} - 2356642797929479996046 V^{17} + 33928811034052182156608 V^{16} + 210324064224035824858072 V^{15} - 15668708820571616115956447 V^{14} + 229961246627730655488084806 V^{13} - 8908836312505842094011492 V^{12} + 10568422249772534640591210270 V^{11} + 64249370379190136196068470865 V^{10} + 929263054465142146755737332732 V^{9} + 36482875624858084964700715629755 V^{8} - 161014238456737407669022637137836 V^{7} + 2633006450223902236459393598932232 V^{6} - 5194010643300529240829183958997504 V^{5} + 128305384349102288164662769226720976 V^{4} - 222462655110696081725500982469112320 V^{3} + 21259415007707624703378569363336640 V^{2} + 1790204687382823860028765567375670400 V + 5094503623281345965490386023819521280$"
      ],
      "text/plain": [
       "V**36 - 18*V**35 + 551*V**34 - 7582*V**33 + 180521*V**32 - 2252536*V**31 + 30844414*V**30 - 351454678*V**29 + 4097464519*V**28 - 53091103460*V**27 + 134791822427*V**26 - 6798449231492*V**25 + 97452469631528*V**24 - 2092099616346356*V**23 + 22245620567862239*V**22 - 372837367108301516*V**21 + 6549321525660868424*V**20 - 70762664532203828696*V**19 + 533227295566978583199*V**18 - 2356642797929479996046*V**17 + 33928811034052182156608*V**16 + 210324064224035824858072*V**15 - 15668708820571616115956447*V**14 + 229961246627730655488084806*V**13 - 8908836312505842094011492*V**12 + 10568422249772534640591210270*V**11 + 64249370379190136196068470865*V**10 + 929263054465142146755737332732*V**9 + 36482875624858084964700715629755*V**8 - 161014238456737407669022637137836*V**7 + 2633006450223902236459393598932232*V**6 - 5194010643300529240829183958997504*V**5 + 128305384349102288164662769226720976*V**4 - 222462655110696081725500982469112320*V**3 + 21259415007707624703378569363336640*V**2 + 1790204687382823860028765567375670400*V + 5094503623281345965490386023819521280"
      ]
     },
     "metadata": {},
     "output_type": "display_data"
    },
    {
     "data": {
      "text/latex": [
       "$\\displaystyle PermutationGroup\\left(\\left( 0\\; 5\\right)\\left( 1\\; 2\\; 4\\; 3\\right), \\left( 1\\; 5\\; 4\\right)\\right)$"
      ],
      "text/plain": [
       "PermutationGroup([\n",
       "    (0 5)(1 2 4 3),\n",
       "    (1 5 4)])"
      ]
     },
     "metadata": {},
     "output_type": "display_data"
    },
    {
     "data": {
      "text/plain": [
       "36"
      ]
     },
     "metadata": {},
     "output_type": "display_data"
    },
    {
     "name": "stdout",
     "output_type": "stream",
     "text": [
      "CPU times: user 2min 55s, sys: 507 ms, total: 2min 55s\n",
      "Wall time: 2min 56s\n"
     ]
    }
   ],
   "source": [
    "%%time\n",
    "#https://facstaff.elon.edu/cawtrey/afjr-sextic.pdf\n",
    "displayG(*GaloisGroupMinumalPolynomial(poly(x**6 - x**5 + x**4 - x**3 - 4*x**2 + 5)))"
   ]
  },
  {
   "cell_type": "code",
   "execution_count": 10,
   "metadata": {},
   "outputs": [
    {
     "data": {
      "text/latex": [
       "$\\displaystyle V^{12} + 396 V^{10} + 594 V^{9} + 58860 V^{8} + 189486 V^{7} + 3811291 V^{6} + 20068884 V^{5} + 78503778 V^{4} - 70822026 V^{3} - 908237880 V^{2} - 65823996546 V + 776133180289$"
      ],
      "text/plain": [
       "V**12 + 396*V**10 + 594*V**9 + 58860*V**8 + 189486*V**7 + 3811291*V**6 + 20068884*V**5 + 78503778*V**4 - 70822026*V**3 - 908237880*V**2 - 65823996546*V + 776133180289"
      ]
     },
     "metadata": {},
     "output_type": "display_data"
    },
    {
     "data": {
      "text/latex": [
       "$\\displaystyle PermutationGroup\\left(\\left( 0\\; 5\\right)\\left( 1\\; 2\\right), \\left( 0\\; 2\\; 3\\; 1\\; 5\\; 4\\right), \\left( 0\\; 3\\; 5\\right)\\left( 1\\; 4\\; 2\\right)\\right)$"
      ],
      "text/plain": [
       "PermutationGroup([\n",
       "    (0 5)(1 2),\n",
       "    (0 2 3 1 5 4),\n",
       "    (0 3 5)(1 4 2)])"
      ]
     },
     "metadata": {},
     "output_type": "display_data"
    },
    {
     "data": {
      "text/plain": [
       "12"
      ]
     },
     "metadata": {},
     "output_type": "display_data"
    },
    {
     "name": "stdout",
     "output_type": "stream",
     "text": [
      "CPU times: user 25.8 s, sys: 59.1 ms, total: 25.9 s\n",
      "Wall time: 25.9 s\n"
     ]
    }
   ],
   "source": [
    "%%time\n",
    "#https://facstaff.elon.edu/cawtrey/afjr-sextic.pdf\n",
    "displayG(*GaloisGroupMinumalPolynomial(poly(x**6 + x**4 - 2*x**3 + x**2 - x + 1)))"
   ]
  },
  {
   "cell_type": "code",
   "execution_count": 11,
   "metadata": {},
   "outputs": [
    {
     "data": {
      "text/latex": [
       "$\\displaystyle V^{24} - 36 V^{23} + 1422 V^{22} - 33264 V^{21} + 777361 V^{20} - 13703376 V^{19} + 241004026 V^{18} - 3466644912 V^{17} + 49502002706 V^{16} - 606873858204 V^{15} + 7266873337814 V^{14} - 77096778717264 V^{13} + 808144549049687 V^{12} - 7649777156647932 V^{11} + 64035092565556148 V^{10} - 497561842177977540 V^{9} + 4161263957095404602 V^{8} - 31542037392494818896 V^{7} + 164814985794141704380 V^{6} - 528557435144043351624 V^{5} + 8672444052060473473489 V^{4} - 40693216342156588322952 V^{3} + 229279811309678144209500 V^{2} - 1178207882317979839156464 V + 4581788046050009695649776$"
      ],
      "text/plain": [
       "V**24 - 36*V**23 + 1422*V**22 - 33264*V**21 + 777361*V**20 - 13703376*V**19 + 241004026*V**18 - 3466644912*V**17 + 49502002706*V**16 - 606873858204*V**15 + 7266873337814*V**14 - 77096778717264*V**13 + 808144549049687*V**12 - 7649777156647932*V**11 + 64035092565556148*V**10 - 497561842177977540*V**9 + 4161263957095404602*V**8 - 31542037392494818896*V**7 + 164814985794141704380*V**6 - 528557435144043351624*V**5 + 8672444052060473473489*V**4 - 40693216342156588322952*V**3 + 229279811309678144209500*V**2 - 1178207882317979839156464*V + 4581788046050009695649776"
      ]
     },
     "metadata": {},
     "output_type": "display_data"
    },
    {
     "data": {
      "text/latex": [
       "$\\displaystyle PermutationGroup\\left(\\left( 0\\; 3\\; 1\\; 2\\right)\\left( 5\\right), \\left( 0\\; 2\\; 5\\right)\\left( 1\\; 3\\; 4\\right)\\right)$"
      ],
      "text/plain": [
       "PermutationGroup([\n",
       "    (5)(0 3 1 2),\n",
       "    (0 2 5)(1 3 4)])"
      ]
     },
     "metadata": {},
     "output_type": "display_data"
    },
    {
     "data": {
      "text/plain": [
       "24"
      ]
     },
     "metadata": {},
     "output_type": "display_data"
    },
    {
     "name": "stdout",
     "output_type": "stream",
     "text": [
      "CPU times: user 1min 56s, sys: 132 ms, total: 1min 56s\n",
      "Wall time: 1min 56s\n"
     ]
    }
   ],
   "source": [
    "%%time\n",
    "#https://reader.elsevier.com/reader/sd/pii/S0022314X14001978?token=6031E12FC060809309C35F9369B60F4A73451F6D2B5555903C781B34AD03D501B310E5D2A8FA9FA9DF1E93609FDC9377&originRegion=us-east-1&originCreation=20210523165740\n",
    "displayG(*GaloisGroupMinumalPolynomial(poly(x**6 - 3*x**5 + 6*x**4 - 7*x**3 + 2*x**2 + x - 4)))"
   ]
  },
  {
   "cell_type": "code",
   "execution_count": null,
   "metadata": {},
   "outputs": [],
   "source": []
  }
 ],
 "metadata": {
  "kernelspec": {
   "display_name": "Python 3",
   "language": "python",
   "name": "python3"
  },
  "language_info": {
   "codemirror_mode": {
    "name": "ipython",
    "version": 3
   },
   "file_extension": ".py",
   "mimetype": "text/x-python",
   "name": "python",
   "nbconvert_exporter": "python",
   "pygments_lexer": "ipython3",
   "version": "3.9.2"
  }
 },
 "nbformat": 4,
 "nbformat_minor": 4
}
