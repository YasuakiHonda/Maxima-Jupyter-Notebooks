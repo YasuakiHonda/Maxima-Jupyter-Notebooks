{
 "cells": [
  {
   "cell_type": "markdown",
   "metadata": {},
   "source": [
    "$(\\sum_{n=1}^{\\infty} x^{n^2})^3$の$x^{2020}$の項の係数を正確に求めるためには、以下の計算より$n=45$まで計算すれば良いことが分かります。"
   ]
  },
  {
   "cell_type": "code",
   "execution_count": 1,
   "metadata": {},
   "outputs": [
    {
     "data": {
      "text/latex": [
       "\\[\\tag{${\\it \\%o}_{1}$}44.94441010848846\\]"
      ],
      "text/plain": [
       "(%o1)                          44.94441010848846"
      ],
      "text/x-maxima": [
       "44.94441010848846"
      ]
     },
     "execution_count": 1,
     "metadata": {},
     "output_type": "execute_result"
    }
   ],
   "source": [
    "2020^(1/2),numer;"
   ]
  },
  {
   "cell_type": "markdown",
   "metadata": {},
   "source": [
    "あとで使うので、$(\\sum_{n=1}^{45} x^{n^2})$を求めてAとします。"
   ]
  },
  {
   "cell_type": "code",
   "execution_count": 2,
   "metadata": {},
   "outputs": [
    {
     "data": {
      "text/latex": [
       "\\[\\tag{${\\it \\%o}_{2}$}x^{2025}+x^{1936}+x^{1849}+x^{1764}+x^{1681}+x^{1600}+x^{1521}+x^{1444}+x^{1369}+x^{1296}+x^{1225}+x^{1156}+x^{1089}+x^{1024}+x^{961}+x^{900}+x^{841}+x^{784}+x^{729}+x^{676}+x^{625}+x^{576}+x^{529}+x^{484}+x^{441}+x^{400}+x^{361}+x^{324}+x^{289}+x^{256}+x^{225}+x^{196}+x^{169}+x^{144}+x^{121}+x^{100}+x^{81}+x^{64}+x^{49}+x^{36}+x^{25}+x^{16}+x^9+x^4+x\\]"
      ],
      "text/plain": [
       "       2025    1936    1849    1764    1681    1600    1521    1444    1369\n",
       "(%o2) x     + x     + x     + x     + x     + x     + x     + x     + x\n",
       "    1296    1225    1156    1089    1024    961    900    841    784    729\n",
       " + x     + x     + x     + x     + x     + x    + x    + x    + x    + x\n",
       "    676    625    576    529    484    441    400    361    324    289    256\n",
       " + x    + x    + x    + x    + x    + x    + x    + x    + x    + x    + x\n",
       "    225    196    169    144    121    100    81    64    49    36    25    16\n",
       " + x    + x    + x    + x    + x    + x    + x   + x   + x   + x   + x   + x\n",
       "    9    4\n",
       " + x  + x  + x"
      ],
      "text/x-maxima": [
       "x^2025+x^1936+x^1849+x^1764+x^1681+x^1600+x^1521+x^1444+x^1369+x^1296+x^1225\n",
       "      +x^1156+x^1089+x^1024+x^961+x^900+x^841+x^784+x^729+x^676+x^625+x^576\n",
       "      +x^529+x^484+x^441+x^400+x^361+x^324+x^289+x^256+x^225+x^196+x^169+x^144\n",
       "      +x^121+x^100+x^81+x^64+x^49+x^36+x^25+x^16+x^9+x^4+x"
      ]
     },
     "execution_count": 2,
     "metadata": {},
     "output_type": "execute_result"
    }
   ],
   "source": [
    "A:sum(x^(n^2),n,1,45);"
   ]
  },
  {
   "cell_type": "markdown",
   "metadata": {},
   "source": [
    "$A^3$を計算し、その$x^{2020}$の係数を求めます。"
   ]
  },
  {
   "cell_type": "code",
   "execution_count": 3,
   "metadata": {},
   "outputs": [
    {
     "data": {
      "text/latex": [
       "\\[\\tag{${\\it \\%o}_{3}$}6\\]"
      ],
      "text/plain": [
       "(%o3)                                  6"
      ],
      "text/x-maxima": [
       "6"
      ]
     },
     "execution_count": 3,
     "metadata": {},
     "output_type": "execute_result"
    }
   ],
   "source": [
    "coeff(expand(A^3),x,2020);"
   ]
  },
  {
   "cell_type": "markdown",
   "metadata": {},
   "source": [
    "6であることが分かりました。つまり2020を３つの平方数の和で表す方法は6通りとわかります。\n",
    "\n",
    "次にAの各項の次数を取り出したリストを作りDEGLISTとします。"
   ]
  },
  {
   "cell_type": "code",
   "execution_count": 4,
   "metadata": {},
   "outputs": [
    {
     "data": {
      "text/latex": [
       "\\[\\tag{${\\it \\%o}_{4}$}\\left[ 2025 , 1936 , 1849 , 1764 , 1681 , 1600 , 1521 , 1444 , 1369 , 1296 , 1225 , 1156 , 1089 , 1024 , 961 , 900 , 841 , 784 , 729 , 676 , 625 , 576 , 529 , 484 , 441 , 400 , 361 , 324 , 289 , 256 , 225 , 196 , 169 , 144 , 121 , 100 , 81 , 64 , 49 , 36 , 25 , 16 , 9 , 4 , 1 \\right] \\]"
      ],
      "text/plain": [
       "(%o4) [2025, 1936, 1849, 1764, 1681, 1600, 1521, 1444, 1369, 1296, 1225, 1156, \n",
       "1089, 1024, 961, 900, 841, 784, 729, 676, 625, 576, 529, 484, 441, 400, 361, \n",
       "324, 289, 256, 225, 196, 169, 144, 121, 100, 81, 64, 49, 36, 25, 16, 9, 4, 1]"
      ],
      "text/x-maxima": [
       "[2025,1936,1849,1764,1681,1600,1521,1444,1369,1296,1225,1156,1089,1024,961,\n",
       " 900,841,784,729,676,625,576,529,484,441,400,361,324,289,256,225,196,169,144,\n",
       " 121,100,81,64,49,36,25,16,9,4,1]"
      ]
     },
     "execution_count": 4,
     "metadata": {},
     "output_type": "execute_result"
    }
   ],
   "source": [
    "DEGLIST:map(lambda([expr],hipow(expr,x)),args(A));"
   ]
  },
  {
   "cell_type": "markdown",
   "metadata": {},
   "source": [
    "$A^2$の展開式を2020次まで計算してBとおきます。"
   ]
  },
  {
   "cell_type": "code",
   "execution_count": 5,
   "metadata": {},
   "outputs": [],
   "source": [
    "B:remainder(A^2,x^2021)$"
   ]
  },
  {
   "cell_type": "markdown",
   "metadata": {},
   "source": [
    "Bの各項を取り出し(expr)、exprの次数を2020から引いたものがDEGLISTのメンバーかどうかチェックします。メンバーならそれは平方数のはずなのでその平方根を出力します。出力される数は、2020を３つの平方数で表す時に使われる元の数（元の問題文のa, b, cのどれか)に必ずなります。"
   ]
  },
  {
   "cell_type": "code",
   "execution_count": 6,
   "metadata": {},
   "outputs": [
    {
     "data": {
      "text/latex": [
       "\\(18\\)"
      ],
      "text/plain": [
       "inline-value"
      ]
     },
     "metadata": {},
     "output_type": "display_data"
    },
    {
     "data": {
      "text/latex": [
       "\\(20\\)"
      ],
      "text/plain": [
       "inline-value"
      ]
     },
     "metadata": {},
     "output_type": "display_data"
    },
    {
     "data": {
      "text/latex": [
       "\\(36\\)"
      ],
      "text/plain": [
       "inline-value"
      ]
     },
     "metadata": {},
     "output_type": "display_data"
    }
   ],
   "source": [
    "map(lambda([expr],if member(2020-hipow(expr,x),DEGLIST) then print(sqrt(2020-hipow(expr,x)))),B)$"
   ]
  },
  {
   "cell_type": "markdown",
   "metadata": {},
   "source": [
    "３つの異なる数が出力されました。ということはこれらの並べ替えが６通りあるので、それで全て、ということになります。つまり$(a,b,c)=(18,20,36),(18,36,20), (20,18,36), (20,36,18), (36,18,20),(36,20,18)$で全て、ということです。\n",
    "\n",
    "念のため18, 20, 36の平方数の和を計算して検算としましょう。"
   ]
  },
  {
   "cell_type": "code",
   "execution_count": 7,
   "metadata": {},
   "outputs": [
    {
     "data": {
      "text/latex": [
       "\\[\\tag{${\\it \\%o}_{7}$}2020\\]"
      ],
      "text/plain": [
       "(%o7)                                2020"
      ],
      "text/x-maxima": [
       "2020"
      ]
     },
     "execution_count": 7,
     "metadata": {},
     "output_type": "execute_result"
    }
   ],
   "source": [
    "18^2+20^2+36^2;"
   ]
  },
  {
   "cell_type": "code",
   "execution_count": null,
   "metadata": {},
   "outputs": [],
   "source": []
  }
 ],
 "metadata": {
  "kernelspec": {
   "display_name": "Maxima",
   "language": "maxima",
   "name": "maxima"
  },
  "language_info": {
   "codemirror_mode": "maxima",
   "file_extension": ".mac",
   "mimetype": "text/x-maxima",
   "name": "maxima",
   "pygments_lexer": "maxima",
   "version": "5.44.0"
  }
 },
 "nbformat": 4,
 "nbformat_minor": 4
}
