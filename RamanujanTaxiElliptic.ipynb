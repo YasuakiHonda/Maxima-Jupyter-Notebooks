{
 "cells": [
  {
   "cell_type": "markdown",
   "metadata": {},
   "source": [
    "$m$を与えられた整数として、$u^3+v^3=m$を満たす正の有理数の組$(u,v)$を指定した個数見つけてみましょう。\n",
    "まず、基礎知識として、$u, v$の有理変換を行うと、この３乗数の和の式が、楕円曲線に移ることをみましょう。"
   ]
  },
  {
   "cell_type": "code",
   "execution_count": 1,
   "metadata": {},
   "outputs": [
    {
     "data": {
      "text/latex": [
       "\\[\\tag{${\\it \\%o}_{1}$}v^3+u^3=m\\]"
      ],
      "text/plain": [
       "                                   3    3\n",
       "(%o1)                             v  + u  = m"
      ],
      "text/x-maxima": [
       "v^3+u^3 = m"
      ]
     },
     "execution_count": 1,
     "metadata": {},
     "output_type": "execute_result"
    }
   ],
   "source": [
    "UV:u^3+v^3=m;"
   ]
  },
  {
   "cell_type": "markdown",
   "metadata": {},
   "source": [
    "有理変換は次式で与えられます。"
   ]
  },
  {
   "cell_type": "code",
   "execution_count": 2,
   "metadata": {},
   "outputs": [
    {
     "data": {
      "text/latex": [
       "\\[\\tag{${\\it \\%o}_{2}$}\\left[ x=\\frac{12\\,m}{v+u} , y=\\frac{36\\,m\\,\\left(u-v\\right)}{v+u} \\right] \\]"
      ],
      "text/plain": [
       "                              12 m       36 m (u - v)\n",
       "(%o2)                    [x = -----, y = ------------]\n",
       "                              v + u         v + u"
      ],
      "text/x-maxima": [
       "[x = (12*m)/(v+u),y = (36*m*(u-v))/(v+u)]"
      ]
     },
     "execution_count": 2,
     "metadata": {},
     "output_type": "execute_result"
    }
   ],
   "source": [
    "REL:[x=12*m/(u+v),y=36*m*(u-v)/(u+v)];"
   ]
  },
  {
   "cell_type": "markdown",
   "metadata": {},
   "source": [
    "実はこの変換は双有理変換であり、逆変換も有理変換になります。上式を$u,v$について解いて得られる次式が逆変換になります。"
   ]
  },
  {
   "cell_type": "code",
   "execution_count": 3,
   "metadata": {},
   "outputs": [
    {
     "data": {
      "text/latex": [
       "\\[\\tag{${\\it \\%o}_{3}$}\\left[ \\left[ u=\\frac{y+36\\,m}{6\\,x} , v=\\frac{36\\,m-y}{6\\,x} \\right]  \\right] \\]"
      ],
      "text/plain": [
       "                              y + 36 m      36 m - y\n",
       "(%o3)                   [[u = --------, v = --------]]\n",
       "                                6 x           6 x"
      ],
      "text/x-maxima": [
       "[[u = (y+36*m)/(6*x),v = (36*m-y)/(6*x)]]"
      ]
     },
     "execution_count": 3,
     "metadata": {},
     "output_type": "execute_result"
    }
   ],
   "source": [
    "RELINV:solve(REL,[u,v]);"
   ]
  },
  {
   "cell_type": "markdown",
   "metadata": {},
   "source": [
    "この$u,v$を３乗数の和の式に代入して整理すると、$x, y$についての楕円曲線が得られます。"
   ]
  },
  {
   "cell_type": "code",
   "execution_count": 4,
   "metadata": {},
   "outputs": [
    {
     "data": {
      "text/latex": [
       "\\[\\tag{${\\it \\%o}_{4}$}\\frac{\\left(y+36\\,m\\right)^3}{216\\,x^3}+\\frac{\\left(36\\,m-y\\right)^3}{216\\,x^3}=m\\]"
      ],
      "text/plain": [
       "                                   3             3\n",
       "                         (y + 36 m)    (36 m - y)\n",
       "(%o4)                    ----------- + ----------- = m\n",
       "                                3             3\n",
       "                           216 x         216 x"
      ],
      "text/x-maxima": [
       "(y+36*m)^3/(216*x^3)+(36*m-y)^3/(216*x^3) = m"
      ]
     },
     "execution_count": 4,
     "metadata": {},
     "output_type": "execute_result"
    }
   ],
   "source": [
    "XY1:UV,RELINV;"
   ]
  },
  {
   "cell_type": "code",
   "execution_count": 5,
   "metadata": {},
   "outputs": [
    {
     "data": {
      "text/latex": [
       "\\[\\tag{${\\it \\%o}_{5}$}y^2+432\\,m^2=x^3\\]"
      ],
      "text/plain": [
       "                                2        2    3\n",
       "(%o5)                          y  + 432 m  = x"
      ],
      "text/x-maxima": [
       "y^2+432*m^2 = x^3"
      ]
     },
     "execution_count": 5,
     "metadata": {},
     "output_type": "execute_result"
    }
   ],
   "source": [
    "XY2:expand(XY1*x^3)/m,ratsimp;"
   ]
  },
  {
   "cell_type": "code",
   "execution_count": 6,
   "metadata": {},
   "outputs": [
    {
     "data": {
      "text/latex": [
       "\\[\\tag{${\\it \\%o}_{6}$}\\left[ y^2=x^3-432\\,m^2 \\right] \\]"
      ],
      "text/plain": [
       "                                2    3        2\n",
       "(%o6)                         [y  = x  - 432 m ]"
      ],
      "text/x-maxima": [
       "[y^2 = x^3-432*m^2]"
      ]
     },
     "execution_count": 6,
     "metadata": {},
     "output_type": "execute_result"
    }
   ],
   "source": [
    "XY3:solve(XY2,y^2);"
   ]
  },
  {
   "cell_type": "markdown",
   "metadata": {},
   "source": [
    "楕円曲線上の２つ有理点の加法の実装が、以下の関数$addPQ(a,b,c,p,q)$, 2倍点の実装が$P2(a,b,c,p)$です。引数$a,b,c$は楕円曲線$y^2=x^3+a\\,x^2+b\\,x+c$を指定しており、$p,q$はその楕円曲線上の有理点を表します。"
   ]
  },
  {
   "cell_type": "code",
   "execution_count": 7,
   "metadata": {},
   "outputs": [],
   "source": [
    "/* 2P, P=(x1,y1), y^2:=x^3+a*x^2+b*x+c */\n",
    "\n",
    "P2(a,b,c,p):=block([L,v,x3,x,y],\n",
    "  x:p[1],y:p[2],\n",
    "  L:(3*x^2+2*a*x+b)/(2*y),\n",
    "  v:y-L*x,\n",
    "  x3:L^2-a-2*x,\n",
    "  return([x3,-L*x3-v]))$\n",
    "\n",
    "addPQ(a,b,c,p,q):=block([x1:p[1],y1:p[2],x2:q[1],y2:q[2],x3,L,v],\n",
    "  L:(y2-y1)/(x2-x1),\n",
    "  v:(y1*x2-y2*x1)/(x2-x1),\n",
    "  x3:L^2-a-x1-x2,\n",
    "  return([x3, -L*x3-v]))$"
   ]
  },
  {
   "cell_type": "markdown",
   "metadata": {},
   "source": [
    "以下のループによる探査プログラム$searchLoop(a,b,c,m,N,u,v)$を使うと、$u^3+v^3=m$上の正の有理点を$N$個見つけて表示します。その際に見つかった$u,v$の3乗の和を計算し、表示します。\n",
    "\n",
    "アルゴリズムは以下の通りです。$u^3+v^3=m$を満たす有理数の組$(u,v)$を1組与えると、それを有理変換で楕円曲線上の有理点$(x,y)$に変換します。そしてその２倍点を計算し$p$とします。\n",
    "\n",
    "次にpに最初の点$(x,y)$を次々に足して楕円曲線上の有理点を作り出します。それを逆変換して、$u^3+v^3=m$を満たす有理点$(u,v)$に引き戻します。そして$u,v$共に正であれば１つ、正の有理点が見つかったこととして、表示出力し、Nを1減じます。"
   ]
  },
  {
   "cell_type": "code",
   "execution_count": 8,
   "metadata": {},
   "outputs": [],
   "source": [
    "searchLoop(a,b,c,m,N,u,v):=block([x,y,res1,p],\n",
    "  x:12*m/(u+v),y:36*m*(u-v)/(u+v),\n",
    "  p:P2(a,b,c,[x,y]),\n",
    "  while (N>0) do block([pp],\n",
    "    pp:[(p[2]+36*m)/(6*p[1]),(36*m-p[2])/(6*p[1])],\n",
    "    if (pp[1]>0 and pp[2]>0) then (print(pp,pp[1]^3+pp[2]^3),N:N-1),\n",
    "    p:addPQ(a,b,c,[x,y],p)\n",
    "  ))$\n"
   ]
  },
  {
   "cell_type": "markdown",
   "metadata": {},
   "source": [
    "$m=7$として、$u^3+v^3=7$を満たす有理点を目視で1つ$(-1,2)$を見つけておきます。変換後の楕円曲線は$y^2=x^3-432\\,m^2$なので、楕円曲線を指定する引数は、$0, 0, -432\\,m^2$です。$u^3+v^3=7$を満たす有理点を５つ見つけてみましょう。"
   ]
  },
  {
   "cell_type": "code",
   "execution_count": 9,
   "metadata": {},
   "outputs": [
    {
     "data": {
      "text/latex": [
       "\\(\\left[ \\frac{4}{3} , \\frac{5}{3} \\right] \\) \\(7\\)"
      ],
      "text/plain": [
       "inline-value"
      ]
     },
     "metadata": {},
     "output_type": "display_data"
    },
    {
     "data": {
      "text/latex": [
       "\\(\\left[ \\frac{4381019}{4989780} , \\frac{9226981}{4989780} \\right] \\) \\(7\\)"
      ],
      "text/plain": [
       "inline-value"
      ]
     },
     "metadata": {},
     "output_type": "display_data"
    },
    {
     "data": {
      "text/latex": [
       "\\(\\left[ \\frac{4309182809}{2252725111} , \\frac{191114642}{2252725111} \\right] \\) \\(7\\)"
      ],
      "text/plain": [
       "inline-value"
      ]
     },
     "metadata": {},
     "output_type": "display_data"
    },
    {
     "data": {
      "text/latex": [
       "\\(\\left[ \\frac{4925537406304613275}{13637510581130984157} , \\frac{26028958492372169876}{13637510581130984157} \\right] \\) \\(7\\)"
      ],
      "text/plain": [
       "inline-value"
      ]
     },
     "metadata": {},
     "output_type": "display_data"
    },
    {
     "data": {
      "text/latex": [
       "\\(\\left[ \\frac{402771696684747198205318}{212909948416834044152039} , \\frac{130447457054816341116601}{212909948416834044152039} \\right] \\) \\(7\\)"
      ],
      "text/plain": [
       "inline-value"
      ]
     },
     "metadata": {},
     "output_type": "display_data"
    },
    {
     "data": {
      "text/latex": [
       "\\[\\tag{${\\it \\%o}_{10}$}\\mathbf{done}\\]"
      ],
      "text/plain": [
       "(%o10)                               done"
      ],
      "text/x-maxima": [
       "done"
      ]
     },
     "execution_count": 9,
     "metadata": {},
     "output_type": "execute_result"
    }
   ],
   "source": [
    "searchLoop(0,0,-432*m^2,m,5, -1,2),m:7;"
   ]
  },
  {
   "cell_type": "markdown",
   "metadata": {},
   "source": [
    "$$D=3\\cdot 4989780\\cdot 2252725111 \\cdot 13637510581130984157 \\cdot 212909948416834044152039$$\n",
    "とします。すると、$$(\\frac{4\\,D}{3})^3+(\\frac{5\\,D}{3})^3=7\\,D^3$$です。$D$は定義より$3$で割り切れますから、この式は$7\\,D^3$を２つの正の３乗数の和で表す１つの方法を与えます。\n",
    "同様にして、$$(\\frac{4381019\\,D}{4989780})^3+(\\frac{9226981\\,D}{4989780})^3=7\\,D^3 \\\\\n",
    "(\\frac{4309182809\\,D}{2252725111})^3+(\\frac{191114642\\,D}{2252725111})^3=7\\,D^3 \\\\\n",
    "(\\frac{4925537406304613275\\,D}{13637510581130984157})^3+(\\frac{26028958492372169876\\,D}{13637510581130984157})^3=7\\,D^3 \\\\\n",
    "(\\frac{402771696684747198205318\\,D}{212909948416834044152039})^3+(\\frac{130447457054816341116601\\,D}{212909948416834044152039})^3=7\\,D^3 $$\n",
    "はいずれも$7\\,D^3$を２つの正の３乗数の和で表す方法を与えています。この結果、$$Ta(5) \\leq 7\\,D^3$$がわかりました。"
   ]
  },
  {
   "cell_type": "markdown",
   "metadata": {},
   "source": [
    "# Ramanujan's taxi cab number and elliptic curve\n",
    "\n",
    "Copyright 2021 Yasuaki Honda\n",
    "\n",
    "GPL2\n",
    "\n",
    "if you need different licensing for above programs, please contact me."
   ]
  },
  {
   "cell_type": "code",
   "execution_count": null,
   "metadata": {},
   "outputs": [],
   "source": []
  }
 ],
 "metadata": {
  "kernelspec": {
   "display_name": "Maxima",
   "language": "maxima",
   "name": "maxima"
  },
  "language_info": {
   "codemirror_mode": "maxima",
   "file_extension": ".mac",
   "mimetype": "text/x-maxima",
   "name": "maxima",
   "pygments_lexer": "maxima",
   "version": "5.44.0"
  }
 },
 "nbformat": 4,
 "nbformat_minor": 4
}
