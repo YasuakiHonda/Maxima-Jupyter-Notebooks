{
 "cells": [
  {
   "cell_type": "markdown",
   "metadata": {},
   "source": [
    "# How to plot Riemann zeta zero spikes by fourier (mellin) transform of von Mangoldt function\n",
    "Yasuaki Honda at google dot com\n",
    "\n",
    "[1] Wikipedia von Mangoldt function, https://en.wikipedia.org/wiki/Von_Mangoldt_function\n",
    "\n",
    "[2] Conrey, The Riemann Hypothesis https://www.ams.org/notices/200303/fea-conrey-web.pdf\n",
    "\n",
    "[3] https://stackoverflow.com/questions/8934125/how-plot-the-riemann-zeta-zero-spectrum-with-the-fourier-transform-in-mathematic/8975710#8975710\n",
    "\n",
    "[4] The LMFDB Collaboration, The L-functions and Modular Forms Database, \n",
    "home page of the Zeros of zeta(s),\n",
    "https://www.lmfdb.org/zeros/zeta/?limit=200&N=1, 2020 , [Online; accessed 10 October 2020]."
   ]
  },
  {
   "cell_type": "code",
   "execution_count": 1,
   "metadata": {},
   "outputs": [
    {
     "data": {
      "text/latex": [
       "\\[\\tag{${\\it \\%o}_{1}$}1000000\\]"
      ],
      "text/plain": [
       "(%o1)                               1000000"
      ],
      "text/x-maxima": [
       "1000000"
      ]
     },
     "execution_count": 1,
     "metadata": {},
     "output_type": "execute_result"
    }
   ],
   "source": [
    "scale:1000000;"
   ]
  },
  {
   "cell_type": "code",
   "execution_count": 2,
   "metadata": {},
   "outputs": [
    {
     "data": {
      "text/latex": [
       "\\[\\tag{${\\it \\%o}_{2}$}{\\it mangoldt}\\left(n\\right)=\\left(\\mathbf{if}\\;n=1\\;\\mathbf{then}\\;1\\;\\mathbf{elseif}\\;n=p^{k}\\;\\mathbf{then}\\;\\log p\\;\\mathbf{else}\\;0\\right)\\]"
      ],
      "text/plain": [
       "                                                  k\n",
       "(%o2)  mangoldt(n) = (if n = 1 then 1 elseif n = p  then log(p) else 0)"
      ],
      "text/x-maxima": [
       "mangoldt(n) = (if n = 1 then 1 elseif n = p^k then log(p) else 0)"
      ]
     },
     "execution_count": 2,
     "metadata": {},
     "output_type": "execute_result"
    }
   ],
   "source": [
    "mangoldt(n)='if n=1 then 1 elseif n=p^k then log(p) else 0;"
   ]
  },
  {
   "cell_type": "code",
   "execution_count": 3,
   "metadata": {},
   "outputs": [],
   "source": [
    "mangoldt_c(n):=if floor(n)<2 then 0 else block([ifc:ifactors(floor(n))],if length(ifc)=1 then log(ifc[1][1]) else 0)$\n",
    "(matchdeclare(n,numberp),tellsimp(mangoldt(n),mangoldt_c(n)))$"
   ]
  },
  {
   "cell_type": "code",
   "execution_count": 4,
   "metadata": {},
   "outputs": [
    {
     "data": {
      "text/latex": [
       "\\[\\tag{${\\it \\%o}_{5}$}{\\it psi}\\left(x\\right)=\\sum_{n=1}^{\\left \\lfloor x \\right \\rfloor}{{\\it mangoldt}\\left(n\\right)}\\]"
      ],
      "text/plain": [
       "                                  floor(x)\n",
       "                                  ====\n",
       "                                  \\\n",
       "(%o5)                    psi(x) =  >       mangoldt(n)\n",
       "                                  /\n",
       "                                  ====\n",
       "                                  n = 1"
      ],
      "text/x-maxima": [
       "'psi(x) = 'sum(mangoldt(n),n,1,floor(x))"
      ]
     },
     "execution_count": 4,
     "metadata": {},
     "output_type": "execute_result"
    }
   ],
   "source": [
    "'psi(x)=sum(mangoldt(n),n,1,floor(x));"
   ]
  },
  {
   "cell_type": "code",
   "execution_count": 5,
   "metadata": {},
   "outputs": [],
   "source": [
    "kill(psi_c)$\n",
    "psi_c[n]:=if n=1 then float(mangoldt(1)) else psi_c[n-1]+float(mangoldt(n))$\n",
    "psi(x):=psi_c[floor(x)]$\n",
    "for i:1 thru scale do psi(i)$"
   ]
  },
  {
   "cell_type": "code",
   "execution_count": 6,
   "metadata": {},
   "outputs": [
    {
     "data": {
      "text/latex": [
       "\\[\\tag{${\\it \\%o}_{10}$}\\int_{0}^{{\\it scale}}{x^{i\\,t-\\frac{1}{2}}\\,\\left({\\it psi}\\left(x\\right)-x\\right)\\;dx}\\]"
      ],
      "text/plain": [
       "                       scale\n",
       "                      /\n",
       "                      [       %i t - 1/2\n",
       "(%o10)                I      x           (psi(x) - x) dx\n",
       "                      ]\n",
       "                      /\n",
       "                       0"
      ],
      "text/x-maxima": [
       "'integrate(x^(%i*t-1/2)*('psi(x)-x),x,0,scale)"
      ]
     },
     "execution_count": 6,
     "metadata": {},
     "output_type": "execute_result"
    }
   ],
   "source": [
    "'integrate(('psi(x)-x)*x^(-1/2+%i*t),x,0,'scale);"
   ]
  },
  {
   "cell_type": "code",
   "execution_count": 7,
   "metadata": {},
   "outputs": [
    {
     "data": {
      "text/latex": [
       "\\[\\tag{${\\it \\%o}_{13}$}60\\]"
      ],
      "text/plain": [
       "(%o13)                                60"
      ],
      "text/x-maxima": [
       "60"
      ]
     },
     "execution_count": 7,
     "metadata": {},
     "output_type": "execute_result"
    },
    {
     "data": {
      "text/latex": [
       "\\[\\tag{${\\it \\%o}_{14}$}0.1\\]"
      ],
      "text/plain": [
       "(%o14)                                0.1"
      ],
      "text/x-maxima": [
       "0.1"
      ]
     },
     "execution_count": 7,
     "metadata": {},
     "output_type": "execute_result"
    }
   ],
   "source": [
    "xres:0.002$\n",
    "xlist:exp(makelist(i,i,0,float(log(scale)),xres))$\n",
    "tmax:60;\n",
    "tres:0.1;\n",
    "psilist: map(psi,xlist)-xlist$"
   ]
  },
  {
   "cell_type": "code",
   "execution_count": 8,
   "metadata": {},
   "outputs": [
    {
     "name": "stdout",
     "output_type": "stream",
     "text": [
      "warning: encountered undefined variable psi_c in translation.\n",
      "warning: encountered undefined variable xlist in translation.\n",
      "warning: encountered undefined variable tres in translation.\n",
      "warning: encountered undefined variable tmax in translation.\n",
      "warning: encountered undefined variable psilist in translation.\n"
     ]
    },
    {
     "data": {
      "text/latex": [
       "\\[\\tag{${\\it \\%o}_{19}$}\\left[ {\\it mangoldt\\_c} , \\psi , {\\it innerproduct} , {\\it xxlist} , {\\it primepeek} \\right] \\]"
      ],
      "text/plain": [
       "(%o19)        [mangoldt_c, psi, innerproduct, xxlist, primepeek]"
      ],
      "text/x-maxima": [
       "[mangoldt_c,psi,innerproduct,xxlist,primepeek]"
      ]
     },
     "execution_count": 8,
     "metadata": {},
     "output_type": "execute_result"
    }
   ],
   "source": [
    "innerproduct(list1,list2):=if not(length(list1)=length(list2)) then error(\"length of arg1 and arg2 does not match.\") else\n",
    "    block([c:length(list1),total:0,t1,t2],\n",
    "      for i:1 thru c do (t1:pop(list1),t2:pop(list2),total:total+t1*t2),\n",
    "      return(total))$\n",
    "xxlist(t):=imagpart(xlist^(-0.5+%i*t))$\n",
    "primepeek():=block([res:[],c:0],for t:0 step tres thru tmax do (\n",
    "  if mod(c,100)=0 then print(t), c:c+1,\n",
    "  res:append(res,[innerproduct(xxlist(t),psilist)])),return(res))$\n",
    "compile(all);\n"
   ]
  },
  {
   "cell_type": "code",
   "execution_count": 9,
   "metadata": {},
   "outputs": [
    {
     "name": "stdout",
     "output_type": "stream",
     "text": [
      "0 \n",
      "9.99999999999998 \n",
      "20.00000000000001 \n",
      "30.00000000000016 \n",
      "40.0000000000003 \n",
      "50.00000000000044 \n"
     ]
    }
   ],
   "source": [
    "errlist:primepeek()$"
   ]
  },
  {
   "cell_type": "code",
   "execution_count": 20,
   "metadata": {},
   "outputs": [
    {
     "data": {
      "image/svg+xml": [
       "<?xml version=\"1.0\" encoding=\"utf-8\"  standalone=\"no\"?>\n",
       "<svg \n",
       " width=\"600\" height=\"480\"\n",
       " viewBox=\"0 0 600 480\"\n",
       " xmlns=\"http://www.w3.org/2000/svg\"\n",
       " xmlns:xlink=\"http://www.w3.org/1999/xlink\"\n",
       ">\n",
       "\n",
       "<title>Gnuplot</title>\n",
       "<desc>Produced by GNUPLOT 5.2 patchlevel 8 </desc>\n",
       "\n",
       "<g id=\"gnuplot_canvas\">\n",
       "\n",
       "<rect x=\"0\" y=\"0\" width=\"600\" height=\"480\" fill=\"none\"/>\n",
       "<defs>\n",
       "\n",
       "\t<circle id='gpDot' r='0.5' stroke-width='0.5' stroke='currentColor'/>\n",
       "\t<path id='gpPt0' stroke-width='0.190' stroke='currentColor' d='M-1,0 h2 M0,-1 v2'/>\n",
       "\t<path id='gpPt1' stroke-width='0.190' stroke='currentColor' d='M-1,-1 L1,1 M1,-1 L-1,1'/>\n",
       "\t<path id='gpPt2' stroke-width='0.190' stroke='currentColor' d='M-1,0 L1,0 M0,-1 L0,1 M-1,-1 L1,1 M-1,1 L1,-1'/>\n",
       "\t<rect id='gpPt3' stroke-width='0.190' stroke='currentColor' x='-1' y='-1' width='2' height='2'/>\n",
       "\t<rect id='gpPt4' stroke-width='0.190' stroke='currentColor' fill='currentColor' x='-1' y='-1' width='2' height='2'/>\n",
       "\t<circle id='gpPt5' stroke-width='0.190' stroke='currentColor' cx='0' cy='0' r='1'/>\n",
       "\t<use xlink:href='#gpPt5' id='gpPt6' fill='currentColor' stroke='none'/>\n",
       "\t<path id='gpPt7' stroke-width='0.190' stroke='currentColor' d='M0,-1.33 L-1.33,0.67 L1.33,0.67 z'/>\n",
       "\t<use xlink:href='#gpPt7' id='gpPt8' fill='currentColor' stroke='none'/>\n",
       "\t<use xlink:href='#gpPt7' id='gpPt9' stroke='currentColor' transform='rotate(180)'/>\n",
       "\t<use xlink:href='#gpPt9' id='gpPt10' fill='currentColor' stroke='none'/>\n",
       "\t<use xlink:href='#gpPt3' id='gpPt11' stroke='currentColor' transform='rotate(45)'/>\n",
       "\t<use xlink:href='#gpPt11' id='gpPt12' fill='currentColor' stroke='none'/>\n",
       "\t<path id='gpPt13' stroke-width='0.190' stroke='currentColor' d='M0,1.330 L1.265,0.411 L0.782,-1.067 L-0.782,-1.076 L-1.265,0.411 z'/>\n",
       "\t<use xlink:href='#gpPt13' id='gpPt14' fill='currentColor' stroke='none'/>\n",
       "\t<filter id='textbox' filterUnits='objectBoundingBox' x='0' y='0' height='1' width='1'>\n",
       "\t  <feFlood flood-color='white' flood-opacity='1' result='bgnd'/>\n",
       "\t  <feComposite in='SourceGraphic' in2='bgnd' operator='atop'/>\n",
       "\t</filter>\n",
       "\t<filter id='greybox' filterUnits='objectBoundingBox' x='0' y='0' height='1' width='1'>\n",
       "\t  <feFlood flood-color='lightgrey' flood-opacity='1' result='grey'/>\n",
       "\t  <feComposite in='SourceGraphic' in2='grey' operator='atop'/>\n",
       "\t</filter>\n",
       "</defs>\n",
       "<g fill=\"none\" color=\"white\" stroke=\"currentColor\" stroke-width=\"1.00\" stroke-linecap=\"butt\" stroke-linejoin=\"miter\">\n",
       "</g>\n",
       "<g fill=\"none\" color=\"gray\" stroke=\"currentColor\" stroke-width=\"1.00\" stroke-linecap=\"butt\" stroke-linejoin=\"miter\">\n",
       "\t<path stroke='black' stroke-dasharray='2,4'  d='M93.7,82.7 L570.8,82.7  '/></g>\n",
       "<g fill=\"none\" color=\"gray\" stroke=\"currentColor\" stroke-width=\"1.00\" stroke-linecap=\"butt\" stroke-linejoin=\"miter\">\n",
       "\t<path stroke='black' stroke-dasharray='2,4'  d='M93.7,395.9 L93.7,38.0  '/></g>\n",
       "<g fill=\"none\" color=\"black\" stroke=\"currentColor\" stroke-width=\"1.00\" stroke-linecap=\"butt\" stroke-linejoin=\"miter\">\n",
       "\t<path stroke='black'  d='M93.7,38.0 L93.7,395.9 L570.8,395.9 L570.8,38.0 L93.7,38.0 Z  '/></g>\n",
       "<g fill=\"none\" color=\"black\" stroke=\"currentColor\" stroke-width=\"1.00\" stroke-linecap=\"butt\" stroke-linejoin=\"miter\">\n",
       "\t<g transform=\"translate(22.2,217.0) rotate(270)\" stroke=\"none\" fill=\"black\" font-family=\"Arial\" font-size=\"14.00\"  text-anchor=\"middle\">\n",
       "\t\t<text>y</text>\n",
       "\t</g>\n",
       "</g>\n",
       "<g fill=\"none\" color=\"black\" stroke=\"currentColor\" stroke-width=\"1.00\" stroke-linecap=\"butt\" stroke-linejoin=\"miter\">\n",
       "\t<g transform=\"translate(332.2,453.0)\" stroke=\"none\" fill=\"black\" font-family=\"Arial\" font-size=\"14.00\"  text-anchor=\"middle\">\n",
       "\t\t<text>x</text>\n",
       "\t</g>\n",
       "</g>\n",
       "<g fill=\"none\" color=\"black\" stroke=\"currentColor\" stroke-width=\"1.00\" stroke-linecap=\"butt\" stroke-linejoin=\"miter\">\n",
       "</g>\n",
       "\t<g id=\"gnuplot_plot_1\" ><title>gnuplot_plot_1</title>\n",
       "<g fill=\"none\" color=\"black\" stroke=\"currentColor\" stroke-width=\"1.00\" stroke-linecap=\"butt\" stroke-linejoin=\"miter\">\n",
       "\t<path stroke='rgb(  0,   0, 255)'  d='M93.7,82.7 L94.5,194.2 L95.3,284.9 L96.1,342.4 L96.9,367.2 L97.7,370.3 L98.5,363.7 L99.3,353.5\n",
       "\t\tL100.1,339.6 L100.9,322.1 L101.7,304.9 L102.4,290.9 L103.2,278.9 L104.0,265.9 L104.8,252.2 L105.6,240.9\n",
       "\t\tL106.4,232.9 L107.2,225.3 L108.0,215.8 L108.8,206.4 L109.6,200.2 L110.4,196.4 L111.2,191.3 L112.0,183.7\n",
       "\t\tL112.8,176.7 L113.6,172.8 L114.4,170.2 L115.2,166.4 L116.0,161.8 L116.8,158.6 L117.6,156.7 L118.4,153.5\n",
       "\t\tL119.1,148.7 L119.9,145.1 L120.7,144.5 L121.5,144.4 L122.3,141.6 L123.1,137.0 L123.9,134.1 L124.7,133.9\n",
       "\t\tL125.5,133.3 L126.3,130.4 L127.1,127.3 L127.9,126.4 L128.7,126.8 L129.5,125.6 L130.3,123.2 L131.1,122.3\n",
       "\t\tL131.9,123.0 L132.7,122.3 L133.5,119.0 L134.3,116.1 L135.0,116.5 L135.8,118.1 L136.6,116.5 L137.4,112.5\n",
       "\t\tL138.2,110.9 L139.0,113.4 L139.8,115.5 L140.6,113.1 L141.4,108.7 L142.2,107.8 L143.0,110.1 L143.8,110.4\n",
       "\t\tL144.6,107.1 L145.4,104.5 L146.2,106.4 L147.0,109.5 L147.8,108.5 L148.6,104.2 L149.4,102.2 L150.2,104.6\n",
       "\t\tL151.0,106.6 L151.7,104.5 L152.5,101.1 L153.3,101.1 L154.1,103.5 L154.9,103.3 L155.7,100.1 L156.5,98.4\n",
       "\t\tL157.3,100.5 L158.1,102.6 L158.9,100.8 L159.7,97.7 L160.5,98.2 L161.3,101.1 L162.1,101.0 L162.9,97.0\n",
       "\t\tL163.7,94.5 L164.5,96.9 L165.3,100.2 L166.1,99.2 L166.9,95.8 L167.7,95.6 L168.4,98.4 L169.2,98.7\n",
       "\t\tL170.0,94.6 L170.8,91.8 L171.6,94.5 L172.4,98.6 L173.2,97.4 L174.0,92.8 L174.8,91.9 L175.6,96.1\n",
       "\t\tL176.4,98.2 L177.2,94.2 L178.0,90.0 L178.8,91.9 L179.6,96.7 L180.4,96.1 L181.2,90.7 L182.0,89.0\n",
       "\t\tL182.8,93.9 L183.6,97.6 L184.3,93.7 L185.1,88.2 L185.9,89.7 L186.7,95.5 L187.5,95.5 L188.3,89.0\n",
       "\t\tL189.1,86.7 L189.9,93.0 L190.7,98.0 L191.5,92.6 L192.3,84.5 L193.1,87.0 L193.9,97.0 L194.7,98.1\n",
       "\t\tL195.5,86.7 L196.3,80.2 L197.1,90.3 L197.9,102.0 L198.7,94.7 L199.5,77.0 L200.3,77.9 L201.0,100.9\n",
       "\t\tL201.8,110.6 L202.6,83.3 L203.4,53.3 L204.2,80.0 L205.0,166.8 L205.8,240.3 L206.6,228.7 L207.4,145.2\n",
       "\t\tL208.2,71.0 L209.0,61.5 L209.8,93.3 L210.6,110.0 L211.4,94.5 L212.2,76.7 L213.0,81.3 L213.8,95.9\n",
       "\t\tL214.6,97.5 L215.4,86.6 L216.2,81.7 L217.0,88.6 L217.7,94.6 L218.5,90.4 L219.3,83.9 L220.1,85.4\n",
       "\t\tL220.9,91.5 L221.7,92.2 L222.5,86.8 L223.3,83.8 L224.1,87.0 L224.9,90.2 L225.7,88.5 L226.5,85.5\n",
       "\t\tL227.3,86.4 L228.1,89.3 L228.9,89.3 L229.7,86.4 L230.5,85.3 L231.3,87.2 L232.1,88.3 L232.9,87.0\n",
       "\t\tL233.6,86.1 L234.4,87.7 L235.2,89.1 L236.0,87.6 L236.8,85.4 L237.6,86.3 L238.4,88.9 L239.2,88.8\n",
       "\t\tL240.0,86.1 L240.8,85.2 L241.6,87.5 L242.4,88.6 L243.2,86.2 L244.0,83.7 L244.8,85.2 L245.6,88.0\n",
       "\t\tL246.4,87.1 L247.2,84.1 L248.0,85.0 L248.8,89.3 L249.6,90.0 L250.3,85.0 L251.1,82.1 L251.9,86.8\n",
       "\t\tL252.7,91.7 L253.5,86.9 L254.3,78.0 L255.1,80.3 L255.9,93.4 L256.7,96.3 L257.5,78.1 L258.3,63.0\n",
       "\t\tL259.1,86.7 L259.9,145.6 L260.7,189.5 L261.5,174.8 L262.3,115.7 L263.1,68.4 L263.9,66.6 L264.7,90.3\n",
       "\t\tL265.5,100.3 L266.3,87.9 L267.0,76.0 L267.8,81.2 L268.6,92.4 L269.4,92.0 L270.2,81.8 L271.0,77.8\n",
       "\t\tL271.8,85.0 L272.6,91.6 L273.4,88.2 L274.2,81.0 L275.0,81.2 L275.8,88.0 L276.6,90.9 L277.4,85.4\n",
       "\t\tL278.2,79.8 L279.0,82.0 L279.8,88.5 L280.6,89.6 L281.4,83.6 L282.2,79.5 L282.9,83.9 L283.7,91.0\n",
       "\t\tL284.5,90.1 L285.3,81.1 L286.1,76.1 L286.9,83.5 L287.7,94.3 L288.5,91.4 L289.3,74.4 L290.1,67.1\n",
       "\t\tL290.9,92.5 L291.7,140.6 L292.5,171.2 L293.3,154.9 L294.1,106.3 L294.9,69.4 L295.7,69.3 L296.5,89.5\n",
       "\t\tL297.3,98.1 L298.1,86.9 L298.9,75.4 L299.6,79.1 L300.4,90.0 L301.2,91.4 L302.0,82.7 L302.8,77.9\n",
       "\t\tL303.6,83.2 L304.4,89.4 L305.2,87.1 L306.0,80.9 L306.8,80.8 L307.6,86.6 L308.4,88.7 L309.2,83.6\n",
       "\t\tL310.0,79.1 L310.8,82.0 L311.6,87.7 L312.4,87.9 L313.2,83.0 L314.0,80.8 L314.8,84.3 L315.6,87.4\n",
       "\t\tL316.3,85.2 L317.1,81.2 L317.9,81.9 L318.7,86.3 L319.5,87.9 L320.3,84.6 L321.1,81.4 L321.9,82.8\n",
       "\t\tL322.7,86.1 L323.5,85.9 L324.3,82.4 L325.1,80.8 L325.9,83.9 L326.7,87.5 L327.5,86.3 L328.3,81.1\n",
       "\t\tL329.1,78.7 L329.9,83.2 L330.7,89.4 L331.5,87.7 L332.3,77.0 L333.0,71.4 L333.8,87.6 L334.6,123.5\n",
       "\t\tL335.4,152.5 L336.2,146.9 L337.0,109.4 L337.8,73.1 L338.6,66.7 L339.4,84.0 L340.2,95.8 L341.0,87.6\n",
       "\t\tL341.8,75.1 L342.6,77.5 L343.4,90.0 L344.2,92.9 L345.0,82.0 L345.8,74.6 L346.6,82.3 L347.4,92.4\n",
       "\t\tL348.2,87.9 L348.9,75.0 L349.7,74.5 L350.5,89.3 L351.3,96.5 L352.1,81.5 L352.9,64.9 L353.7,78.4\n",
       "\t\tL354.5,120.6 L355.3,152.3 L356.1,142.0 L356.9,103.0 L357.7,74.3 L358.5,74.1 L359.3,86.4 L360.1,89.3\n",
       "\t\tL360.9,82.7 L361.7,79.7 L362.5,84.1 L363.3,87.2 L364.1,84.1 L364.9,80.7 L365.6,82.6 L366.4,86.0\n",
       "\t\tL367.2,84.9 L368.0,81.2 L368.8,81.1 L369.6,84.7 L370.4,86.1 L371.2,83.3 L372.0,81.2 L372.8,83.2\n",
       "\t\tL373.6,85.6 L374.4,84.3 L375.2,81.6 L376.0,82.3 L376.8,85.3 L377.6,85.2 L378.4,81.4 L379.2,79.8\n",
       "\t\tL380.0,83.4 L380.8,86.8 L381.6,84.4 L382.3,79.8 L383.1,80.8 L383.9,86.3 L384.7,87.4 L385.5,81.4\n",
       "\t\tL386.3,77.6 L387.1,83.4 L387.9,90.8 L388.7,86.2 L389.5,72.6 L390.3,71.3 L391.1,95.9 L391.9,130.3\n",
       "\t\tL392.7,142.6 L393.5,121.2 L394.3,87.3 L395.1,70.5 L395.9,77.0 L396.7,88.8 L397.5,89.5 L398.2,82.3\n",
       "\t\tL399.0,79.4 L399.8,83.5 L400.6,86.6 L401.4,83.7 L402.2,80.0 L403.0,81.3 L403.8,85.0 L404.6,84.9\n",
       "\t\tL405.4,81.3 L406.2,80.3 L407.0,83.8 L407.8,86.1 L408.6,83.3 L409.4,79.9 L410.2,81.6 L411.0,85.9\n",
       "\t\tL411.8,85.2 L412.6,80.0 L413.4,79.0 L414.2,85.1 L414.9,88.3 L415.7,80.3 L416.5,71.9 L417.3,83.0\n",
       "\t\tL418.1,114.0 L418.9,137.7 L419.7,129.0 L420.5,96.1 L421.3,72.0 L422.1,74.6 L422.9,89.2 L423.7,91.9\n",
       "\t\tL424.5,81.9 L425.3,76.5 L426.1,83.2 L426.9,89.4 L427.7,84.7 L428.5,76.8 L429.3,78.8 L430.1,87.1\n",
       "\t\tL430.9,87.7 L431.6,79.2 L432.4,76.1 L433.2,84.9 L434.0,91.4 L434.8,82.3 L435.6,70.0 L436.4,79.5\n",
       "\t\tL437.2,111.8 L438.0,136.4 L438.8,127.0 L439.6,94.8 L440.4,73.2 L441.2,76.7 L442.0,88.5 L442.8,88.7\n",
       "\t\tL443.6,79.9 L444.4,77.2 L445.2,83.3 L446.0,87.1 L446.8,83.2 L447.5,79.0 L448.3,81.6 L449.1,86.2\n",
       "\t\tL449.9,85.1 L450.7,80.6 L451.5,80.4 L452.3,84.5 L453.1,85.3 L453.9,81.1 L454.7,79.1 L455.5,83.2\n",
       "\t\tL456.3,87.1 L457.1,84.0 L457.9,78.6 L458.7,79.6 L459.5,85.9 L460.3,87.5 L461.1,81.7 L461.9,77.6\n",
       "\t\tL462.7,82.0 L463.5,87.9 L464.2,85.4 L465.0,77.9 L465.8,77.3 L466.6,85.0 L467.4,89.2 L468.2,83.1\n",
       "\t\tL469.0,76.6 L469.8,81.0 L470.6,90.1 L471.4,88.1 L472.2,74.9 L473.0,70.5 L473.8,89.1 L474.6,117.6\n",
       "\t\tL475.4,129.1 L476.2,114.3 L477.0,89.6 L477.8,75.8 L478.6,76.8 L479.4,83.0 L480.2,86.2 L480.9,85.4\n",
       "\t\tL481.7,82.4 L482.5,79.3 L483.3,79.5 L484.1,84.4 L484.9,88.4 L485.7,83.9 L486.5,74.5 L487.3,75.6\n",
       "\t\tL488.1,95.2 L488.9,119.6 L489.7,125.6 L490.5,107.6 L491.3,84.1 L492.1,75.2 L492.9,80.9 L493.7,86.4\n",
       "\t\tL494.5,83.8 L495.3,79.1 L496.1,79.9 L496.8,84.0 L497.6,85.1 L498.4,82.9 L499.2,82.0 L500.0,83.5\n",
       "\t\tL500.8,84.1 L501.6,82.5 L502.4,81.3 L503.2,82.1 L504.0,82.9 L504.8,82.0 L505.6,81.6 L506.4,83.3\n",
       "\t\tL507.2,84.5 L508.0,82.6 L508.8,80.3 L509.6,82.2 L510.4,85.8 L511.2,83.6 L512.0,76.4 L512.8,76.6\n",
       "\t\tL513.5,93.5 L514.3,116.7 L515.1,124.1 L515.9,107.6 L516.7,83.1 L517.5,72.5 L518.3,78.8 L519.1,87.2\n",
       "\t\tL519.9,86.1 L520.7,80.1 L521.5,79.1 L522.3,83.9 L523.1,86.6 L523.9,83.6 L524.7,80.3 L525.5,81.5\n",
       "\t\tL526.3,84.6 L527.1,84.4 L527.9,81.0 L528.7,79.9 L529.5,82.8 L530.2,85.4 L531.0,83.6 L531.8,80.0\n",
       "\t\tL532.6,80.0 L533.4,83.7 L534.2,85.6 L535.0,82.2 L535.8,77.7 L536.6,78.9 L537.4,85.1 L538.2,87.8\n",
       "\t\tL539.0,81.8 L539.8,74.6 L540.6,79.7 L541.4,99.6 L542.2,118.9 L543.0,119.1 L543.8,99.3 L544.6,78.0\n",
       "\t\tL545.4,72.8 L546.1,81.4 L546.9,88.4 L547.7,85.2 L548.5,79.1 L549.3,79.8 L550.1,85.5 L550.9,86.9\n",
       "\t\tL551.7,82.0 L552.5,78.6 L553.3,81.5 L554.1,85.6 L554.9,84.1 L555.7,79.6 L556.5,79.7 L557.3,84.3\n",
       "\t\tL558.1,85.3 L558.9,80.2 L559.7,77.4 L560.5,82.7 L561.3,88.8 L562.1,84.7 L562.8,74.9 L563.6,77.0\n",
       "\t\tL564.4,97.5 L565.2,118.6 L566.0,117.7 L566.8,95.8 L567.6,76.4 L568.4,76.3 L569.2,86.5 L570.0,88.9\n",
       "\t\t '/></g>\n",
       "\t</g>\n",
       "<g fill=\"none\" color=\"black\" stroke=\"currentColor\" stroke-width=\"1.00\" stroke-linecap=\"butt\" stroke-linejoin=\"miter\">\n",
       "\t<path stroke='black'  d='M93.7,395.9 L104.2,395.9 M570.8,395.9 L560.3,395.9  '/>\t<g transform=\"translate(84.0,400.5)\" stroke=\"none\" fill=\"black\" font-family=\"Arial\" font-size=\"14.00\"  text-anchor=\"end\">\n",
       "\t\t<text><tspan font-family=\"Arial\" >-0.14</tspan></text>\n",
       "\t</g>\n",
       "</g>\n",
       "<g fill=\"none\" color=\"black\" stroke=\"currentColor\" stroke-width=\"1.00\" stroke-linecap=\"butt\" stroke-linejoin=\"miter\">\n",
       "\t<path stroke='black'  d='M93.7,351.2 L104.2,351.2 M570.8,351.2 L560.3,351.2  '/>\t<g transform=\"translate(84.0,355.8)\" stroke=\"none\" fill=\"black\" font-family=\"Arial\" font-size=\"14.00\"  text-anchor=\"end\">\n",
       "\t\t<text><tspan font-family=\"Arial\" >-0.12</tspan></text>\n",
       "\t</g>\n",
       "</g>\n",
       "<g fill=\"none\" color=\"black\" stroke=\"currentColor\" stroke-width=\"1.00\" stroke-linecap=\"butt\" stroke-linejoin=\"miter\">\n",
       "\t<path stroke='black'  d='M93.7,306.4 L104.2,306.4 M570.8,306.4 L560.3,306.4  '/>\t<g transform=\"translate(84.0,311.0)\" stroke=\"none\" fill=\"black\" font-family=\"Arial\" font-size=\"14.00\"  text-anchor=\"end\">\n",
       "\t\t<text><tspan font-family=\"Arial\" >-0.1</tspan></text>\n",
       "\t</g>\n",
       "</g>\n",
       "<g fill=\"none\" color=\"black\" stroke=\"currentColor\" stroke-width=\"1.00\" stroke-linecap=\"butt\" stroke-linejoin=\"miter\">\n",
       "\t<path stroke='black'  d='M93.7,261.7 L104.2,261.7 M570.8,261.7 L560.3,261.7  '/>\t<g transform=\"translate(84.0,266.3)\" stroke=\"none\" fill=\"black\" font-family=\"Arial\" font-size=\"14.00\"  text-anchor=\"end\">\n",
       "\t\t<text><tspan font-family=\"Arial\" >-0.08</tspan></text>\n",
       "\t</g>\n",
       "</g>\n",
       "<g fill=\"none\" color=\"black\" stroke=\"currentColor\" stroke-width=\"1.00\" stroke-linecap=\"butt\" stroke-linejoin=\"miter\">\n",
       "\t<path stroke='black'  d='M93.7,216.9 L104.2,216.9 M570.8,216.9 L560.3,216.9  '/>\t<g transform=\"translate(84.0,221.5)\" stroke=\"none\" fill=\"black\" font-family=\"Arial\" font-size=\"14.00\"  text-anchor=\"end\">\n",
       "\t\t<text><tspan font-family=\"Arial\" >-0.06</tspan></text>\n",
       "\t</g>\n",
       "</g>\n",
       "<g fill=\"none\" color=\"black\" stroke=\"currentColor\" stroke-width=\"1.00\" stroke-linecap=\"butt\" stroke-linejoin=\"miter\">\n",
       "\t<path stroke='black'  d='M93.7,172.2 L104.2,172.2 M570.8,172.2 L560.3,172.2  '/>\t<g transform=\"translate(84.0,176.8)\" stroke=\"none\" fill=\"black\" font-family=\"Arial\" font-size=\"14.00\"  text-anchor=\"end\">\n",
       "\t\t<text><tspan font-family=\"Arial\" >-0.04</tspan></text>\n",
       "\t</g>\n",
       "</g>\n",
       "<g fill=\"none\" color=\"black\" stroke=\"currentColor\" stroke-width=\"1.00\" stroke-linecap=\"butt\" stroke-linejoin=\"miter\">\n",
       "\t<path stroke='black'  d='M93.7,127.5 L104.2,127.5 M570.8,127.5 L560.3,127.5  '/>\t<g transform=\"translate(84.0,132.1)\" stroke=\"none\" fill=\"black\" font-family=\"Arial\" font-size=\"14.00\"  text-anchor=\"end\">\n",
       "\t\t<text><tspan font-family=\"Arial\" >-0.02</tspan></text>\n",
       "\t</g>\n",
       "</g>\n",
       "<g fill=\"none\" color=\"black\" stroke=\"currentColor\" stroke-width=\"1.00\" stroke-linecap=\"butt\" stroke-linejoin=\"miter\">\n",
       "\t<path stroke='black'  d='M93.7,82.7 L104.2,82.7 M570.8,82.7 L560.3,82.7  '/>\t<g transform=\"translate(84.0,87.3)\" stroke=\"none\" fill=\"black\" font-family=\"Arial\" font-size=\"14.00\"  text-anchor=\"end\">\n",
       "\t\t<text><tspan font-family=\"Arial\" > 0</tspan></text>\n",
       "\t</g>\n",
       "</g>\n",
       "<g fill=\"none\" color=\"black\" stroke=\"currentColor\" stroke-width=\"1.00\" stroke-linecap=\"butt\" stroke-linejoin=\"miter\">\n",
       "\t<path stroke='black'  d='M93.7,38.0 L104.2,38.0 M570.8,38.0 L560.3,38.0  '/>\t<g transform=\"translate(84.0,42.6)\" stroke=\"none\" fill=\"black\" font-family=\"Arial\" font-size=\"14.00\"  text-anchor=\"end\">\n",
       "\t\t<text><tspan font-family=\"Arial\" > 0.02</tspan></text>\n",
       "\t</g>\n",
       "</g>\n",
       "<g fill=\"none\" color=\"black\" stroke=\"currentColor\" stroke-width=\"1.00\" stroke-linecap=\"butt\" stroke-linejoin=\"miter\">\n",
       "\t<path stroke='black'  d='M93.7,395.9 L93.7,385.4 M93.7,38.0 L93.7,48.5  '/>\t<g transform=\"translate(93.7,421.5)\" stroke=\"none\" fill=\"black\" font-family=\"Arial\" font-size=\"14.00\"  text-anchor=\"middle\">\n",
       "\t\t<text><tspan font-family=\"Arial\" > 0</tspan></text>\n",
       "\t</g>\n",
       "</g>\n",
       "<g fill=\"none\" color=\"black\" stroke=\"currentColor\" stroke-width=\"1.00\" stroke-linecap=\"butt\" stroke-linejoin=\"miter\">\n",
       "\t<path stroke='black'  d='M173.2,395.9 L173.2,385.4 M173.2,38.0 L173.2,48.5  '/>\t<g transform=\"translate(173.2,421.5)\" stroke=\"none\" fill=\"black\" font-family=\"Arial\" font-size=\"14.00\"  text-anchor=\"middle\">\n",
       "\t\t<text><tspan font-family=\"Arial\" > 10</tspan></text>\n",
       "\t</g>\n",
       "</g>\n",
       "<g fill=\"none\" color=\"black\" stroke=\"currentColor\" stroke-width=\"1.00\" stroke-linecap=\"butt\" stroke-linejoin=\"miter\">\n",
       "\t<path stroke='black'  d='M252.7,395.9 L252.7,385.4 M252.7,38.0 L252.7,48.5  '/>\t<g transform=\"translate(252.7,421.5)\" stroke=\"none\" fill=\"black\" font-family=\"Arial\" font-size=\"14.00\"  text-anchor=\"middle\">\n",
       "\t\t<text><tspan font-family=\"Arial\" > 20</tspan></text>\n",
       "\t</g>\n",
       "</g>\n",
       "<g fill=\"none\" color=\"black\" stroke=\"currentColor\" stroke-width=\"1.00\" stroke-linecap=\"butt\" stroke-linejoin=\"miter\">\n",
       "\t<path stroke='black'  d='M332.3,395.9 L332.3,385.4 M332.3,38.0 L332.3,48.5  '/>\t<g transform=\"translate(332.3,421.5)\" stroke=\"none\" fill=\"black\" font-family=\"Arial\" font-size=\"14.00\"  text-anchor=\"middle\">\n",
       "\t\t<text><tspan font-family=\"Arial\" > 30</tspan></text>\n",
       "\t</g>\n",
       "</g>\n",
       "<g fill=\"none\" color=\"black\" stroke=\"currentColor\" stroke-width=\"1.00\" stroke-linecap=\"butt\" stroke-linejoin=\"miter\">\n",
       "\t<path stroke='black'  d='M411.8,395.9 L411.8,385.4 M411.8,38.0 L411.8,48.5  '/>\t<g transform=\"translate(411.8,421.5)\" stroke=\"none\" fill=\"black\" font-family=\"Arial\" font-size=\"14.00\"  text-anchor=\"middle\">\n",
       "\t\t<text><tspan font-family=\"Arial\" > 40</tspan></text>\n",
       "\t</g>\n",
       "</g>\n",
       "<g fill=\"none\" color=\"black\" stroke=\"currentColor\" stroke-width=\"1.00\" stroke-linecap=\"butt\" stroke-linejoin=\"miter\">\n",
       "\t<path stroke='black'  d='M491.3,395.9 L491.3,385.4 M491.3,38.0 L491.3,48.5  '/>\t<g transform=\"translate(491.3,421.5)\" stroke=\"none\" fill=\"black\" font-family=\"Arial\" font-size=\"14.00\"  text-anchor=\"middle\">\n",
       "\t\t<text><tspan font-family=\"Arial\" > 50</tspan></text>\n",
       "\t</g>\n",
       "</g>\n",
       "<g fill=\"none\" color=\"black\" stroke=\"currentColor\" stroke-width=\"1.00\" stroke-linecap=\"butt\" stroke-linejoin=\"miter\">\n",
       "\t<path stroke='black'  d='M570.8,395.9 L570.8,385.4 M570.8,38.0 L570.8,48.5  '/>\t<g transform=\"translate(570.8,421.5)\" stroke=\"none\" fill=\"black\" font-family=\"Arial\" font-size=\"14.00\"  text-anchor=\"middle\">\n",
       "\t\t<text><tspan font-family=\"Arial\" > 60</tspan></text>\n",
       "\t</g>\n",
       "</g>\n",
       "<g fill=\"none\" color=\"black\" stroke=\"currentColor\" stroke-width=\"1.00\" stroke-linecap=\"butt\" stroke-linejoin=\"miter\">\n",
       "</g>\n",
       "<g fill=\"none\" color=\"gray\" stroke=\"currentColor\" stroke-width=\"1.00\" stroke-linecap=\"butt\" stroke-linejoin=\"miter\">\n",
       "\t<path stroke='black' stroke-dasharray='2,4'  d='M93.7,82.7 L570.8,82.7  '/></g>\n",
       "<g fill=\"none\" color=\"gray\" stroke=\"currentColor\" stroke-width=\"1.00\" stroke-linecap=\"butt\" stroke-linejoin=\"miter\">\n",
       "\t<path stroke='black' stroke-dasharray='2,4'  d='M93.7,395.9 L93.7,38.0  '/></g>\n",
       "<g fill=\"none\" color=\"gray\" stroke=\"black\" stroke-width=\"2.00\" stroke-linecap=\"butt\" stroke-linejoin=\"miter\">\n",
       "</g>\n",
       "<g fill=\"none\" color=\"black\" stroke=\"currentColor\" stroke-width=\"2.00\" stroke-linecap=\"butt\" stroke-linejoin=\"miter\">\n",
       "</g>\n",
       "<g fill=\"none\" color=\"black\" stroke=\"black\" stroke-width=\"1.00\" stroke-linecap=\"butt\" stroke-linejoin=\"miter\">\n",
       "</g>\n",
       "<g fill=\"none\" color=\"black\" stroke=\"currentColor\" stroke-width=\"1.00\" stroke-linecap=\"butt\" stroke-linejoin=\"miter\">\n",
       "\t<path stroke='black'  d='M93.7,38.0 L93.7,395.9 L570.8,395.9 L570.8,38.0 L93.7,38.0 Z  '/></g>\n",
       "<g fill=\"none\" color=\"black\" stroke=\"currentColor\" stroke-width=\"1.00\" stroke-linecap=\"butt\" stroke-linejoin=\"miter\">\n",
       "</g>\n",
       "</g>\n",
       "</svg>\n",
       "\n"
      ],
      "text/plain": [
       "/tmp/maxplot.svg"
      ]
     },
     "metadata": {},
     "output_type": "display_data"
    },
    {
     "data": {
      "text/latex": [
       "\\[\\tag{${\\it \\%o}_{29}$}\\left[ \\mbox{ /tmp/maxout93.gnuplot } , \\mbox{ /tmp/maxplot.svg } \\right] \\]"
      ],
      "text/plain": [
       "(%o29)             [/tmp/maxout93.gnuplot, /tmp/maxplot.svg]"
      ],
      "text/x-maxima": [
       "[\"/tmp/maxout93.gnuplot\",\"/tmp/maxplot.svg\"]"
      ]
     },
     "execution_count": 20,
     "metadata": {},
     "output_type": "execute_result"
    }
   ],
   "source": [
    "plot2d([discrete,makelist(i*tres,i,0,length(errlist)-1),errlist/length(xlist)]);"
   ]
  },
  {
   "cell_type": "code",
   "execution_count": 28,
   "metadata": {},
   "outputs": [],
   "source": [
    "/*\n",
    "The LMFDB Collaboration, The L-functions and Modular Forms Database, \n",
    "home page of the Zeros of zeta(s),\n",
    "https://www.lmfdb.org/zeros/zeta/?limit=200&N=1, 2020 , [Online; accessed 10 October 2020].\n",
    "*/\n",
    "img_rho:[\n",
    "14.1347251417346937904572519835625,\n",
    "21.0220396387715549926284795938969,\n",
    "25.0108575801456887632137909925628,\n",
    "30.4248761258595132103118975305840,\n",
    "32.9350615877391896906623689640747,\n",
    "37.5861781588256712572177634807053,\n",
    "40.9187190121474951873981269146334,\n",
    "43.3270732809149995194961221654068,\n",
    "48.0051508811671597279424727494277,\n",
    "49.7738324776723021819167846785638,\n",
    "52.9703214777144606441472966088808,\n",
    "56.4462476970633948043677594767060,\n",
    "59.3470440026023530796536486749922\n",
    "]$\n",
    "/* The rest 187 zeros are omitted as we draw graph up to 1/2+60*%i. */"
   ]
  },
  {
   "cell_type": "code",
   "execution_count": 49,
   "metadata": {},
   "outputs": [
    {
     "data": {
      "image/svg+xml": [
       "<?xml version=\"1.0\" encoding=\"utf-8\"  standalone=\"no\"?>\n",
       "<svg \n",
       " width=\"600\" height=\"480\"\n",
       " viewBox=\"0 0 600 480\"\n",
       " xmlns=\"http://www.w3.org/2000/svg\"\n",
       " xmlns:xlink=\"http://www.w3.org/1999/xlink\"\n",
       ">\n",
       "\n",
       "<title>Gnuplot</title>\n",
       "<desc>Produced by GNUPLOT 5.2 patchlevel 8 </desc>\n",
       "\n",
       "<g id=\"gnuplot_canvas\">\n",
       "\n",
       "<rect x=\"0\" y=\"0\" width=\"600\" height=\"480\" fill=\"none\"/>\n",
       "<defs>\n",
       "\n",
       "\t<circle id='gpDot' r='0.5' stroke-width='0.5' stroke='currentColor'/>\n",
       "\t<path id='gpPt0' stroke-width='0.190' stroke='currentColor' d='M-1,0 h2 M0,-1 v2'/>\n",
       "\t<path id='gpPt1' stroke-width='0.190' stroke='currentColor' d='M-1,-1 L1,1 M1,-1 L-1,1'/>\n",
       "\t<path id='gpPt2' stroke-width='0.190' stroke='currentColor' d='M-1,0 L1,0 M0,-1 L0,1 M-1,-1 L1,1 M-1,1 L1,-1'/>\n",
       "\t<rect id='gpPt3' stroke-width='0.190' stroke='currentColor' x='-1' y='-1' width='2' height='2'/>\n",
       "\t<rect id='gpPt4' stroke-width='0.190' stroke='currentColor' fill='currentColor' x='-1' y='-1' width='2' height='2'/>\n",
       "\t<circle id='gpPt5' stroke-width='0.190' stroke='currentColor' cx='0' cy='0' r='1'/>\n",
       "\t<use xlink:href='#gpPt5' id='gpPt6' fill='currentColor' stroke='none'/>\n",
       "\t<path id='gpPt7' stroke-width='0.190' stroke='currentColor' d='M0,-1.33 L-1.33,0.67 L1.33,0.67 z'/>\n",
       "\t<use xlink:href='#gpPt7' id='gpPt8' fill='currentColor' stroke='none'/>\n",
       "\t<use xlink:href='#gpPt7' id='gpPt9' stroke='currentColor' transform='rotate(180)'/>\n",
       "\t<use xlink:href='#gpPt9' id='gpPt10' fill='currentColor' stroke='none'/>\n",
       "\t<use xlink:href='#gpPt3' id='gpPt11' stroke='currentColor' transform='rotate(45)'/>\n",
       "\t<use xlink:href='#gpPt11' id='gpPt12' fill='currentColor' stroke='none'/>\n",
       "\t<path id='gpPt13' stroke-width='0.190' stroke='currentColor' d='M0,1.330 L1.265,0.411 L0.782,-1.067 L-0.782,-1.076 L-1.265,0.411 z'/>\n",
       "\t<use xlink:href='#gpPt13' id='gpPt14' fill='currentColor' stroke='none'/>\n",
       "\t<filter id='textbox' filterUnits='objectBoundingBox' x='0' y='0' height='1' width='1'>\n",
       "\t  <feFlood flood-color='white' flood-opacity='1' result='bgnd'/>\n",
       "\t  <feComposite in='SourceGraphic' in2='bgnd' operator='atop'/>\n",
       "\t</filter>\n",
       "\t<filter id='greybox' filterUnits='objectBoundingBox' x='0' y='0' height='1' width='1'>\n",
       "\t  <feFlood flood-color='lightgrey' flood-opacity='1' result='grey'/>\n",
       "\t  <feComposite in='SourceGraphic' in2='grey' operator='atop'/>\n",
       "\t</filter>\n",
       "</defs>\n",
       "<g fill=\"none\" color=\"white\" stroke=\"currentColor\" stroke-width=\"1.00\" stroke-linecap=\"butt\" stroke-linejoin=\"miter\">\n",
       "</g>\n",
       "<g fill=\"none\" color=\"gray\" stroke=\"currentColor\" stroke-width=\"1.00\" stroke-linecap=\"butt\" stroke-linejoin=\"miter\">\n",
       "\t<path stroke='black' stroke-dasharray='2,4'  d='M72.7,89.5 L570.8,89.5  '/></g>\n",
       "<g fill=\"none\" color=\"gray\" stroke=\"currentColor\" stroke-width=\"1.00\" stroke-linecap=\"butt\" stroke-linejoin=\"miter\">\n",
       "\t<path stroke='black' stroke-dasharray='2,4'  d='M72.7,416.3 L72.7,42.8  '/></g>\n",
       "<g fill=\"none\" color=\"black\" stroke=\"currentColor\" stroke-width=\"1.00\" stroke-linecap=\"butt\" stroke-linejoin=\"miter\">\n",
       "\t<path stroke='black'  d='M72.7,42.8 L72.7,416.3 L570.8,416.3 L570.8,42.8 L72.7,42.8 Z  '/></g>\n",
       "<g fill=\"none\" color=\"black\" stroke=\"currentColor\" stroke-width=\"1.00\" stroke-linecap=\"butt\" stroke-linejoin=\"miter\">\n",
       "</g>\n",
       "\t<g id=\"gnuplot_plot_1\" ><title>gnuplot_plot_1</title>\n",
       "<g fill=\"none\" color=\"black\" stroke=\"currentColor\" stroke-width=\"1.00\" stroke-linecap=\"butt\" stroke-linejoin=\"miter\">\n",
       "\t<path stroke='rgb(  0,   0, 255)'  d='M72.7,89.5 L73.5,205.8 L74.4,300.4 L75.2,360.5 L76.0,386.4 L76.9,389.5 L77.7,382.7 L78.5,372.1\n",
       "\t\tL79.3,357.5 L80.2,339.3 L81.0,321.4 L81.8,306.8 L82.7,294.2 L83.5,280.6 L84.3,266.3 L85.2,254.6\n",
       "\t\tL86.0,246.2 L86.8,238.3 L87.6,228.3 L88.5,218.5 L89.3,212.1 L90.1,208.1 L91.0,202.7 L91.8,194.9\n",
       "\t\tL92.6,187.6 L93.5,183.5 L94.3,180.8 L95.1,176.8 L95.9,172.0 L96.8,168.7 L97.6,166.6 L98.4,163.3\n",
       "\t\tL99.3,158.3 L100.1,154.6 L100.9,154.0 L101.8,153.9 L102.6,150.9 L103.4,146.1 L104.2,143.1 L105.1,142.9\n",
       "\t\tL105.9,142.3 L106.7,139.3 L107.6,136.0 L108.4,135.1 L109.2,135.4 L110.1,134.2 L110.9,131.7 L111.7,130.8\n",
       "\t\tL112.5,131.5 L113.4,130.8 L114.2,127.3 L115.0,124.3 L115.9,124.7 L116.7,126.4 L117.5,124.8 L118.4,120.6\n",
       "\t\tL119.2,118.9 L120.0,121.5 L120.8,123.6 L121.7,121.1 L122.5,116.6 L123.3,115.6 L124.2,118.0 L125.0,118.4\n",
       "\t\tL125.8,114.9 L126.7,112.2 L127.5,114.1 L128.3,117.4 L129.2,116.4 L130.0,111.9 L130.8,109.8 L131.6,112.3\n",
       "\t\tL132.5,114.4 L133.3,112.2 L134.1,108.6 L135.0,108.7 L135.8,111.1 L136.6,111.0 L137.5,107.6 L138.3,105.8\n",
       "\t\tL139.1,108.1 L139.9,110.2 L140.8,108.3 L141.6,105.1 L142.4,105.6 L143.3,108.6 L144.1,108.5 L144.9,104.3\n",
       "\t\tL145.8,101.8 L146.6,104.3 L147.4,107.7 L148.2,106.7 L149.1,103.1 L149.9,102.9 L150.7,105.9 L151.6,106.2\n",
       "\t\tL152.4,101.9 L153.2,98.9 L154.1,101.8 L154.9,106.0 L155.7,104.8 L156.5,100.0 L157.4,99.1 L158.2,103.4\n",
       "\t\tL159.0,105.6 L159.9,101.4 L160.7,97.0 L161.5,99.1 L162.4,104.0 L163.2,103.5 L164.0,97.8 L164.8,96.0\n",
       "\t\tL165.7,101.2 L166.5,105.0 L167.3,101.0 L168.2,95.2 L169.0,96.8 L169.8,102.8 L170.7,102.8 L171.5,96.0\n",
       "\t\tL172.3,93.6 L173.2,100.2 L174.0,105.4 L174.8,99.8 L175.6,91.3 L176.5,93.9 L177.3,104.4 L178.1,105.5\n",
       "\t\tL179.0,93.6 L179.8,86.8 L180.6,97.4 L181.5,109.6 L182.3,101.9 L183.1,83.5 L183.9,84.4 L184.8,108.4\n",
       "\t\tL185.6,118.5 L186.4,90.1 L187.3,58.8 L188.1,86.7 L188.9,177.2 L189.8,253.9 L190.6,241.9 L191.4,154.7\n",
       "\t\tL192.2,77.2 L193.1,67.3 L193.9,100.5 L194.7,117.9 L195.6,101.7 L196.4,83.2 L197.2,88.0 L198.1,103.3\n",
       "\t\tL198.9,104.9 L199.7,93.5 L200.5,88.4 L201.4,95.7 L202.2,101.9 L203.0,97.5 L203.9,90.7 L204.7,92.2\n",
       "\t\tL205.5,98.6 L206.4,99.3 L207.2,93.7 L208.0,90.6 L208.8,93.9 L209.7,97.3 L210.5,95.5 L211.3,92.4\n",
       "\t\tL212.2,93.3 L213.0,96.4 L213.8,96.3 L214.7,93.3 L215.5,92.2 L216.3,94.1 L217.1,95.3 L218.0,93.9\n",
       "\t\tL218.8,93.0 L219.6,94.7 L220.5,96.1 L221.3,94.5 L222.1,92.3 L223.0,93.2 L223.8,95.9 L224.6,95.8\n",
       "\t\tL225.5,93.0 L226.3,92.1 L227.1,94.4 L227.9,95.7 L228.8,93.1 L229.6,90.5 L230.4,92.1 L231.3,94.9\n",
       "\t\tL232.1,94.0 L232.9,90.9 L233.8,91.8 L234.6,96.4 L235.4,97.1 L236.2,91.8 L237.1,88.8 L237.9,93.8\n",
       "\t\tL238.7,98.9 L239.6,93.8 L240.4,84.6 L241.2,87.0 L242.1,100.6 L242.9,103.6 L243.7,84.6 L244.5,68.9\n",
       "\t\tL245.4,93.6 L246.2,155.1 L247.0,200.9 L247.9,185.5 L248.7,123.9 L249.5,74.5 L250.4,72.6 L251.2,97.4\n",
       "\t\tL252.0,107.9 L252.8,94.9 L253.7,82.5 L254.5,87.9 L255.3,99.6 L256.2,99.1 L257.0,88.5 L257.8,84.4\n",
       "\t\tL258.7,91.9 L259.5,98.8 L260.3,95.2 L261.1,87.7 L262.0,87.9 L262.8,95.0 L263.6,98.0 L264.5,92.3\n",
       "\t\tL265.3,86.4 L266.1,88.8 L267.0,95.5 L267.8,96.6 L268.6,90.4 L269.4,86.2 L270.3,90.7 L271.1,98.1\n",
       "\t\tL271.9,97.2 L272.8,87.8 L273.6,82.5 L274.4,90.2 L275.3,101.5 L276.1,98.5 L276.9,80.8 L277.8,73.2\n",
       "\t\tL278.6,99.7 L279.4,149.8 L280.2,181.8 L281.1,164.8 L281.9,114.1 L282.7,75.5 L283.6,75.4 L284.4,96.6\n",
       "\t\tL285.2,105.5 L286.1,93.8 L286.9,81.8 L287.7,85.7 L288.5,97.1 L289.4,98.5 L290.2,89.5 L291.0,84.4\n",
       "\t\tL291.9,90.0 L292.7,96.4 L293.5,94.0 L294.4,87.5 L295.2,87.5 L296.0,93.5 L296.8,95.7 L297.7,90.4\n",
       "\t\tL298.5,85.7 L299.3,88.7 L300.2,94.7 L301.0,94.9 L301.8,89.8 L302.7,87.5 L303.5,91.1 L304.3,94.3\n",
       "\t\tL305.1,92.0 L306.0,87.9 L306.8,88.6 L307.6,93.2 L308.5,94.9 L309.3,91.4 L310.1,88.1 L311.0,89.6\n",
       "\t\tL311.8,93.0 L312.6,92.8 L313.4,89.1 L314.3,87.5 L315.1,90.7 L315.9,94.5 L316.8,93.2 L317.6,87.8\n",
       "\t\tL318.4,85.3 L319.3,90.0 L320.1,96.4 L320.9,94.7 L321.8,83.5 L322.6,77.6 L323.4,94.5 L324.2,132.0\n",
       "\t\tL325.1,162.2 L325.9,156.4 L326.7,117.3 L327.6,79.4 L328.4,72.7 L329.2,90.8 L330.1,103.1 L330.9,94.6\n",
       "\t\tL331.7,81.5 L332.5,84.0 L333.4,97.1 L334.2,100.1 L335.0,88.7 L335.9,81.0 L336.7,89.0 L337.5,99.6\n",
       "\t\tL338.4,94.9 L339.2,81.4 L340.0,80.9 L340.8,96.3 L341.7,103.8 L342.5,88.2 L343.3,70.8 L344.2,85.0\n",
       "\t\tL345.0,129.0 L345.8,162.1 L346.7,151.4 L347.5,110.7 L348.3,80.7 L349.1,80.5 L350.0,93.3 L350.8,96.4\n",
       "\t\tL351.6,89.4 L352.5,86.3 L353.3,90.9 L354.1,94.2 L355.0,90.9 L355.8,87.4 L356.6,89.3 L357.4,92.9\n",
       "\t\tL358.3,91.8 L359.1,87.9 L359.9,87.8 L360.8,91.5 L361.6,93.0 L362.4,90.1 L363.3,87.9 L364.1,89.9\n",
       "\t\tL364.9,92.5 L365.7,91.1 L366.6,88.3 L367.4,89.0 L368.2,92.2 L369.1,92.1 L369.9,88.1 L370.7,86.4\n",
       "\t\tL371.6,90.2 L372.4,93.7 L373.2,91.2 L374.1,86.5 L374.9,87.5 L375.7,93.2 L376.5,94.3 L377.4,88.1\n",
       "\t\tL378.2,84.1 L379.0,90.1 L379.9,97.9 L380.7,93.1 L381.5,78.9 L382.4,77.5 L383.2,103.2 L384.0,139.1\n",
       "\t\tL384.8,152.0 L385.7,129.6 L386.5,94.3 L387.3,76.8 L388.2,83.5 L389.0,95.8 L389.8,96.5 L390.7,89.0\n",
       "\t\tL391.5,86.0 L392.3,90.3 L393.1,93.5 L394.0,90.5 L394.8,86.7 L395.6,88.0 L396.5,91.9 L397.3,91.8\n",
       "\t\tL398.1,88.0 L399.0,86.9 L399.8,90.6 L400.6,93.0 L401.4,90.1 L402.3,86.5 L403.1,88.3 L403.9,92.8\n",
       "\t\tL404.8,92.1 L405.6,86.7 L406.4,85.6 L407.3,92.0 L408.1,95.3 L408.9,87.0 L409.7,78.2 L410.6,89.8\n",
       "\t\tL411.4,122.1 L412.2,146.8 L413.1,137.8 L413.9,103.5 L414.7,78.2 L415.6,81.0 L416.4,96.2 L417.2,99.1\n",
       "\t\tL418.0,88.6 L418.9,83.0 L419.7,89.9 L420.5,96.5 L421.4,91.5 L422.2,83.3 L423.0,85.3 L423.9,94.0\n",
       "\t\tL424.7,94.7 L425.5,85.8 L426.4,82.6 L427.2,91.7 L428.0,98.5 L428.8,89.1 L429.7,76.2 L430.5,86.1\n",
       "\t\tL431.3,119.8 L432.2,145.5 L433.0,135.7 L433.8,102.1 L434.7,79.5 L435.5,83.2 L436.3,95.5 L437.1,95.7\n",
       "\t\tL438.0,86.6 L438.8,83.7 L439.6,90.1 L440.5,94.1 L441.3,89.9 L442.1,85.6 L443.0,88.4 L443.8,93.1\n",
       "\t\tL444.6,92.0 L445.4,87.3 L446.3,87.1 L447.1,91.3 L447.9,92.1 L448.8,87.8 L449.6,85.7 L450.4,90.0\n",
       "\t\tL451.3,94.0 L452.1,90.8 L452.9,85.2 L453.7,86.2 L454.6,92.8 L455.4,94.5 L456.2,88.4 L457.1,84.1\n",
       "\t\tL457.9,88.7 L458.7,94.8 L459.6,92.3 L460.4,84.5 L461.2,83.8 L462.0,91.9 L462.9,96.2 L463.7,89.9\n",
       "\t\tL464.5,83.1 L465.4,87.6 L466.2,97.1 L467.0,95.1 L467.9,81.3 L468.7,76.7 L469.5,96.1 L470.3,125.8\n",
       "\t\tL471.2,137.9 L472.0,122.4 L472.8,96.6 L473.7,82.2 L474.5,83.3 L475.3,89.8 L476.2,93.1 L477.0,92.2\n",
       "\t\tL477.8,89.1 L478.7,85.9 L479.5,86.1 L480.3,91.2 L481.1,95.4 L482.0,90.7 L482.8,80.9 L483.6,82.0\n",
       "\t\tL484.5,102.5 L485.3,128.0 L486.1,134.2 L487.0,115.5 L487.8,90.9 L488.6,81.6 L489.4,87.5 L490.3,93.3\n",
       "\t\tL491.1,90.6 L491.9,85.7 L492.8,86.5 L493.6,90.8 L494.4,92.0 L495.3,89.7 L496.1,88.7 L496.9,90.2\n",
       "\t\tL497.7,91.0 L498.6,89.3 L499.4,88.0 L500.2,88.8 L501.1,89.6 L501.9,88.8 L502.7,88.3 L503.6,90.1\n",
       "\t\tL504.4,91.3 L505.2,89.3 L506.0,87.0 L506.9,88.9 L507.7,92.7 L508.5,90.4 L509.4,82.8 L510.2,83.1\n",
       "\t\tL511.0,100.8 L511.9,124.9 L512.7,132.7 L513.5,115.4 L514.3,89.9 L515.2,78.8 L516.0,85.4 L516.8,94.1\n",
       "\t\tL517.7,93.0 L518.5,86.7 L519.3,85.7 L520.2,90.7 L521.0,93.5 L521.8,90.4 L522.7,86.9 L523.5,88.2\n",
       "\t\tL524.3,91.5 L525.1,91.2 L526.0,87.7 L526.8,86.5 L527.6,89.6 L528.5,92.3 L529.3,90.4 L530.1,86.6\n",
       "\t\tL531.0,86.6 L531.8,90.5 L532.6,92.5 L533.4,88.9 L534.3,84.2 L535.1,85.5 L535.9,92.0 L536.8,94.8\n",
       "\t\tL537.6,88.5 L538.4,81.0 L539.3,86.4 L540.1,107.1 L540.9,127.2 L541.7,127.4 L542.6,106.7 L543.4,84.6\n",
       "\t\tL544.2,79.1 L545.1,88.1 L545.9,95.4 L546.7,92.1 L547.6,85.7 L548.4,86.5 L549.2,92.4 L550.0,93.9\n",
       "\t\tL550.9,88.7 L551.7,85.1 L552.5,88.2 L553.4,92.5 L554.2,90.9 L555.0,86.2 L555.9,86.3 L556.7,91.1\n",
       "\t\tL557.5,92.1 L558.3,86.9 L559.2,83.9 L560.0,89.5 L560.8,95.9 L561.7,91.6 L562.5,81.3 L563.3,83.5\n",
       "\t\tL564.2,104.9 L565.0,126.9 L565.8,125.9 L566.6,103.1 L567.5,82.9 L568.3,82.7 L569.1,93.4 L570.0,95.9\n",
       "\t\t '/></g>\n",
       "\t</g>\n",
       "\t<g id=\"gnuplot_plot_2\" ><title>gnuplot_plot_2</title>\n",
       "<g fill=\"none\" color=\"black\" stroke=\"currentColor\" stroke-width=\"1.00\" stroke-linecap=\"butt\" stroke-linejoin=\"miter\">\n",
       "\t<use xlink:href='#gpPt4' transform='translate(190.0,89.5) scale(2.62)' color='rgb(255,   0,   0)'/>\n",
       "\t<use xlink:href='#gpPt4' transform='translate(247.2,89.5) scale(2.62)' color='rgb(255,   0,   0)'/>\n",
       "\t<use xlink:href='#gpPt4' transform='translate(280.3,89.5) scale(2.62)' color='rgb(255,   0,   0)'/>\n",
       "\t<use xlink:href='#gpPt4' transform='translate(325.3,89.5) scale(2.62)' color='rgb(255,   0,   0)'/>\n",
       "\t<use xlink:href='#gpPt4' transform='translate(346.1,89.5) scale(2.62)' color='rgb(255,   0,   0)'/>\n",
       "\t<use xlink:href='#gpPt4' transform='translate(384.7,89.5) scale(2.62)' color='rgb(255,   0,   0)'/>\n",
       "\t<use xlink:href='#gpPt4' transform='translate(412.4,89.5) scale(2.62)' color='rgb(255,   0,   0)'/>\n",
       "\t<use xlink:href='#gpPt4' transform='translate(432.4,89.5) scale(2.62)' color='rgb(255,   0,   0)'/>\n",
       "\t<use xlink:href='#gpPt4' transform='translate(471.2,89.5) scale(2.62)' color='rgb(255,   0,   0)'/>\n",
       "\t<use xlink:href='#gpPt4' transform='translate(485.9,89.5) scale(2.62)' color='rgb(255,   0,   0)'/>\n",
       "\t<use xlink:href='#gpPt4' transform='translate(512.4,89.5) scale(2.62)' color='rgb(255,   0,   0)'/>\n",
       "\t<use xlink:href='#gpPt4' transform='translate(541.3,89.5) scale(2.62)' color='rgb(255,   0,   0)'/>\n",
       "\t<use xlink:href='#gpPt4' transform='translate(565.4,89.5) scale(2.62)' color='rgb(255,   0,   0)'/>\n",
       "</g>\n",
       "\t</g>\n",
       "<g fill=\"none\" color=\"black\" stroke=\"currentColor\" stroke-width=\"1.00\" stroke-linecap=\"butt\" stroke-linejoin=\"miter\">\n",
       "\t<path stroke='black'  d='M72.7,416.3 L83.2,416.3 M570.8,416.3 L560.3,416.3  '/>\t<g transform=\"translate(63.0,420.9)\" stroke=\"none\" fill=\"black\" font-family=\"Arial\" font-size=\"14.00\"  text-anchor=\"end\">\n",
       "\t\t<text><tspan font-family=\"Arial\" >-0.14</tspan></text>\n",
       "\t</g>\n",
       "</g>\n",
       "<g fill=\"none\" color=\"black\" stroke=\"currentColor\" stroke-width=\"1.00\" stroke-linecap=\"butt\" stroke-linejoin=\"miter\">\n",
       "\t<path stroke='black'  d='M72.7,369.6 L83.2,369.6 M570.8,369.6 L560.3,369.6  '/>\t<g transform=\"translate(63.0,374.2)\" stroke=\"none\" fill=\"black\" font-family=\"Arial\" font-size=\"14.00\"  text-anchor=\"end\">\n",
       "\t\t<text><tspan font-family=\"Arial\" >-0.12</tspan></text>\n",
       "\t</g>\n",
       "</g>\n",
       "<g fill=\"none\" color=\"black\" stroke=\"currentColor\" stroke-width=\"1.00\" stroke-linecap=\"butt\" stroke-linejoin=\"miter\">\n",
       "\t<path stroke='black'  d='M72.7,322.9 L83.2,322.9 M570.8,322.9 L560.3,322.9  '/>\t<g transform=\"translate(63.0,327.5)\" stroke=\"none\" fill=\"black\" font-family=\"Arial\" font-size=\"14.00\"  text-anchor=\"end\">\n",
       "\t\t<text><tspan font-family=\"Arial\" >-0.1</tspan></text>\n",
       "\t</g>\n",
       "</g>\n",
       "<g fill=\"none\" color=\"black\" stroke=\"currentColor\" stroke-width=\"1.00\" stroke-linecap=\"butt\" stroke-linejoin=\"miter\">\n",
       "\t<path stroke='black'  d='M72.7,276.2 L83.2,276.2 M570.8,276.2 L560.3,276.2  '/>\t<g transform=\"translate(63.0,280.8)\" stroke=\"none\" fill=\"black\" font-family=\"Arial\" font-size=\"14.00\"  text-anchor=\"end\">\n",
       "\t\t<text><tspan font-family=\"Arial\" >-0.08</tspan></text>\n",
       "\t</g>\n",
       "</g>\n",
       "<g fill=\"none\" color=\"black\" stroke=\"currentColor\" stroke-width=\"1.00\" stroke-linecap=\"butt\" stroke-linejoin=\"miter\">\n",
       "\t<path stroke='black'  d='M72.7,229.5 L83.2,229.5 M570.8,229.5 L560.3,229.5  '/>\t<g transform=\"translate(63.0,234.1)\" stroke=\"none\" fill=\"black\" font-family=\"Arial\" font-size=\"14.00\"  text-anchor=\"end\">\n",
       "\t\t<text><tspan font-family=\"Arial\" >-0.06</tspan></text>\n",
       "\t</g>\n",
       "</g>\n",
       "<g fill=\"none\" color=\"black\" stroke=\"currentColor\" stroke-width=\"1.00\" stroke-linecap=\"butt\" stroke-linejoin=\"miter\">\n",
       "\t<path stroke='black'  d='M72.7,182.9 L83.2,182.9 M570.8,182.9 L560.3,182.9  '/>\t<g transform=\"translate(63.0,187.5)\" stroke=\"none\" fill=\"black\" font-family=\"Arial\" font-size=\"14.00\"  text-anchor=\"end\">\n",
       "\t\t<text><tspan font-family=\"Arial\" >-0.04</tspan></text>\n",
       "\t</g>\n",
       "</g>\n",
       "<g fill=\"none\" color=\"black\" stroke=\"currentColor\" stroke-width=\"1.00\" stroke-linecap=\"butt\" stroke-linejoin=\"miter\">\n",
       "\t<path stroke='black'  d='M72.7,136.2 L83.2,136.2 M570.8,136.2 L560.3,136.2  '/>\t<g transform=\"translate(63.0,140.8)\" stroke=\"none\" fill=\"black\" font-family=\"Arial\" font-size=\"14.00\"  text-anchor=\"end\">\n",
       "\t\t<text><tspan font-family=\"Arial\" >-0.02</tspan></text>\n",
       "\t</g>\n",
       "</g>\n",
       "<g fill=\"none\" color=\"black\" stroke=\"currentColor\" stroke-width=\"1.00\" stroke-linecap=\"butt\" stroke-linejoin=\"miter\">\n",
       "\t<path stroke='black'  d='M72.7,89.5 L83.2,89.5 M570.8,89.5 L560.3,89.5  '/>\t<g transform=\"translate(63.0,94.1)\" stroke=\"none\" fill=\"black\" font-family=\"Arial\" font-size=\"14.00\"  text-anchor=\"end\">\n",
       "\t\t<text><tspan font-family=\"Arial\" > 0</tspan></text>\n",
       "\t</g>\n",
       "</g>\n",
       "<g fill=\"none\" color=\"black\" stroke=\"currentColor\" stroke-width=\"1.00\" stroke-linecap=\"butt\" stroke-linejoin=\"miter\">\n",
       "\t<path stroke='black'  d='M72.7,42.8 L83.2,42.8 M570.8,42.8 L560.3,42.8  '/>\t<g transform=\"translate(63.0,47.4)\" stroke=\"none\" fill=\"black\" font-family=\"Arial\" font-size=\"14.00\"  text-anchor=\"end\">\n",
       "\t\t<text><tspan font-family=\"Arial\" > 0.02</tspan></text>\n",
       "\t</g>\n",
       "</g>\n",
       "<g fill=\"none\" color=\"black\" stroke=\"currentColor\" stroke-width=\"1.00\" stroke-linecap=\"butt\" stroke-linejoin=\"miter\">\n",
       "\t<path stroke='black'  d='M72.7,416.3 L72.7,405.8 M72.7,42.8 L72.7,53.3  '/>\t<g transform=\"translate(72.7,441.9)\" stroke=\"none\" fill=\"black\" font-family=\"Arial\" font-size=\"14.00\"  text-anchor=\"middle\">\n",
       "\t\t<text><tspan font-family=\"Arial\" > 0</tspan></text>\n",
       "\t</g>\n",
       "</g>\n",
       "<g fill=\"none\" color=\"black\" stroke=\"currentColor\" stroke-width=\"1.00\" stroke-linecap=\"butt\" stroke-linejoin=\"miter\">\n",
       "\t<path stroke='black'  d='M155.7,416.3 L155.7,405.8 M155.7,42.8 L155.7,53.3  '/>\t<g transform=\"translate(155.7,441.9)\" stroke=\"none\" fill=\"black\" font-family=\"Arial\" font-size=\"14.00\"  text-anchor=\"middle\">\n",
       "\t\t<text><tspan font-family=\"Arial\" > 10</tspan></text>\n",
       "\t</g>\n",
       "</g>\n",
       "<g fill=\"none\" color=\"black\" stroke=\"currentColor\" stroke-width=\"1.00\" stroke-linecap=\"butt\" stroke-linejoin=\"miter\">\n",
       "\t<path stroke='black'  d='M238.7,416.3 L238.7,405.8 M238.7,42.8 L238.7,53.3  '/>\t<g transform=\"translate(238.7,441.9)\" stroke=\"none\" fill=\"black\" font-family=\"Arial\" font-size=\"14.00\"  text-anchor=\"middle\">\n",
       "\t\t<text><tspan font-family=\"Arial\" > 20</tspan></text>\n",
       "\t</g>\n",
       "</g>\n",
       "<g fill=\"none\" color=\"black\" stroke=\"currentColor\" stroke-width=\"1.00\" stroke-linecap=\"butt\" stroke-linejoin=\"miter\">\n",
       "\t<path stroke='black'  d='M321.8,416.3 L321.8,405.8 M321.8,42.8 L321.8,53.3  '/>\t<g transform=\"translate(321.8,441.9)\" stroke=\"none\" fill=\"black\" font-family=\"Arial\" font-size=\"14.00\"  text-anchor=\"middle\">\n",
       "\t\t<text><tspan font-family=\"Arial\" > 30</tspan></text>\n",
       "\t</g>\n",
       "</g>\n",
       "<g fill=\"none\" color=\"black\" stroke=\"currentColor\" stroke-width=\"1.00\" stroke-linecap=\"butt\" stroke-linejoin=\"miter\">\n",
       "\t<path stroke='black'  d='M404.8,416.3 L404.8,405.8 M404.8,42.8 L404.8,53.3  '/>\t<g transform=\"translate(404.8,441.9)\" stroke=\"none\" fill=\"black\" font-family=\"Arial\" font-size=\"14.00\"  text-anchor=\"middle\">\n",
       "\t\t<text><tspan font-family=\"Arial\" > 40</tspan></text>\n",
       "\t</g>\n",
       "</g>\n",
       "<g fill=\"none\" color=\"black\" stroke=\"currentColor\" stroke-width=\"1.00\" stroke-linecap=\"butt\" stroke-linejoin=\"miter\">\n",
       "\t<path stroke='black'  d='M487.8,416.3 L487.8,405.8 M487.8,42.8 L487.8,53.3  '/>\t<g transform=\"translate(487.8,441.9)\" stroke=\"none\" fill=\"black\" font-family=\"Arial\" font-size=\"14.00\"  text-anchor=\"middle\">\n",
       "\t\t<text><tspan font-family=\"Arial\" > 50</tspan></text>\n",
       "\t</g>\n",
       "</g>\n",
       "<g fill=\"none\" color=\"black\" stroke=\"currentColor\" stroke-width=\"1.00\" stroke-linecap=\"butt\" stroke-linejoin=\"miter\">\n",
       "\t<path stroke='black'  d='M570.8,416.3 L570.8,405.8 M570.8,42.8 L570.8,53.3  '/>\t<g transform=\"translate(570.8,441.9)\" stroke=\"none\" fill=\"black\" font-family=\"Arial\" font-size=\"14.00\"  text-anchor=\"middle\">\n",
       "\t\t<text><tspan font-family=\"Arial\" > 60</tspan></text>\n",
       "\t</g>\n",
       "</g>\n",
       "<g fill=\"none\" color=\"black\" stroke=\"currentColor\" stroke-width=\"1.00\" stroke-linecap=\"butt\" stroke-linejoin=\"miter\">\n",
       "</g>\n",
       "<g fill=\"none\" color=\"gray\" stroke=\"currentColor\" stroke-width=\"1.00\" stroke-linecap=\"butt\" stroke-linejoin=\"miter\">\n",
       "\t<path stroke='black' stroke-dasharray='2,4'  d='M72.7,89.5 L570.8,89.5  '/></g>\n",
       "<g fill=\"none\" color=\"gray\" stroke=\"currentColor\" stroke-width=\"1.00\" stroke-linecap=\"butt\" stroke-linejoin=\"miter\">\n",
       "\t<path stroke='black' stroke-dasharray='2,4'  d='M72.7,416.3 L72.7,42.8  '/></g>\n",
       "<g fill=\"none\" color=\"gray\" stroke=\"black\" stroke-width=\"2.00\" stroke-linecap=\"butt\" stroke-linejoin=\"miter\">\n",
       "</g>\n",
       "<g fill=\"none\" color=\"black\" stroke=\"currentColor\" stroke-width=\"2.00\" stroke-linecap=\"butt\" stroke-linejoin=\"miter\">\n",
       "</g>\n",
       "<g fill=\"none\" color=\"black\" stroke=\"black\" stroke-width=\"1.00\" stroke-linecap=\"butt\" stroke-linejoin=\"miter\">\n",
       "</g>\n",
       "<g fill=\"none\" color=\"black\" stroke=\"currentColor\" stroke-width=\"1.00\" stroke-linecap=\"butt\" stroke-linejoin=\"miter\">\n",
       "\t<path stroke='black'  d='M72.7,42.8 L72.7,416.3 L570.8,416.3 L570.8,42.8 L72.7,42.8 Z  '/></g>\n",
       "<g fill=\"none\" color=\"black\" stroke=\"currentColor\" stroke-width=\"1.00\" stroke-linecap=\"butt\" stroke-linejoin=\"miter\">\n",
       "</g>\n",
       "</g>\n",
       "</svg>\n",
       "\n"
      ],
      "text/plain": [
       "/tmp/maxplot.svg"
      ]
     },
     "metadata": {},
     "output_type": "display_data"
    },
    {
     "data": {
      "text/latex": [
       "\\[\\tag{${\\it \\%o}_{55}$}\\left[ \\mbox{ /tmp/maxout93.gnuplot } , \\mbox{ /tmp/maxplot.svg } \\right] \\]"
      ],
      "text/plain": [
       "(%o55)             [/tmp/maxout93.gnuplot, /tmp/maxplot.svg]"
      ],
      "text/x-maxima": [
       "[\"/tmp/maxout93.gnuplot\",\"/tmp/maxplot.svg\"]"
      ]
     },
     "execution_count": 49,
     "metadata": {},
     "output_type": "execute_result"
    }
   ],
   "source": [
    "plot2d([[discrete,makelist(i*tres,i,0,length(errlist)-1),errlist/length(xlist)],[discrete,makelist([img_rho[i],0],i,1,13)]],\n",
    "[style,[lines],[points,1]],[legend,false]);"
   ]
  },
  {
   "cell_type": "code",
   "execution_count": null,
   "metadata": {},
   "outputs": [],
   "source": []
  }
 ],
 "metadata": {
  "kernelspec": {
   "display_name": "Maxima",
   "language": "maxima",
   "name": "maxima"
  },
  "language_info": {
   "codemirror_mode": "maxima",
   "file_extension": ".mac",
   "mimetype": "text/x-maxima",
   "name": "maxima",
   "pygments_lexer": "maxima",
   "version": "5.44.0"
  }
 },
 "nbformat": 4,
 "nbformat_minor": 4
}
